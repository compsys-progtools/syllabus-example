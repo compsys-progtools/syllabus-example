{
 "cells": [
  {
   "cell_type": "markdown",
   "id": "fa6b2857",
   "metadata": {},
   "source": [
    "# Badge Calculations \n",
    "\n",
    "```{important} \n",
    "This page is generated with code and calculations, you can view them for more precise implementations of what the english sentences mean. \n",
    "```"
   ]
  },
  {
   "cell_type": "code",
   "execution_count": 50,
   "id": "51238030",
   "metadata": {
    "tags": [
     "hide-input"
    ]
   },
   "outputs": [],
   "source": [
    "import os\n",
    "from datetime import date,timedelta\n",
    "import calendar\n",
    "import pandas as pd\n",
    "import numpy as np\n",
    "import seaborn as sns\n",
    "\n",
    "from myst_nb import glue\n",
    "import plotly.express as px\n",
    "# learning complexities\n",
    "weights_mrw = {'experience' :2,'review': 3,'practice': 6,'explore': 9,'build' :36}\n",
    "# base grade influence cutoffs\n",
    "thresh_mrw = {'D ':22*weights_mrw['experience'], 'C ':22*weights_mrw['experience']+18*weights_mrw['review'],\n",
    "          'B ':22*weights_mrw['experience']+18*weights_mrw['practice'],\n",
    "          'A ': 22*weights_mrw['experience']+18*weights_mrw['practice'] + 6*weights_mrw['explore']}\n",
    "\n",
    "examples_mrw = [[22,0,0,0,0],[23,18,0,0,0],[22,24,0,0,0],[24,18,6,0,0],\n",
    "                [22,18,0,0,1],[26,0,18,0,0],[24,12,12,0,0],[24,0,24,0,0],\n",
    "                [25,0,18,6,0],[25,0,18,4,0],[24,0,18,0,1],\n",
    "                [22,18,0,0,3],[24,6,12,4,1],[24,12,6,2,2],[24,0,24,2,0]]\n",
    "\n",
    "ex_df_mrw = pd.DataFrame(data=examples_mrw,columns = weights_mrw.keys())\n",
    "w_df_mrw = pd.DataFrame(data=[(ex_df_mrw[col]*weights_mrw[col]) for col in weights_mrw]).T.rename(columns=lambda col:col + '_weight')\n",
    "w_df_mrw['total'] = w_df_mrw.sum(axis=1)\n",
    "# [ex_df[col]*weights[col] for col in weights]\n",
    "# columns = [col + '_weight' for col in weights ]\n",
    "badge_thresh_df_mrw = pd.concat([ex_df_mrw,w_df_mrw],axis=1).reset_index()\n",
    "\n",
    "\n",
    "delta = thresh_mrw['C ']-thresh_mrw['D ']\n",
    "minus_thresh = {k.strip()+'-':int(v-delta/3) for k,v in thresh_mrw.items()}\n",
    "minus_thresh\n",
    "\n",
    "plus_thresh = {k.strip()+'+':int(v+delta/3) for k,v in thresh_mrw.items()}\n",
    "\n",
    "# calculate the final thresholds for all leter grades\n",
    "thresh_mrw.update(minus_thresh)\n",
    "thresh_mrw.update(plus_thresh)\n",
    "thresh_mrw.pop('A+');\n",
    "thresh_mrw.pop('D-');\n",
    "\n",
    "ind_badges_mrw = [[exid,bt,bw,bc,1] for i,ex in enumerate(examples_mrw) for bc,(bt,bw) in zip(ex,weights_mrw.items()) \n",
    "                                      for exid in bc*[i]]\n",
    "per_badge_df_mrw = pd.DataFrame(ind_badges_mrw,columns=['example','badge','complexity','count','weight'])\n",
    "\n",
    "# weight community badges, \n",
    "community_weights = {'plus': 3*weights_mrw['practice']/10,'experience_makeup':weights_mrw['experience']/3,\n",
    "                    'review_makeup':weights_mrw['review']/4,\n",
    "                     'review_upgrade': (weights_mrw['practice']-weights_mrw['review'])/3,\n",
    "                    'practice_makeup':weights_mrw['practice']/7}\n",
    "\n",
    "learning_df = pd.Series(weights_mrw,name ='complexity').reset_index()\n",
    "learning_df['badge_type'] = 'learning'\n",
    "comm_df  = pd.Series(community_weights,name='weight').reset_index()\n",
    "comm_df['badge_type'] = 'community'\n",
    "# nans are for learning badges which all ahve weight 1\n",
    "influence_df = pd.concat([learning_df,comm_df]).fillna(1).rename(columns={'index':'badge'})\n",
    "# final df\n",
    "influence_df['influence'] = influence_df['complexity']*influence_df['weight']"
   ]
  },
  {
   "cell_type": "markdown",
   "id": "b94113b6",
   "metadata": {},
   "source": [
    "Grade cutoffs for total influence are:"
   ]
  },
  {
   "cell_type": "code",
   "execution_count": 51,
   "id": "c6f0b2ef",
   "metadata": {
    "tags": [
     "hide-input"
    ]
   },
   "outputs": [
    {
     "data": {
      "text/html": [
       "<div>\n",
       "<style scoped>\n",
       "    .dataframe tbody tr th:only-of-type {\n",
       "        vertical-align: middle;\n",
       "    }\n",
       "\n",
       "    .dataframe tbody tr th {\n",
       "        vertical-align: top;\n",
       "    }\n",
       "\n",
       "    .dataframe thead th {\n",
       "        text-align: right;\n",
       "    }\n",
       "</style>\n",
       "<table border=\"1\" class=\"dataframe\">\n",
       "  <thead>\n",
       "    <tr style=\"text-align: right;\">\n",
       "      <th></th>\n",
       "      <th>threshold</th>\n",
       "    </tr>\n",
       "    <tr>\n",
       "      <th>letter</th>\n",
       "      <th></th>\n",
       "    </tr>\n",
       "  </thead>\n",
       "  <tbody>\n",
       "    <tr>\n",
       "      <th>D</th>\n",
       "      <td>44</td>\n",
       "    </tr>\n",
       "    <tr>\n",
       "      <th>D+</th>\n",
       "      <td>62</td>\n",
       "    </tr>\n",
       "    <tr>\n",
       "      <th>C-</th>\n",
       "      <td>80</td>\n",
       "    </tr>\n",
       "    <tr>\n",
       "      <th>C</th>\n",
       "      <td>98</td>\n",
       "    </tr>\n",
       "    <tr>\n",
       "      <th>C+</th>\n",
       "      <td>116</td>\n",
       "    </tr>\n",
       "    <tr>\n",
       "      <th>B-</th>\n",
       "      <td>134</td>\n",
       "    </tr>\n",
       "    <tr>\n",
       "      <th>B</th>\n",
       "      <td>152</td>\n",
       "    </tr>\n",
       "    <tr>\n",
       "      <th>B+</th>\n",
       "      <td>170</td>\n",
       "    </tr>\n",
       "    <tr>\n",
       "      <th>A-</th>\n",
       "      <td>188</td>\n",
       "    </tr>\n",
       "    <tr>\n",
       "      <th>A</th>\n",
       "      <td>206</td>\n",
       "    </tr>\n",
       "  </tbody>\n",
       "</table>\n",
       "</div>"
      ],
      "text/plain": [
       "        threshold\n",
       "letter           \n",
       "D              44\n",
       "D+             62\n",
       "C-             80\n",
       "C              98\n",
       "C+            116\n",
       "B-            134\n",
       "B             152\n",
       "B+            170\n",
       "A-            188\n",
       "A             206"
      ]
     },
     "execution_count": 51,
     "metadata": {},
     "output_type": "execute_result"
    }
   ],
   "source": [
    "th_list = [[k,v] for k,v in thresh_mrw.items()]\n",
    "pd.DataFrame(th_list, columns = ['letter','threshold']).sort_values(by='threshold').set_index('letter')"
   ]
  },
  {
   "cell_type": "markdown",
   "id": "db071c2c",
   "metadata": {},
   "source": [
    "The total influence of each badge is as follows:"
   ]
  },
  {
   "cell_type": "code",
   "execution_count": 52,
   "id": "300f22db",
   "metadata": {
    "tags": [
     "hide-input"
    ]
   },
   "outputs": [
    {
     "data": {
      "text/html": [
       "<div>\n",
       "<style scoped>\n",
       "    .dataframe tbody tr th:only-of-type {\n",
       "        vertical-align: middle;\n",
       "    }\n",
       "\n",
       "    .dataframe tbody tr th {\n",
       "        vertical-align: top;\n",
       "    }\n",
       "\n",
       "    .dataframe thead th {\n",
       "        text-align: right;\n",
       "    }\n",
       "</style>\n",
       "<table border=\"1\" class=\"dataframe\">\n",
       "  <thead>\n",
       "    <tr style=\"text-align: right;\">\n",
       "      <th></th>\n",
       "      <th>badge_type</th>\n",
       "      <th>badge</th>\n",
       "      <th>complexity</th>\n",
       "      <th>weight</th>\n",
       "      <th>influence</th>\n",
       "    </tr>\n",
       "  </thead>\n",
       "  <tbody>\n",
       "    <tr>\n",
       "      <th>0</th>\n",
       "      <td>learning</td>\n",
       "      <td>experience</td>\n",
       "      <td>2.0</td>\n",
       "      <td>1.000000</td>\n",
       "      <td>2.000000</td>\n",
       "    </tr>\n",
       "    <tr>\n",
       "      <th>1</th>\n",
       "      <td>learning</td>\n",
       "      <td>review</td>\n",
       "      <td>3.0</td>\n",
       "      <td>1.000000</td>\n",
       "      <td>3.000000</td>\n",
       "    </tr>\n",
       "    <tr>\n",
       "      <th>2</th>\n",
       "      <td>learning</td>\n",
       "      <td>practice</td>\n",
       "      <td>6.0</td>\n",
       "      <td>1.000000</td>\n",
       "      <td>6.000000</td>\n",
       "    </tr>\n",
       "    <tr>\n",
       "      <th>3</th>\n",
       "      <td>learning</td>\n",
       "      <td>explore</td>\n",
       "      <td>9.0</td>\n",
       "      <td>1.000000</td>\n",
       "      <td>9.000000</td>\n",
       "    </tr>\n",
       "    <tr>\n",
       "      <th>4</th>\n",
       "      <td>learning</td>\n",
       "      <td>build</td>\n",
       "      <td>36.0</td>\n",
       "      <td>1.000000</td>\n",
       "      <td>36.000000</td>\n",
       "    </tr>\n",
       "    <tr>\n",
       "      <th>0</th>\n",
       "      <td>community</td>\n",
       "      <td>plus</td>\n",
       "      <td>1.0</td>\n",
       "      <td>1.800000</td>\n",
       "      <td>1.800000</td>\n",
       "    </tr>\n",
       "    <tr>\n",
       "      <th>1</th>\n",
       "      <td>community</td>\n",
       "      <td>experience_makeup</td>\n",
       "      <td>1.0</td>\n",
       "      <td>0.666667</td>\n",
       "      <td>0.666667</td>\n",
       "    </tr>\n",
       "    <tr>\n",
       "      <th>2</th>\n",
       "      <td>community</td>\n",
       "      <td>review_makeup</td>\n",
       "      <td>1.0</td>\n",
       "      <td>0.750000</td>\n",
       "      <td>0.750000</td>\n",
       "    </tr>\n",
       "    <tr>\n",
       "      <th>3</th>\n",
       "      <td>community</td>\n",
       "      <td>review_upgrade</td>\n",
       "      <td>1.0</td>\n",
       "      <td>1.000000</td>\n",
       "      <td>1.000000</td>\n",
       "    </tr>\n",
       "    <tr>\n",
       "      <th>4</th>\n",
       "      <td>community</td>\n",
       "      <td>practice_makeup</td>\n",
       "      <td>1.0</td>\n",
       "      <td>0.857143</td>\n",
       "      <td>0.857143</td>\n",
       "    </tr>\n",
       "  </tbody>\n",
       "</table>\n",
       "</div>"
      ],
      "text/plain": [
       "  badge_type              badge  complexity    weight  influence\n",
       "0   learning         experience         2.0  1.000000   2.000000\n",
       "1   learning             review         3.0  1.000000   3.000000\n",
       "2   learning           practice         6.0  1.000000   6.000000\n",
       "3   learning            explore         9.0  1.000000   9.000000\n",
       "4   learning              build        36.0  1.000000  36.000000\n",
       "0  community               plus         1.0  1.800000   1.800000\n",
       "1  community  experience_makeup         1.0  0.666667   0.666667\n",
       "2  community      review_makeup         1.0  0.750000   0.750000\n",
       "3  community     review_upgrade         1.0  1.000000   1.000000\n",
       "4  community    practice_makeup         1.0  0.857143   0.857143"
      ]
     },
     "execution_count": 52,
     "metadata": {},
     "output_type": "execute_result"
    }
   ],
   "source": [
    "# display\n",
    "influence_df[['badge_type','badge','complexity','weight','influence']]"
   ]
  },
  {
   "cell_type": "code",
   "execution_count": 55,
   "id": "9e9201ab",
   "metadata": {
    "tags": [
     "hide-input"
    ]
   },
   "outputs": [],
   "source": [
    "# example calculation helper functions\n",
    "def commumunity_example(badges,exid,cw_type):\n",
    "    case_weights = weights_mrw.copy()\n",
    "    case_weights['community'] = community_weights[cw_type]\n",
    "    return [[exid,bt,bw,bc] for bc,(bt,bw) in zip(badges,case_weights.items()) \n",
    "                                      for i in range(bc)]\n",
    "\n",
    "def commumunity_example(badges,exid,cw_type):\n",
    "    case_weights = weights_mrw.copy()\n",
    "    if type(cw_type)==list:\n",
    "        for cw in cw_type:\n",
    "            case_weights['community_'+cw] = community_weights[cw]\n",
    "    else:\n",
    "        case_weights['community'] = community_weights[cw_type]\n",
    "#     print(badge)\n",
    "    return [[exid,bt,bt.split('_')[0],bw,bc] for bc,(bt,bw) in zip(badges,case_weights.items()) \n",
    "                                      for i in range(bc)]\n",
    "# \n",
    "\n",
    "\n",
    "def get_row(exid,badge_detail,badge_category,badge_mult,badge_count):\n",
    "    if 'community' in badge_detail:\n",
    "        badge_complexity = 1\n",
    "        badge_weight = badge_mult\n",
    "    else: \n",
    "        badge_complexity = badge_mult\n",
    "        badge_weight = 1\n",
    "    \n",
    "    badge_row = [exid,badge_detail,badge_category,\n",
    "                 badge_complexity, badge_weight,badge_count]\n",
    "    return badge_row\n",
    "\n",
    "def commumunity_example_comp_w(badges,exid,cw_type):\n",
    "    case_weights = weights_mrw.copy()\n",
    "    if type(cw_type)==list:\n",
    "        for cw in cw_type:\n",
    "            case_weights['community_'+cw] = community_weights[cw]\n",
    "    else:\n",
    "        case_weights['community'] = community_weights[cw_type]\n",
    "#     print(badge)\n",
    "    return [get_row(exid,bt,bt.split('_')[0],bw,bc) for bc,(bt,bw) in zip(badges,case_weights.items()) \n",
    "                                      for i in range(bc)]\n",
    "# make more examples\n",
    "ind_badges_mrw_c = [get_row(str(exid),bt,bt,bw,bc) for i,ex in enumerate(examples_mrw) for bc,(bt,bw) in zip(ex,weights_mrw.items()) \n",
    "                                      for exid in bc*[i]]\n",
    "\n",
    "examples_mrw_cplus = [[24,0,0,0,0,10],[24,18,0,0,0,10],[24,0,18,0,0,10],[24,12,12,0,0,10],\n",
    "                     [24,0,18,0,1,10],[24,12,12,2,0,10]]\n",
    "ind_badges_mrw_c +=[r for i,ex in enumerate(examples_mrw_cplus) \n",
    "                    for r in commumunity_example_comp_w(ex,str(i)+'cp',['plus'])]\n",
    "examples_mrw_em = [[22,0,0,0,0,6],[21,18,0,0,0,9],[23,0,18,0,0,13],[20,12,12,0,0,12],[20,12,12,0,0,12]]\n",
    "ind_badges_mrw_c +=[r for i,ex in enumerate(examples_mrw_em) \n",
    "                    for r in commumunity_example_comp_w(ex,str(i)+'cem',['experience_makeup'])]\n",
    "examples_mrw_rm = [[22,17,0,0,0,6,4],[24,10,12,0,0,0,8]]\n",
    "ind_badges_mrw_c +=[r for i,ex in enumerate(examples_mrw_rm) for r in \n",
    "                    commumunity_example_comp_w(ex,str(i)+'cemrm',['experience_makeup','review_makeup'])]\n",
    "examples_mrw_ru = [[24,0,16,0,0,0,0,14],[23,1,16,0,0,3,3,7]]\n",
    "ind_badges_mrw_c +=[r for i,ex in enumerate(examples_mrw_ru) for r in \n",
    "                    commumunity_example_comp_w(ex,str(i)+'cemrupm',['experience_makeup','review_upgrade','practice_makeup'])]\n",
    "# ind_badges_mrw_c\n",
    "\n",
    "per_badge_df_mrw_c = pd.DataFrame(ind_badges_mrw_c,columns=['example','badge_det','badge',\n",
    "                                                            'complexity','weight','count'])\n",
    "per_badge_df_mrw_c['influence'] = per_badge_df_mrw_c['complexity']*per_badge_df_mrw_c['weight']\n",
    "\n",
    "# get example letter grades\n",
    "grade_calc = lambda df: (np.floor((df.sum()-48)/(delta/3))*(delta/3)+48).astype(int)\n",
    "ex_grade = per_badge_df_mrw_c.groupby(['example'])['influence'].apply(grade_calc).reset_index().rename(\n",
    "                    columns = {'influence':'influence_total'})\n",
    "\n",
    "# get letter for each example\n",
    "thresh_mrw_rv = {v:k for k, v in thresh_mrw.items()}\n",
    "thresh_mrw_rv[0] = 'F'\n",
    "thresh_mrw_cutoffs = np.asarray(sorted(thresh_mrw_rv))\n",
    "ex_grade['letter'] = ex_grade['influence_total'].apply(lambda v: thresh_mrw_rv[thresh_mrw_cutoffs[(v > thresh_mrw_cutoffs)].max()])\n",
    "\n",
    "# improve sample names\n",
    "example_names = {old:'example ' +str(i) for i,old in enumerate(list(ex_grade['example']))}\n",
    "ex_grade['example'] = ex_grade['example'].replace(example_names)\n",
    "per_badge_df_mrw_c['example'] = per_badge_df_mrw_c['example'].replace(example_names)\n",
    "# ex_grade = ((per_badge_df_mrw_c.groupby(['example'])['influence'].sum()-48).floordiv((delta/3))*(delta/3)+48).astype(int).reset_index()\n",
    "\n",
    "\n",
    "per_badge_df_mrw_cletter = pd.merge(per_badge_df_mrw_c,ex_grade[['example','letter','influence_total']],on='example')\n",
    "\n",
    "# sort to improve visual display\n",
    "badges_in_order = ['experience','community_experience_makeup', 'review',\n",
    "                   'community_review_makeup','community_review_upgrade',\n",
    "                  'practice','community_practice_makeup', 'explore', 'build','community_plus']\n",
    "badge_order_num ={b:i for i,b in enumerate(badges_in_order)}\n",
    "per_badge_df_mrw_cletter['badge_num'] = per_badge_df_mrw_cletter['badge_det'].apply(lambda bd:badge_order_num[bd])\n",
    "\n",
    "# per_badge_df_mrw_c= per_badge_df_mrw_c.sort_values(by='example')\n",
    "per_badge_df_mrw_cletter = per_badge_df_mrw_cletter.sort_values(by=['badge_num','influence_total'],ascending=True,)"
   ]
  },
  {
   "cell_type": "code",
   "execution_count": 56,
   "id": "94bcf962",
   "metadata": {
    "tags": [
     "hide-input"
    ]
   },
   "outputs": [
    {
     "data": {
      "application/vnd.plotly.v1+json": {
       "config": {
        "plotlyServerURL": "https://plot.ly"
       },
       "data": [
        {
         "alignmentgroup": "True",
         "customdata": [
          [
           "experience",
           22,
           "F"
          ],
          [
           "experience",
           22,
           "F"
          ],
          [
           "experience",
           22,
           "F"
          ],
          [
           "experience",
           22,
           "F"
          ],
          [
           "experience",
           22,
           "F"
          ],
          [
           "experience",
           22,
           "F"
          ],
          [
           "experience",
           22,
           "F"
          ],
          [
           "experience",
           22,
           "F"
          ],
          [
           "experience",
           22,
           "F"
          ],
          [
           "experience",
           22,
           "F"
          ],
          [
           "experience",
           22,
           "F"
          ],
          [
           "experience",
           22,
           "F"
          ],
          [
           "experience",
           22,
           "F"
          ],
          [
           "experience",
           22,
           "F"
          ],
          [
           "experience",
           22,
           "F"
          ],
          [
           "experience",
           22,
           "F"
          ],
          [
           "experience",
           22,
           "F"
          ],
          [
           "experience",
           22,
           "F"
          ],
          [
           "experience",
           22,
           "F"
          ],
          [
           "experience",
           22,
           "F"
          ],
          [
           "experience",
           22,
           "F"
          ],
          [
           "experience",
           22,
           "F"
          ],
          [
           "experience",
           22,
           "F"
          ],
          [
           "experience",
           22,
           "F"
          ],
          [
           "experience",
           22,
           "F"
          ],
          [
           "experience",
           22,
           "F"
          ],
          [
           "experience",
           22,
           "F"
          ],
          [
           "experience",
           22,
           "F"
          ],
          [
           "experience",
           22,
           "F"
          ],
          [
           "experience",
           22,
           "F"
          ],
          [
           "experience",
           22,
           "F"
          ],
          [
           "experience",
           22,
           "F"
          ],
          [
           "experience",
           22,
           "F"
          ],
          [
           "experience",
           22,
           "F"
          ],
          [
           "experience",
           22,
           "F"
          ],
          [
           "experience",
           22,
           "F"
          ],
          [
           "experience",
           22,
           "F"
          ],
          [
           "experience",
           22,
           "F"
          ],
          [
           "experience",
           22,
           "F"
          ],
          [
           "experience",
           22,
           "F"
          ],
          [
           "experience",
           22,
           "F"
          ],
          [
           "experience",
           22,
           "F"
          ],
          [
           "experience",
           22,
           "F"
          ],
          [
           "experience",
           22,
           "F"
          ],
          [
           "experience",
           24,
           "D+"
          ],
          [
           "experience",
           24,
           "D+"
          ],
          [
           "experience",
           24,
           "D+"
          ],
          [
           "experience",
           24,
           "D+"
          ],
          [
           "experience",
           24,
           "D+"
          ],
          [
           "experience",
           24,
           "D+"
          ],
          [
           "experience",
           24,
           "D+"
          ],
          [
           "experience",
           24,
           "D+"
          ],
          [
           "experience",
           24,
           "D+"
          ],
          [
           "experience",
           24,
           "D+"
          ],
          [
           "experience",
           24,
           "D+"
          ],
          [
           "experience",
           24,
           "D+"
          ],
          [
           "experience",
           24,
           "D+"
          ],
          [
           "experience",
           24,
           "D+"
          ],
          [
           "experience",
           24,
           "D+"
          ],
          [
           "experience",
           24,
           "D+"
          ],
          [
           "experience",
           24,
           "D+"
          ],
          [
           "experience",
           24,
           "D+"
          ],
          [
           "experience",
           24,
           "D+"
          ],
          [
           "experience",
           24,
           "D+"
          ],
          [
           "experience",
           24,
           "D+"
          ],
          [
           "experience",
           24,
           "D+"
          ],
          [
           "experience",
           24,
           "D+"
          ],
          [
           "experience",
           24,
           "D+"
          ],
          [
           "experience",
           23,
           "C-"
          ],
          [
           "experience",
           23,
           "C-"
          ],
          [
           "experience",
           23,
           "C-"
          ],
          [
           "experience",
           23,
           "C-"
          ],
          [
           "experience",
           23,
           "C-"
          ],
          [
           "experience",
           23,
           "C-"
          ],
          [
           "experience",
           23,
           "C-"
          ],
          [
           "experience",
           23,
           "C-"
          ],
          [
           "experience",
           23,
           "C-"
          ],
          [
           "experience",
           23,
           "C-"
          ],
          [
           "experience",
           23,
           "C-"
          ],
          [
           "experience",
           23,
           "C-"
          ],
          [
           "experience",
           23,
           "C-"
          ],
          [
           "experience",
           23,
           "C-"
          ],
          [
           "experience",
           23,
           "C-"
          ],
          [
           "experience",
           23,
           "C-"
          ],
          [
           "experience",
           23,
           "C-"
          ],
          [
           "experience",
           23,
           "C-"
          ],
          [
           "experience",
           23,
           "C-"
          ],
          [
           "experience",
           23,
           "C-"
          ],
          [
           "experience",
           23,
           "C-"
          ],
          [
           "experience",
           23,
           "C-"
          ],
          [
           "experience",
           23,
           "C-"
          ],
          [
           "experience",
           22,
           "C "
          ],
          [
           "experience",
           22,
           "C "
          ],
          [
           "experience",
           22,
           "C "
          ],
          [
           "experience",
           22,
           "C "
          ],
          [
           "experience",
           22,
           "C "
          ],
          [
           "experience",
           22,
           "C "
          ],
          [
           "experience",
           22,
           "C "
          ],
          [
           "experience",
           22,
           "C "
          ],
          [
           "experience",
           22,
           "C "
          ],
          [
           "experience",
           22,
           "C "
          ],
          [
           "experience",
           22,
           "C "
          ],
          [
           "experience",
           22,
           "C "
          ],
          [
           "experience",
           22,
           "C "
          ],
          [
           "experience",
           22,
           "C "
          ],
          [
           "experience",
           22,
           "C "
          ],
          [
           "experience",
           22,
           "C "
          ],
          [
           "experience",
           22,
           "C "
          ],
          [
           "experience",
           22,
           "C "
          ],
          [
           "experience",
           22,
           "C "
          ],
          [
           "experience",
           22,
           "C "
          ],
          [
           "experience",
           22,
           "C "
          ],
          [
           "experience",
           22,
           "C "
          ],
          [
           "experience",
           21,
           "C "
          ],
          [
           "experience",
           21,
           "C "
          ],
          [
           "experience",
           21,
           "C "
          ],
          [
           "experience",
           21,
           "C "
          ],
          [
           "experience",
           21,
           "C "
          ],
          [
           "experience",
           21,
           "C "
          ],
          [
           "experience",
           21,
           "C "
          ],
          [
           "experience",
           21,
           "C "
          ],
          [
           "experience",
           21,
           "C "
          ],
          [
           "experience",
           21,
           "C "
          ],
          [
           "experience",
           21,
           "C "
          ],
          [
           "experience",
           21,
           "C "
          ],
          [
           "experience",
           21,
           "C "
          ],
          [
           "experience",
           21,
           "C "
          ],
          [
           "experience",
           21,
           "C "
          ],
          [
           "experience",
           21,
           "C "
          ],
          [
           "experience",
           21,
           "C "
          ],
          [
           "experience",
           21,
           "C "
          ],
          [
           "experience",
           21,
           "C "
          ],
          [
           "experience",
           21,
           "C "
          ],
          [
           "experience",
           21,
           "C "
          ],
          [
           "experience",
           22,
           "C "
          ],
          [
           "experience",
           22,
           "C "
          ],
          [
           "experience",
           22,
           "C "
          ],
          [
           "experience",
           22,
           "C "
          ],
          [
           "experience",
           22,
           "C "
          ],
          [
           "experience",
           22,
           "C "
          ],
          [
           "experience",
           22,
           "C "
          ],
          [
           "experience",
           22,
           "C "
          ],
          [
           "experience",
           22,
           "C "
          ],
          [
           "experience",
           22,
           "C "
          ],
          [
           "experience",
           22,
           "C "
          ],
          [
           "experience",
           22,
           "C "
          ],
          [
           "experience",
           22,
           "C "
          ],
          [
           "experience",
           22,
           "C "
          ],
          [
           "experience",
           22,
           "C "
          ],
          [
           "experience",
           22,
           "C "
          ],
          [
           "experience",
           22,
           "C "
          ],
          [
           "experience",
           22,
           "C "
          ],
          [
           "experience",
           22,
           "C "
          ],
          [
           "experience",
           22,
           "C "
          ],
          [
           "experience",
           22,
           "C "
          ],
          [
           "experience",
           22,
           "C "
          ],
          [
           "experience",
           22,
           "C+"
          ],
          [
           "experience",
           22,
           "C+"
          ],
          [
           "experience",
           22,
           "C+"
          ],
          [
           "experience",
           22,
           "C+"
          ],
          [
           "experience",
           22,
           "C+"
          ],
          [
           "experience",
           22,
           "C+"
          ],
          [
           "experience",
           22,
           "C+"
          ],
          [
           "experience",
           22,
           "C+"
          ],
          [
           "experience",
           22,
           "C+"
          ],
          [
           "experience",
           22,
           "C+"
          ],
          [
           "experience",
           22,
           "C+"
          ],
          [
           "experience",
           22,
           "C+"
          ],
          [
           "experience",
           22,
           "C+"
          ],
          [
           "experience",
           22,
           "C+"
          ],
          [
           "experience",
           22,
           "C+"
          ],
          [
           "experience",
           22,
           "C+"
          ],
          [
           "experience",
           22,
           "C+"
          ],
          [
           "experience",
           22,
           "C+"
          ],
          [
           "experience",
           22,
           "C+"
          ],
          [
           "experience",
           22,
           "C+"
          ],
          [
           "experience",
           22,
           "C+"
          ],
          [
           "experience",
           22,
           "C+"
          ],
          [
           "experience",
           24,
           "C+"
          ],
          [
           "experience",
           24,
           "C+"
          ],
          [
           "experience",
           24,
           "C+"
          ],
          [
           "experience",
           24,
           "C+"
          ],
          [
           "experience",
           24,
           "C+"
          ],
          [
           "experience",
           24,
           "C+"
          ],
          [
           "experience",
           24,
           "C+"
          ],
          [
           "experience",
           24,
           "C+"
          ],
          [
           "experience",
           24,
           "C+"
          ],
          [
           "experience",
           24,
           "C+"
          ],
          [
           "experience",
           24,
           "C+"
          ],
          [
           "experience",
           24,
           "C+"
          ],
          [
           "experience",
           24,
           "C+"
          ],
          [
           "experience",
           24,
           "C+"
          ],
          [
           "experience",
           24,
           "C+"
          ],
          [
           "experience",
           24,
           "C+"
          ],
          [
           "experience",
           24,
           "C+"
          ],
          [
           "experience",
           24,
           "C+"
          ],
          [
           "experience",
           24,
           "C+"
          ],
          [
           "experience",
           24,
           "C+"
          ],
          [
           "experience",
           24,
           "C+"
          ],
          [
           "experience",
           24,
           "C+"
          ],
          [
           "experience",
           24,
           "C+"
          ],
          [
           "experience",
           24,
           "C+"
          ],
          [
           "experience",
           24,
           "B-"
          ],
          [
           "experience",
           24,
           "B-"
          ],
          [
           "experience",
           24,
           "B-"
          ],
          [
           "experience",
           24,
           "B-"
          ],
          [
           "experience",
           24,
           "B-"
          ],
          [
           "experience",
           24,
           "B-"
          ],
          [
           "experience",
           24,
           "B-"
          ],
          [
           "experience",
           24,
           "B-"
          ],
          [
           "experience",
           24,
           "B-"
          ],
          [
           "experience",
           24,
           "B-"
          ],
          [
           "experience",
           24,
           "B-"
          ],
          [
           "experience",
           24,
           "B-"
          ],
          [
           "experience",
           24,
           "B-"
          ],
          [
           "experience",
           24,
           "B-"
          ],
          [
           "experience",
           24,
           "B-"
          ],
          [
           "experience",
           24,
           "B-"
          ],
          [
           "experience",
           24,
           "B-"
          ],
          [
           "experience",
           24,
           "B-"
          ],
          [
           "experience",
           24,
           "B-"
          ],
          [
           "experience",
           24,
           "B-"
          ],
          [
           "experience",
           24,
           "B-"
          ],
          [
           "experience",
           24,
           "B-"
          ],
          [
           "experience",
           24,
           "B-"
          ],
          [
           "experience",
           24,
           "B-"
          ],
          [
           "experience",
           26,
           "B "
          ],
          [
           "experience",
           26,
           "B "
          ],
          [
           "experience",
           26,
           "B "
          ],
          [
           "experience",
           26,
           "B "
          ],
          [
           "experience",
           26,
           "B "
          ],
          [
           "experience",
           26,
           "B "
          ],
          [
           "experience",
           26,
           "B "
          ],
          [
           "experience",
           26,
           "B "
          ],
          [
           "experience",
           26,
           "B "
          ],
          [
           "experience",
           26,
           "B "
          ],
          [
           "experience",
           26,
           "B "
          ],
          [
           "experience",
           26,
           "B "
          ],
          [
           "experience",
           26,
           "B "
          ],
          [
           "experience",
           26,
           "B "
          ],
          [
           "experience",
           26,
           "B "
          ],
          [
           "experience",
           26,
           "B "
          ],
          [
           "experience",
           26,
           "B "
          ],
          [
           "experience",
           26,
           "B "
          ],
          [
           "experience",
           26,
           "B "
          ],
          [
           "experience",
           26,
           "B "
          ],
          [
           "experience",
           26,
           "B "
          ],
          [
           "experience",
           26,
           "B "
          ],
          [
           "experience",
           26,
           "B "
          ],
          [
           "experience",
           26,
           "B "
          ],
          [
           "experience",
           26,
           "B "
          ],
          [
           "experience",
           26,
           "B "
          ],
          [
           "experience",
           24,
           "B "
          ],
          [
           "experience",
           24,
           "B "
          ],
          [
           "experience",
           24,
           "B "
          ],
          [
           "experience",
           24,
           "B "
          ],
          [
           "experience",
           24,
           "B "
          ],
          [
           "experience",
           24,
           "B "
          ],
          [
           "experience",
           24,
           "B "
          ],
          [
           "experience",
           24,
           "B "
          ],
          [
           "experience",
           24,
           "B "
          ],
          [
           "experience",
           24,
           "B "
          ],
          [
           "experience",
           24,
           "B "
          ],
          [
           "experience",
           24,
           "B "
          ],
          [
           "experience",
           24,
           "B "
          ],
          [
           "experience",
           24,
           "B "
          ],
          [
           "experience",
           24,
           "B "
          ],
          [
           "experience",
           24,
           "B "
          ],
          [
           "experience",
           24,
           "B "
          ],
          [
           "experience",
           24,
           "B "
          ],
          [
           "experience",
           24,
           "B "
          ],
          [
           "experience",
           24,
           "B "
          ],
          [
           "experience",
           24,
           "B "
          ],
          [
           "experience",
           24,
           "B "
          ],
          [
           "experience",
           24,
           "B "
          ],
          [
           "experience",
           24,
           "B "
          ],
          [
           "experience",
           23,
           "B "
          ],
          [
           "experience",
           23,
           "B "
          ],
          [
           "experience",
           23,
           "B "
          ],
          [
           "experience",
           23,
           "B "
          ],
          [
           "experience",
           23,
           "B "
          ],
          [
           "experience",
           23,
           "B "
          ],
          [
           "experience",
           23,
           "B "
          ],
          [
           "experience",
           23,
           "B "
          ],
          [
           "experience",
           23,
           "B "
          ],
          [
           "experience",
           23,
           "B "
          ],
          [
           "experience",
           23,
           "B "
          ],
          [
           "experience",
           23,
           "B "
          ],
          [
           "experience",
           23,
           "B "
          ],
          [
           "experience",
           23,
           "B "
          ],
          [
           "experience",
           23,
           "B "
          ],
          [
           "experience",
           23,
           "B "
          ],
          [
           "experience",
           23,
           "B "
          ],
          [
           "experience",
           23,
           "B "
          ],
          [
           "experience",
           23,
           "B "
          ],
          [
           "experience",
           23,
           "B "
          ],
          [
           "experience",
           23,
           "B "
          ],
          [
           "experience",
           23,
           "B "
          ],
          [
           "experience",
           23,
           "B "
          ],
          [
           "experience",
           20,
           "B "
          ],
          [
           "experience",
           20,
           "B "
          ],
          [
           "experience",
           20,
           "B "
          ],
          [
           "experience",
           20,
           "B "
          ],
          [
           "experience",
           20,
           "B "
          ],
          [
           "experience",
           20,
           "B "
          ],
          [
           "experience",
           20,
           "B "
          ],
          [
           "experience",
           20,
           "B "
          ],
          [
           "experience",
           20,
           "B "
          ],
          [
           "experience",
           20,
           "B "
          ],
          [
           "experience",
           20,
           "B "
          ],
          [
           "experience",
           20,
           "B "
          ],
          [
           "experience",
           20,
           "B "
          ],
          [
           "experience",
           20,
           "B "
          ],
          [
           "experience",
           20,
           "B "
          ],
          [
           "experience",
           20,
           "B "
          ],
          [
           "experience",
           20,
           "B "
          ],
          [
           "experience",
           20,
           "B "
          ],
          [
           "experience",
           20,
           "B "
          ],
          [
           "experience",
           20,
           "B "
          ],
          [
           "experience",
           20,
           "B "
          ],
          [
           "experience",
           20,
           "B "
          ],
          [
           "experience",
           20,
           "B "
          ],
          [
           "experience",
           20,
           "B "
          ],
          [
           "experience",
           20,
           "B "
          ],
          [
           "experience",
           20,
           "B "
          ],
          [
           "experience",
           20,
           "B "
          ],
          [
           "experience",
           20,
           "B "
          ],
          [
           "experience",
           20,
           "B "
          ],
          [
           "experience",
           20,
           "B "
          ],
          [
           "experience",
           20,
           "B "
          ],
          [
           "experience",
           20,
           "B "
          ],
          [
           "experience",
           20,
           "B "
          ],
          [
           "experience",
           20,
           "B "
          ],
          [
           "experience",
           20,
           "B "
          ],
          [
           "experience",
           20,
           "B "
          ],
          [
           "experience",
           20,
           "B "
          ],
          [
           "experience",
           20,
           "B "
          ],
          [
           "experience",
           20,
           "B "
          ],
          [
           "experience",
           20,
           "B "
          ],
          [
           "experience",
           24,
           "B "
          ],
          [
           "experience",
           24,
           "B "
          ],
          [
           "experience",
           24,
           "B "
          ],
          [
           "experience",
           24,
           "B "
          ],
          [
           "experience",
           24,
           "B "
          ],
          [
           "experience",
           24,
           "B "
          ],
          [
           "experience",
           24,
           "B "
          ],
          [
           "experience",
           24,
           "B "
          ],
          [
           "experience",
           24,
           "B "
          ],
          [
           "experience",
           24,
           "B "
          ],
          [
           "experience",
           24,
           "B "
          ],
          [
           "experience",
           24,
           "B "
          ],
          [
           "experience",
           24,
           "B "
          ],
          [
           "experience",
           24,
           "B "
          ],
          [
           "experience",
           24,
           "B "
          ],
          [
           "experience",
           24,
           "B "
          ],
          [
           "experience",
           24,
           "B "
          ],
          [
           "experience",
           24,
           "B "
          ],
          [
           "experience",
           24,
           "B "
          ],
          [
           "experience",
           24,
           "B "
          ],
          [
           "experience",
           24,
           "B "
          ],
          [
           "experience",
           24,
           "B "
          ],
          [
           "experience",
           24,
           "B "
          ],
          [
           "experience",
           24,
           "B "
          ],
          [
           "experience",
           24,
           "B "
          ],
          [
           "experience",
           24,
           "B "
          ],
          [
           "experience",
           24,
           "B "
          ],
          [
           "experience",
           24,
           "B "
          ],
          [
           "experience",
           24,
           "B "
          ],
          [
           "experience",
           24,
           "B "
          ],
          [
           "experience",
           24,
           "B "
          ],
          [
           "experience",
           24,
           "B "
          ],
          [
           "experience",
           24,
           "B "
          ],
          [
           "experience",
           24,
           "B "
          ],
          [
           "experience",
           24,
           "B "
          ],
          [
           "experience",
           24,
           "B "
          ],
          [
           "experience",
           24,
           "B "
          ],
          [
           "experience",
           24,
           "B "
          ],
          [
           "experience",
           24,
           "B "
          ],
          [
           "experience",
           24,
           "B "
          ],
          [
           "experience",
           24,
           "B "
          ],
          [
           "experience",
           24,
           "B "
          ],
          [
           "experience",
           24,
           "B "
          ],
          [
           "experience",
           24,
           "B "
          ],
          [
           "experience",
           24,
           "B "
          ],
          [
           "experience",
           24,
           "B "
          ],
          [
           "experience",
           24,
           "B "
          ],
          [
           "experience",
           24,
           "B "
          ],
          [
           "experience",
           23,
           "B "
          ],
          [
           "experience",
           23,
           "B "
          ],
          [
           "experience",
           23,
           "B "
          ],
          [
           "experience",
           23,
           "B "
          ],
          [
           "experience",
           23,
           "B "
          ],
          [
           "experience",
           23,
           "B "
          ],
          [
           "experience",
           23,
           "B "
          ],
          [
           "experience",
           23,
           "B "
          ],
          [
           "experience",
           23,
           "B "
          ],
          [
           "experience",
           23,
           "B "
          ],
          [
           "experience",
           23,
           "B "
          ],
          [
           "experience",
           23,
           "B "
          ],
          [
           "experience",
           23,
           "B "
          ],
          [
           "experience",
           23,
           "B "
          ],
          [
           "experience",
           23,
           "B "
          ],
          [
           "experience",
           23,
           "B "
          ],
          [
           "experience",
           23,
           "B "
          ],
          [
           "experience",
           23,
           "B "
          ],
          [
           "experience",
           23,
           "B "
          ],
          [
           "experience",
           23,
           "B "
          ],
          [
           "experience",
           23,
           "B "
          ],
          [
           "experience",
           23,
           "B "
          ],
          [
           "experience",
           23,
           "B "
          ],
          [
           "experience",
           24,
           "B+"
          ],
          [
           "experience",
           24,
           "B+"
          ],
          [
           "experience",
           24,
           "B+"
          ],
          [
           "experience",
           24,
           "B+"
          ],
          [
           "experience",
           24,
           "B+"
          ],
          [
           "experience",
           24,
           "B+"
          ],
          [
           "experience",
           24,
           "B+"
          ],
          [
           "experience",
           24,
           "B+"
          ],
          [
           "experience",
           24,
           "B+"
          ],
          [
           "experience",
           24,
           "B+"
          ],
          [
           "experience",
           24,
           "B+"
          ],
          [
           "experience",
           24,
           "B+"
          ],
          [
           "experience",
           24,
           "B+"
          ],
          [
           "experience",
           24,
           "B+"
          ],
          [
           "experience",
           24,
           "B+"
          ],
          [
           "experience",
           24,
           "B+"
          ],
          [
           "experience",
           24,
           "B+"
          ],
          [
           "experience",
           24,
           "B+"
          ],
          [
           "experience",
           24,
           "B+"
          ],
          [
           "experience",
           24,
           "B+"
          ],
          [
           "experience",
           24,
           "B+"
          ],
          [
           "experience",
           24,
           "B+"
          ],
          [
           "experience",
           24,
           "B+"
          ],
          [
           "experience",
           24,
           "B+"
          ],
          [
           "experience",
           24,
           "B+"
          ],
          [
           "experience",
           24,
           "B+"
          ],
          [
           "experience",
           24,
           "B+"
          ],
          [
           "experience",
           24,
           "B+"
          ],
          [
           "experience",
           24,
           "B+"
          ],
          [
           "experience",
           24,
           "B+"
          ],
          [
           "experience",
           24,
           "B+"
          ],
          [
           "experience",
           24,
           "B+"
          ],
          [
           "experience",
           24,
           "B+"
          ],
          [
           "experience",
           24,
           "B+"
          ],
          [
           "experience",
           24,
           "B+"
          ],
          [
           "experience",
           24,
           "B+"
          ],
          [
           "experience",
           24,
           "B+"
          ],
          [
           "experience",
           24,
           "B+"
          ],
          [
           "experience",
           24,
           "B+"
          ],
          [
           "experience",
           24,
           "B+"
          ],
          [
           "experience",
           24,
           "B+"
          ],
          [
           "experience",
           24,
           "B+"
          ],
          [
           "experience",
           24,
           "B+"
          ],
          [
           "experience",
           24,
           "B+"
          ],
          [
           "experience",
           24,
           "B+"
          ],
          [
           "experience",
           24,
           "B+"
          ],
          [
           "experience",
           24,
           "B+"
          ],
          [
           "experience",
           24,
           "B+"
          ],
          [
           "experience",
           24,
           "A-"
          ],
          [
           "experience",
           24,
           "A-"
          ],
          [
           "experience",
           24,
           "A-"
          ],
          [
           "experience",
           24,
           "A-"
          ],
          [
           "experience",
           24,
           "A-"
          ],
          [
           "experience",
           24,
           "A-"
          ],
          [
           "experience",
           24,
           "A-"
          ],
          [
           "experience",
           24,
           "A-"
          ],
          [
           "experience",
           24,
           "A-"
          ],
          [
           "experience",
           24,
           "A-"
          ],
          [
           "experience",
           24,
           "A-"
          ],
          [
           "experience",
           24,
           "A-"
          ],
          [
           "experience",
           24,
           "A-"
          ],
          [
           "experience",
           24,
           "A-"
          ],
          [
           "experience",
           24,
           "A-"
          ],
          [
           "experience",
           24,
           "A-"
          ],
          [
           "experience",
           24,
           "A-"
          ],
          [
           "experience",
           24,
           "A-"
          ],
          [
           "experience",
           24,
           "A-"
          ],
          [
           "experience",
           24,
           "A-"
          ],
          [
           "experience",
           24,
           "A-"
          ],
          [
           "experience",
           24,
           "A-"
          ],
          [
           "experience",
           24,
           "A-"
          ],
          [
           "experience",
           24,
           "A-"
          ],
          [
           "experience",
           25,
           "A-"
          ],
          [
           "experience",
           25,
           "A-"
          ],
          [
           "experience",
           25,
           "A-"
          ],
          [
           "experience",
           25,
           "A-"
          ],
          [
           "experience",
           25,
           "A-"
          ],
          [
           "experience",
           25,
           "A-"
          ],
          [
           "experience",
           25,
           "A-"
          ],
          [
           "experience",
           25,
           "A-"
          ],
          [
           "experience",
           25,
           "A-"
          ],
          [
           "experience",
           25,
           "A-"
          ],
          [
           "experience",
           25,
           "A-"
          ],
          [
           "experience",
           25,
           "A-"
          ],
          [
           "experience",
           25,
           "A-"
          ],
          [
           "experience",
           25,
           "A-"
          ],
          [
           "experience",
           25,
           "A-"
          ],
          [
           "experience",
           25,
           "A-"
          ],
          [
           "experience",
           25,
           "A-"
          ],
          [
           "experience",
           25,
           "A-"
          ],
          [
           "experience",
           25,
           "A-"
          ],
          [
           "experience",
           25,
           "A-"
          ],
          [
           "experience",
           25,
           "A-"
          ],
          [
           "experience",
           25,
           "A-"
          ],
          [
           "experience",
           25,
           "A-"
          ],
          [
           "experience",
           25,
           "A-"
          ],
          [
           "experience",
           25,
           "A-"
          ],
          [
           "experience",
           24,
           "A-"
          ],
          [
           "experience",
           24,
           "A-"
          ],
          [
           "experience",
           24,
           "A-"
          ],
          [
           "experience",
           24,
           "A-"
          ],
          [
           "experience",
           24,
           "A-"
          ],
          [
           "experience",
           24,
           "A-"
          ],
          [
           "experience",
           24,
           "A-"
          ],
          [
           "experience",
           24,
           "A-"
          ],
          [
           "experience",
           24,
           "A-"
          ],
          [
           "experience",
           24,
           "A-"
          ],
          [
           "experience",
           24,
           "A-"
          ],
          [
           "experience",
           24,
           "A-"
          ],
          [
           "experience",
           24,
           "A-"
          ],
          [
           "experience",
           24,
           "A-"
          ],
          [
           "experience",
           24,
           "A-"
          ],
          [
           "experience",
           24,
           "A-"
          ],
          [
           "experience",
           24,
           "A-"
          ],
          [
           "experience",
           24,
           "A-"
          ],
          [
           "experience",
           24,
           "A-"
          ],
          [
           "experience",
           24,
           "A-"
          ],
          [
           "experience",
           24,
           "A-"
          ],
          [
           "experience",
           24,
           "A-"
          ],
          [
           "experience",
           24,
           "A-"
          ],
          [
           "experience",
           24,
           "A-"
          ],
          [
           "experience",
           22,
           "A-"
          ],
          [
           "experience",
           22,
           "A-"
          ],
          [
           "experience",
           22,
           "A-"
          ],
          [
           "experience",
           22,
           "A-"
          ],
          [
           "experience",
           22,
           "A-"
          ],
          [
           "experience",
           22,
           "A-"
          ],
          [
           "experience",
           22,
           "A-"
          ],
          [
           "experience",
           22,
           "A-"
          ],
          [
           "experience",
           22,
           "A-"
          ],
          [
           "experience",
           22,
           "A-"
          ],
          [
           "experience",
           22,
           "A-"
          ],
          [
           "experience",
           22,
           "A-"
          ],
          [
           "experience",
           22,
           "A-"
          ],
          [
           "experience",
           22,
           "A-"
          ],
          [
           "experience",
           22,
           "A-"
          ],
          [
           "experience",
           22,
           "A-"
          ],
          [
           "experience",
           22,
           "A-"
          ],
          [
           "experience",
           22,
           "A-"
          ],
          [
           "experience",
           22,
           "A-"
          ],
          [
           "experience",
           22,
           "A-"
          ],
          [
           "experience",
           22,
           "A-"
          ],
          [
           "experience",
           22,
           "A-"
          ],
          [
           "experience",
           24,
           "A-"
          ],
          [
           "experience",
           24,
           "A-"
          ],
          [
           "experience",
           24,
           "A-"
          ],
          [
           "experience",
           24,
           "A-"
          ],
          [
           "experience",
           24,
           "A-"
          ],
          [
           "experience",
           24,
           "A-"
          ],
          [
           "experience",
           24,
           "A-"
          ],
          [
           "experience",
           24,
           "A-"
          ],
          [
           "experience",
           24,
           "A-"
          ],
          [
           "experience",
           24,
           "A-"
          ],
          [
           "experience",
           24,
           "A-"
          ],
          [
           "experience",
           24,
           "A-"
          ],
          [
           "experience",
           24,
           "A-"
          ],
          [
           "experience",
           24,
           "A-"
          ],
          [
           "experience",
           24,
           "A-"
          ],
          [
           "experience",
           24,
           "A-"
          ],
          [
           "experience",
           24,
           "A-"
          ],
          [
           "experience",
           24,
           "A-"
          ],
          [
           "experience",
           24,
           "A-"
          ],
          [
           "experience",
           24,
           "A-"
          ],
          [
           "experience",
           24,
           "A-"
          ],
          [
           "experience",
           24,
           "A-"
          ],
          [
           "experience",
           24,
           "A-"
          ],
          [
           "experience",
           24,
           "A-"
          ],
          [
           "experience",
           25,
           "A "
          ],
          [
           "experience",
           25,
           "A "
          ],
          [
           "experience",
           25,
           "A "
          ],
          [
           "experience",
           25,
           "A "
          ],
          [
           "experience",
           25,
           "A "
          ],
          [
           "experience",
           25,
           "A "
          ],
          [
           "experience",
           25,
           "A "
          ],
          [
           "experience",
           25,
           "A "
          ],
          [
           "experience",
           25,
           "A "
          ],
          [
           "experience",
           25,
           "A "
          ],
          [
           "experience",
           25,
           "A "
          ],
          [
           "experience",
           25,
           "A "
          ],
          [
           "experience",
           25,
           "A "
          ],
          [
           "experience",
           25,
           "A "
          ],
          [
           "experience",
           25,
           "A "
          ],
          [
           "experience",
           25,
           "A "
          ],
          [
           "experience",
           25,
           "A "
          ],
          [
           "experience",
           25,
           "A "
          ],
          [
           "experience",
           25,
           "A "
          ],
          [
           "experience",
           25,
           "A "
          ],
          [
           "experience",
           25,
           "A "
          ],
          [
           "experience",
           25,
           "A "
          ],
          [
           "experience",
           25,
           "A "
          ],
          [
           "experience",
           25,
           "A "
          ],
          [
           "experience",
           25,
           "A "
          ],
          [
           "experience",
           24,
           "A "
          ],
          [
           "experience",
           24,
           "A "
          ],
          [
           "experience",
           24,
           "A "
          ],
          [
           "experience",
           24,
           "A "
          ],
          [
           "experience",
           24,
           "A "
          ],
          [
           "experience",
           24,
           "A "
          ],
          [
           "experience",
           24,
           "A "
          ],
          [
           "experience",
           24,
           "A "
          ],
          [
           "experience",
           24,
           "A "
          ],
          [
           "experience",
           24,
           "A "
          ],
          [
           "experience",
           24,
           "A "
          ],
          [
           "experience",
           24,
           "A "
          ],
          [
           "experience",
           24,
           "A "
          ],
          [
           "experience",
           24,
           "A "
          ],
          [
           "experience",
           24,
           "A "
          ],
          [
           "experience",
           24,
           "A "
          ],
          [
           "experience",
           24,
           "A "
          ],
          [
           "experience",
           24,
           "A "
          ],
          [
           "experience",
           24,
           "A "
          ],
          [
           "experience",
           24,
           "A "
          ],
          [
           "experience",
           24,
           "A "
          ],
          [
           "experience",
           24,
           "A "
          ],
          [
           "experience",
           24,
           "A "
          ],
          [
           "experience",
           24,
           "A "
          ],
          [
           "experience",
           24,
           "A "
          ],
          [
           "experience",
           24,
           "A "
          ],
          [
           "experience",
           24,
           "A "
          ],
          [
           "experience",
           24,
           "A "
          ],
          [
           "experience",
           24,
           "A "
          ],
          [
           "experience",
           24,
           "A "
          ],
          [
           "experience",
           24,
           "A "
          ],
          [
           "experience",
           24,
           "A "
          ],
          [
           "experience",
           24,
           "A "
          ],
          [
           "experience",
           24,
           "A "
          ],
          [
           "experience",
           24,
           "A "
          ],
          [
           "experience",
           24,
           "A "
          ],
          [
           "experience",
           24,
           "A "
          ],
          [
           "experience",
           24,
           "A "
          ],
          [
           "experience",
           24,
           "A "
          ],
          [
           "experience",
           24,
           "A "
          ],
          [
           "experience",
           24,
           "A "
          ],
          [
           "experience",
           24,
           "A "
          ],
          [
           "experience",
           24,
           "A "
          ],
          [
           "experience",
           24,
           "A "
          ],
          [
           "experience",
           24,
           "A "
          ],
          [
           "experience",
           24,
           "A "
          ],
          [
           "experience",
           24,
           "A "
          ],
          [
           "experience",
           24,
           "A "
          ],
          [
           "experience",
           24,
           "A "
          ],
          [
           "experience",
           24,
           "A "
          ],
          [
           "experience",
           24,
           "A "
          ],
          [
           "experience",
           24,
           "A "
          ],
          [
           "experience",
           24,
           "A "
          ],
          [
           "experience",
           24,
           "A "
          ],
          [
           "experience",
           24,
           "A "
          ],
          [
           "experience",
           24,
           "A "
          ],
          [
           "experience",
           24,
           "A "
          ],
          [
           "experience",
           24,
           "A "
          ],
          [
           "experience",
           24,
           "A "
          ],
          [
           "experience",
           24,
           "A "
          ],
          [
           "experience",
           24,
           "A "
          ],
          [
           "experience",
           24,
           "A "
          ],
          [
           "experience",
           24,
           "A "
          ],
          [
           "experience",
           24,
           "A "
          ],
          [
           "experience",
           24,
           "A "
          ],
          [
           "experience",
           24,
           "A "
          ],
          [
           "experience",
           24,
           "A "
          ],
          [
           "experience",
           24,
           "A "
          ],
          [
           "experience",
           24,
           "A "
          ],
          [
           "experience",
           24,
           "A "
          ],
          [
           "experience",
           24,
           "A "
          ],
          [
           "experience",
           24,
           "A "
          ],
          [
           "experience",
           24,
           "A "
          ],
          [
           "experience",
           24,
           "A "
          ],
          [
           "experience",
           24,
           "A "
          ],
          [
           "experience",
           24,
           "A "
          ],
          [
           "experience",
           24,
           "A "
          ],
          [
           "experience",
           24,
           "A "
          ],
          [
           "experience",
           24,
           "A "
          ],
          [
           "experience",
           24,
           "A "
          ],
          [
           "experience",
           24,
           "A "
          ],
          [
           "experience",
           24,
           "A "
          ],
          [
           "experience",
           24,
           "A "
          ],
          [
           "experience",
           24,
           "A "
          ],
          [
           "experience",
           24,
           "A "
          ],
          [
           "experience",
           24,
           "A "
          ],
          [
           "experience",
           24,
           "A "
          ],
          [
           "experience",
           24,
           "A "
          ],
          [
           "experience",
           24,
           "A "
          ],
          [
           "experience",
           24,
           "A "
          ],
          [
           "experience",
           24,
           "A "
          ],
          [
           "experience",
           24,
           "A "
          ],
          [
           "experience",
           24,
           "A "
          ],
          [
           "experience",
           24,
           "A "
          ],
          [
           "experience",
           24,
           "A "
          ],
          [
           "experience",
           24,
           "A "
          ]
         ],
         "hovertemplate": "badge_det=experience<br>example=%{x}<br>influence=%{y}<br>badge=%{customdata[0]}<br>count=%{customdata[1]}<br>letter=%{customdata[2]}<extra></extra>",
         "legendgroup": "experience",
         "marker": {
          "color": "#636efa",
          "pattern": {
           "shape": ""
          }
         },
         "name": "experience",
         "offsetgroup": "experience",
         "orientation": "v",
         "showlegend": true,
         "textposition": "auto",
         "type": "bar",
         "x": [
          "example 0",
          "example 0",
          "example 0",
          "example 0",
          "example 0",
          "example 0",
          "example 0",
          "example 0",
          "example 0",
          "example 0",
          "example 0",
          "example 0",
          "example 0",
          "example 0",
          "example 0",
          "example 0",
          "example 0",
          "example 0",
          "example 0",
          "example 0",
          "example 0",
          "example 0",
          "example 1",
          "example 1",
          "example 1",
          "example 1",
          "example 1",
          "example 1",
          "example 1",
          "example 1",
          "example 1",
          "example 1",
          "example 1",
          "example 1",
          "example 1",
          "example 1",
          "example 1",
          "example 1",
          "example 1",
          "example 1",
          "example 1",
          "example 1",
          "example 1",
          "example 1",
          "example 4",
          "example 4",
          "example 4",
          "example 4",
          "example 4",
          "example 4",
          "example 4",
          "example 4",
          "example 4",
          "example 4",
          "example 4",
          "example 4",
          "example 4",
          "example 4",
          "example 4",
          "example 4",
          "example 4",
          "example 4",
          "example 4",
          "example 4",
          "example 4",
          "example 4",
          "example 4",
          "example 4",
          "example 5",
          "example 5",
          "example 5",
          "example 5",
          "example 5",
          "example 5",
          "example 5",
          "example 5",
          "example 5",
          "example 5",
          "example 5",
          "example 5",
          "example 5",
          "example 5",
          "example 5",
          "example 5",
          "example 5",
          "example 5",
          "example 5",
          "example 5",
          "example 5",
          "example 5",
          "example 5",
          "example 15",
          "example 15",
          "example 15",
          "example 15",
          "example 15",
          "example 15",
          "example 15",
          "example 15",
          "example 15",
          "example 15",
          "example 15",
          "example 15",
          "example 15",
          "example 15",
          "example 15",
          "example 15",
          "example 15",
          "example 15",
          "example 15",
          "example 15",
          "example 15",
          "example 15",
          "example 11",
          "example 11",
          "example 11",
          "example 11",
          "example 11",
          "example 11",
          "example 11",
          "example 11",
          "example 11",
          "example 11",
          "example 11",
          "example 11",
          "example 11",
          "example 11",
          "example 11",
          "example 11",
          "example 11",
          "example 11",
          "example 11",
          "example 11",
          "example 11",
          "example 2",
          "example 2",
          "example 2",
          "example 2",
          "example 2",
          "example 2",
          "example 2",
          "example 2",
          "example 2",
          "example 2",
          "example 2",
          "example 2",
          "example 2",
          "example 2",
          "example 2",
          "example 2",
          "example 2",
          "example 2",
          "example 2",
          "example 2",
          "example 2",
          "example 2",
          "example 21",
          "example 21",
          "example 21",
          "example 21",
          "example 21",
          "example 21",
          "example 21",
          "example 21",
          "example 21",
          "example 21",
          "example 21",
          "example 21",
          "example 21",
          "example 21",
          "example 21",
          "example 21",
          "example 21",
          "example 21",
          "example 21",
          "example 21",
          "example 21",
          "example 21",
          "example 14",
          "example 14",
          "example 14",
          "example 14",
          "example 14",
          "example 14",
          "example 14",
          "example 14",
          "example 14",
          "example 14",
          "example 14",
          "example 14",
          "example 14",
          "example 14",
          "example 14",
          "example 14",
          "example 14",
          "example 14",
          "example 14",
          "example 14",
          "example 14",
          "example 14",
          "example 14",
          "example 14",
          "example 18",
          "example 18",
          "example 18",
          "example 18",
          "example 18",
          "example 18",
          "example 18",
          "example 18",
          "example 18",
          "example 18",
          "example 18",
          "example 18",
          "example 18",
          "example 18",
          "example 18",
          "example 18",
          "example 18",
          "example 18",
          "example 18",
          "example 18",
          "example 18",
          "example 18",
          "example 18",
          "example 18",
          "example 24",
          "example 24",
          "example 24",
          "example 24",
          "example 24",
          "example 24",
          "example 24",
          "example 24",
          "example 24",
          "example 24",
          "example 24",
          "example 24",
          "example 24",
          "example 24",
          "example 24",
          "example 24",
          "example 24",
          "example 24",
          "example 24",
          "example 24",
          "example 24",
          "example 24",
          "example 24",
          "example 24",
          "example 24",
          "example 24",
          "example 26",
          "example 26",
          "example 26",
          "example 26",
          "example 26",
          "example 26",
          "example 26",
          "example 26",
          "example 26",
          "example 26",
          "example 26",
          "example 26",
          "example 26",
          "example 26",
          "example 26",
          "example 26",
          "example 26",
          "example 26",
          "example 26",
          "example 26",
          "example 26",
          "example 26",
          "example 26",
          "example 26",
          "example 16",
          "example 16",
          "example 16",
          "example 16",
          "example 16",
          "example 16",
          "example 16",
          "example 16",
          "example 16",
          "example 16",
          "example 16",
          "example 16",
          "example 16",
          "example 16",
          "example 16",
          "example 16",
          "example 16",
          "example 16",
          "example 16",
          "example 16",
          "example 16",
          "example 16",
          "example 16",
          "example 19",
          "example 19",
          "example 19",
          "example 19",
          "example 19",
          "example 19",
          "example 19",
          "example 19",
          "example 19",
          "example 19",
          "example 19",
          "example 19",
          "example 19",
          "example 19",
          "example 19",
          "example 19",
          "example 19",
          "example 19",
          "example 19",
          "example 19",
          "example 22",
          "example 22",
          "example 22",
          "example 22",
          "example 22",
          "example 22",
          "example 22",
          "example 22",
          "example 22",
          "example 22",
          "example 22",
          "example 22",
          "example 22",
          "example 22",
          "example 22",
          "example 22",
          "example 22",
          "example 22",
          "example 22",
          "example 22",
          "example 12",
          "example 12",
          "example 12",
          "example 12",
          "example 12",
          "example 12",
          "example 12",
          "example 12",
          "example 12",
          "example 12",
          "example 12",
          "example 12",
          "example 12",
          "example 12",
          "example 12",
          "example 12",
          "example 12",
          "example 12",
          "example 12",
          "example 12",
          "example 12",
          "example 12",
          "example 12",
          "example 12",
          "example 3",
          "example 3",
          "example 3",
          "example 3",
          "example 3",
          "example 3",
          "example 3",
          "example 3",
          "example 3",
          "example 3",
          "example 3",
          "example 3",
          "example 3",
          "example 3",
          "example 3",
          "example 3",
          "example 3",
          "example 3",
          "example 3",
          "example 3",
          "example 3",
          "example 3",
          "example 3",
          "example 3",
          "example 13",
          "example 13",
          "example 13",
          "example 13",
          "example 13",
          "example 13",
          "example 13",
          "example 13",
          "example 13",
          "example 13",
          "example 13",
          "example 13",
          "example 13",
          "example 13",
          "example 13",
          "example 13",
          "example 13",
          "example 13",
          "example 13",
          "example 13",
          "example 13",
          "example 13",
          "example 13",
          "example 17",
          "example 17",
          "example 17",
          "example 17",
          "example 17",
          "example 17",
          "example 17",
          "example 17",
          "example 17",
          "example 17",
          "example 17",
          "example 17",
          "example 17",
          "example 17",
          "example 17",
          "example 17",
          "example 17",
          "example 17",
          "example 17",
          "example 17",
          "example 17",
          "example 17",
          "example 17",
          "example 17",
          "example 20",
          "example 20",
          "example 20",
          "example 20",
          "example 20",
          "example 20",
          "example 20",
          "example 20",
          "example 20",
          "example 20",
          "example 20",
          "example 20",
          "example 20",
          "example 20",
          "example 20",
          "example 20",
          "example 20",
          "example 20",
          "example 20",
          "example 20",
          "example 20",
          "example 20",
          "example 20",
          "example 20",
          "example 27",
          "example 27",
          "example 27",
          "example 27",
          "example 27",
          "example 27",
          "example 27",
          "example 27",
          "example 27",
          "example 27",
          "example 27",
          "example 27",
          "example 27",
          "example 27",
          "example 27",
          "example 27",
          "example 27",
          "example 27",
          "example 27",
          "example 27",
          "example 27",
          "example 27",
          "example 27",
          "example 27",
          "example 29",
          "example 29",
          "example 29",
          "example 29",
          "example 29",
          "example 29",
          "example 29",
          "example 29",
          "example 29",
          "example 29",
          "example 29",
          "example 29",
          "example 29",
          "example 29",
          "example 29",
          "example 29",
          "example 29",
          "example 29",
          "example 29",
          "example 29",
          "example 29",
          "example 29",
          "example 29",
          "example 29",
          "example 29",
          "example 6",
          "example 6",
          "example 6",
          "example 6",
          "example 6",
          "example 6",
          "example 6",
          "example 6",
          "example 6",
          "example 6",
          "example 6",
          "example 6",
          "example 6",
          "example 6",
          "example 6",
          "example 6",
          "example 6",
          "example 6",
          "example 6",
          "example 6",
          "example 6",
          "example 6",
          "example 6",
          "example 6",
          "example 7",
          "example 7",
          "example 7",
          "example 7",
          "example 7",
          "example 7",
          "example 7",
          "example 7",
          "example 7",
          "example 7",
          "example 7",
          "example 7",
          "example 7",
          "example 7",
          "example 7",
          "example 7",
          "example 7",
          "example 7",
          "example 7",
          "example 7",
          "example 7",
          "example 7",
          "example 25",
          "example 25",
          "example 25",
          "example 25",
          "example 25",
          "example 25",
          "example 25",
          "example 25",
          "example 25",
          "example 25",
          "example 25",
          "example 25",
          "example 25",
          "example 25",
          "example 25",
          "example 25",
          "example 25",
          "example 25",
          "example 25",
          "example 25",
          "example 25",
          "example 25",
          "example 25",
          "example 25",
          "example 28",
          "example 28",
          "example 28",
          "example 28",
          "example 28",
          "example 28",
          "example 28",
          "example 28",
          "example 28",
          "example 28",
          "example 28",
          "example 28",
          "example 28",
          "example 28",
          "example 28",
          "example 28",
          "example 28",
          "example 28",
          "example 28",
          "example 28",
          "example 28",
          "example 28",
          "example 28",
          "example 28",
          "example 28",
          "example 8",
          "example 8",
          "example 8",
          "example 8",
          "example 8",
          "example 8",
          "example 8",
          "example 8",
          "example 8",
          "example 8",
          "example 8",
          "example 8",
          "example 8",
          "example 8",
          "example 8",
          "example 8",
          "example 8",
          "example 8",
          "example 8",
          "example 8",
          "example 8",
          "example 8",
          "example 8",
          "example 8",
          "example 9",
          "example 9",
          "example 9",
          "example 9",
          "example 9",
          "example 9",
          "example 9",
          "example 9",
          "example 9",
          "example 9",
          "example 9",
          "example 9",
          "example 9",
          "example 9",
          "example 9",
          "example 9",
          "example 9",
          "example 9",
          "example 9",
          "example 9",
          "example 9",
          "example 9",
          "example 9",
          "example 9",
          "example 10",
          "example 10",
          "example 10",
          "example 10",
          "example 10",
          "example 10",
          "example 10",
          "example 10",
          "example 10",
          "example 10",
          "example 10",
          "example 10",
          "example 10",
          "example 10",
          "example 10",
          "example 10",
          "example 10",
          "example 10",
          "example 10",
          "example 10",
          "example 10",
          "example 10",
          "example 10",
          "example 10",
          "example 23",
          "example 23",
          "example 23",
          "example 23",
          "example 23",
          "example 23",
          "example 23",
          "example 23",
          "example 23",
          "example 23",
          "example 23",
          "example 23",
          "example 23",
          "example 23",
          "example 23",
          "example 23",
          "example 23",
          "example 23",
          "example 23",
          "example 23",
          "example 23",
          "example 23",
          "example 23",
          "example 23"
         ],
         "xaxis": "x",
         "y": [
          2,
          2,
          2,
          2,
          2,
          2,
          2,
          2,
          2,
          2,
          2,
          2,
          2,
          2,
          2,
          2,
          2,
          2,
          2,
          2,
          2,
          2,
          2,
          2,
          2,
          2,
          2,
          2,
          2,
          2,
          2,
          2,
          2,
          2,
          2,
          2,
          2,
          2,
          2,
          2,
          2,
          2,
          2,
          2,
          2,
          2,
          2,
          2,
          2,
          2,
          2,
          2,
          2,
          2,
          2,
          2,
          2,
          2,
          2,
          2,
          2,
          2,
          2,
          2,
          2,
          2,
          2,
          2,
          2,
          2,
          2,
          2,
          2,
          2,
          2,
          2,
          2,
          2,
          2,
          2,
          2,
          2,
          2,
          2,
          2,
          2,
          2,
          2,
          2,
          2,
          2,
          2,
          2,
          2,
          2,
          2,
          2,
          2,
          2,
          2,
          2,
          2,
          2,
          2,
          2,
          2,
          2,
          2,
          2,
          2,
          2,
          2,
          2,
          2,
          2,
          2,
          2,
          2,
          2,
          2,
          2,
          2,
          2,
          2,
          2,
          2,
          2,
          2,
          2,
          2,
          2,
          2,
          2,
          2,
          2,
          2,
          2,
          2,
          2,
          2,
          2,
          2,
          2,
          2,
          2,
          2,
          2,
          2,
          2,
          2,
          2,
          2,
          2,
          2,
          2,
          2,
          2,
          2,
          2,
          2,
          2,
          2,
          2,
          2,
          2,
          2,
          2,
          2,
          2,
          2,
          2,
          2,
          2,
          2,
          2,
          2,
          2,
          2,
          2,
          2,
          2,
          2,
          2,
          2,
          2,
          2,
          2,
          2,
          2,
          2,
          2,
          2,
          2,
          2,
          2,
          2,
          2,
          2,
          2,
          2,
          2,
          2,
          2,
          2,
          2,
          2,
          2,
          2,
          2,
          2,
          2,
          2,
          2,
          2,
          2,
          2,
          2,
          2,
          2,
          2,
          2,
          2,
          2,
          2,
          2,
          2,
          2,
          2,
          2,
          2,
          2,
          2,
          2,
          2,
          2,
          2,
          2,
          2,
          2,
          2,
          2,
          2,
          2,
          2,
          2,
          2,
          2,
          2,
          2,
          2,
          2,
          2,
          2,
          2,
          2,
          2,
          2,
          2,
          2,
          2,
          2,
          2,
          2,
          2,
          2,
          2,
          2,
          2,
          2,
          2,
          2,
          2,
          2,
          2,
          2,
          2,
          2,
          2,
          2,
          2,
          2,
          2,
          2,
          2,
          2,
          2,
          2,
          2,
          2,
          2,
          2,
          2,
          2,
          2,
          2,
          2,
          2,
          2,
          2,
          2,
          2,
          2,
          2,
          2,
          2,
          2,
          2,
          2,
          2,
          2,
          2,
          2,
          2,
          2,
          2,
          2,
          2,
          2,
          2,
          2,
          2,
          2,
          2,
          2,
          2,
          2,
          2,
          2,
          2,
          2,
          2,
          2,
          2,
          2,
          2,
          2,
          2,
          2,
          2,
          2,
          2,
          2,
          2,
          2,
          2,
          2,
          2,
          2,
          2,
          2,
          2,
          2,
          2,
          2,
          2,
          2,
          2,
          2,
          2,
          2,
          2,
          2,
          2,
          2,
          2,
          2,
          2,
          2,
          2,
          2,
          2,
          2,
          2,
          2,
          2,
          2,
          2,
          2,
          2,
          2,
          2,
          2,
          2,
          2,
          2,
          2,
          2,
          2,
          2,
          2,
          2,
          2,
          2,
          2,
          2,
          2,
          2,
          2,
          2,
          2,
          2,
          2,
          2,
          2,
          2,
          2,
          2,
          2,
          2,
          2,
          2,
          2,
          2,
          2,
          2,
          2,
          2,
          2,
          2,
          2,
          2,
          2,
          2,
          2,
          2,
          2,
          2,
          2,
          2,
          2,
          2,
          2,
          2,
          2,
          2,
          2,
          2,
          2,
          2,
          2,
          2,
          2,
          2,
          2,
          2,
          2,
          2,
          2,
          2,
          2,
          2,
          2,
          2,
          2,
          2,
          2,
          2,
          2,
          2,
          2,
          2,
          2,
          2,
          2,
          2,
          2,
          2,
          2,
          2,
          2,
          2,
          2,
          2,
          2,
          2,
          2,
          2,
          2,
          2,
          2,
          2,
          2,
          2,
          2,
          2,
          2,
          2,
          2,
          2,
          2,
          2,
          2,
          2,
          2,
          2,
          2,
          2,
          2,
          2,
          2,
          2,
          2,
          2,
          2,
          2,
          2,
          2,
          2,
          2,
          2,
          2,
          2,
          2,
          2,
          2,
          2,
          2,
          2,
          2,
          2,
          2,
          2,
          2,
          2,
          2,
          2,
          2,
          2,
          2,
          2,
          2,
          2,
          2,
          2,
          2,
          2,
          2,
          2,
          2,
          2,
          2,
          2,
          2,
          2,
          2,
          2,
          2,
          2,
          2,
          2,
          2,
          2,
          2,
          2,
          2,
          2,
          2,
          2,
          2,
          2,
          2,
          2,
          2,
          2,
          2,
          2,
          2,
          2,
          2,
          2,
          2,
          2,
          2,
          2,
          2,
          2,
          2,
          2,
          2,
          2,
          2,
          2,
          2,
          2,
          2,
          2,
          2,
          2,
          2,
          2,
          2,
          2,
          2,
          2,
          2,
          2,
          2,
          2,
          2,
          2,
          2,
          2,
          2,
          2,
          2,
          2,
          2,
          2,
          2,
          2,
          2,
          2,
          2,
          2,
          2,
          2,
          2,
          2,
          2,
          2,
          2,
          2,
          2,
          2,
          2,
          2,
          2,
          2,
          2,
          2,
          2,
          2,
          2,
          2,
          2,
          2,
          2,
          2,
          2,
          2,
          2,
          2,
          2,
          2,
          2,
          2,
          2,
          2,
          2,
          2,
          2,
          2,
          2,
          2,
          2,
          2,
          2,
          2,
          2,
          2,
          2,
          2,
          2,
          2,
          2,
          2,
          2,
          2,
          2,
          2,
          2,
          2,
          2,
          2,
          2,
          2,
          2,
          2,
          2,
          2,
          2,
          2,
          2,
          2,
          2,
          2,
          2,
          2,
          2,
          2,
          2,
          2,
          2,
          2,
          2,
          2,
          2,
          2
         ],
         "yaxis": "y"
        },
        {
         "alignmentgroup": "True",
         "customdata": [
          [
           "community",
           6,
           "F"
          ],
          [
           "community",
           6,
           "F"
          ],
          [
           "community",
           6,
           "F"
          ],
          [
           "community",
           6,
           "F"
          ],
          [
           "community",
           6,
           "F"
          ],
          [
           "community",
           6,
           "F"
          ],
          [
           "community",
           9,
           "C "
          ],
          [
           "community",
           9,
           "C "
          ],
          [
           "community",
           9,
           "C "
          ],
          [
           "community",
           9,
           "C "
          ],
          [
           "community",
           9,
           "C "
          ],
          [
           "community",
           9,
           "C "
          ],
          [
           "community",
           9,
           "C "
          ],
          [
           "community",
           9,
           "C "
          ],
          [
           "community",
           9,
           "C "
          ],
          [
           "community",
           6,
           "C "
          ],
          [
           "community",
           6,
           "C "
          ],
          [
           "community",
           6,
           "C "
          ],
          [
           "community",
           6,
           "C "
          ],
          [
           "community",
           6,
           "C "
          ],
          [
           "community",
           6,
           "C "
          ],
          [
           "community",
           13,
           "B "
          ],
          [
           "community",
           13,
           "B "
          ],
          [
           "community",
           13,
           "B "
          ],
          [
           "community",
           13,
           "B "
          ],
          [
           "community",
           13,
           "B "
          ],
          [
           "community",
           13,
           "B "
          ],
          [
           "community",
           13,
           "B "
          ],
          [
           "community",
           13,
           "B "
          ],
          [
           "community",
           13,
           "B "
          ],
          [
           "community",
           13,
           "B "
          ],
          [
           "community",
           13,
           "B "
          ],
          [
           "community",
           13,
           "B "
          ],
          [
           "community",
           13,
           "B "
          ],
          [
           "community",
           12,
           "B "
          ],
          [
           "community",
           12,
           "B "
          ],
          [
           "community",
           12,
           "B "
          ],
          [
           "community",
           12,
           "B "
          ],
          [
           "community",
           12,
           "B "
          ],
          [
           "community",
           12,
           "B "
          ],
          [
           "community",
           12,
           "B "
          ],
          [
           "community",
           12,
           "B "
          ],
          [
           "community",
           12,
           "B "
          ],
          [
           "community",
           12,
           "B "
          ],
          [
           "community",
           12,
           "B "
          ],
          [
           "community",
           12,
           "B "
          ],
          [
           "community",
           12,
           "B "
          ],
          [
           "community",
           12,
           "B "
          ],
          [
           "community",
           12,
           "B "
          ],
          [
           "community",
           12,
           "B "
          ],
          [
           "community",
           12,
           "B "
          ],
          [
           "community",
           12,
           "B "
          ],
          [
           "community",
           12,
           "B "
          ],
          [
           "community",
           12,
           "B "
          ],
          [
           "community",
           12,
           "B "
          ],
          [
           "community",
           12,
           "B "
          ],
          [
           "community",
           12,
           "B "
          ],
          [
           "community",
           12,
           "B "
          ],
          [
           "community",
           3,
           "B "
          ],
          [
           "community",
           3,
           "B "
          ],
          [
           "community",
           3,
           "B "
          ]
         ],
         "hovertemplate": "badge_det=community_experience_makeup<br>example=%{x}<br>influence=%{y}<br>badge=%{customdata[0]}<br>count=%{customdata[1]}<br>letter=%{customdata[2]}<extra></extra>",
         "legendgroup": "community_experience_makeup",
         "marker": {
          "color": "#EF553B",
          "pattern": {
           "shape": ""
          }
         },
         "name": "community_experience_makeup",
         "offsetgroup": "community_experience_makeup",
         "orientation": "v",
         "showlegend": true,
         "textposition": "auto",
         "type": "bar",
         "x": [
          "example 1",
          "example 1",
          "example 1",
          "example 1",
          "example 1",
          "example 1",
          "example 11",
          "example 11",
          "example 11",
          "example 11",
          "example 11",
          "example 11",
          "example 11",
          "example 11",
          "example 11",
          "example 2",
          "example 2",
          "example 2",
          "example 2",
          "example 2",
          "example 2",
          "example 16",
          "example 16",
          "example 16",
          "example 16",
          "example 16",
          "example 16",
          "example 16",
          "example 16",
          "example 16",
          "example 16",
          "example 16",
          "example 16",
          "example 16",
          "example 19",
          "example 19",
          "example 19",
          "example 19",
          "example 19",
          "example 19",
          "example 19",
          "example 19",
          "example 19",
          "example 19",
          "example 19",
          "example 19",
          "example 22",
          "example 22",
          "example 22",
          "example 22",
          "example 22",
          "example 22",
          "example 22",
          "example 22",
          "example 22",
          "example 22",
          "example 22",
          "example 22",
          "example 13",
          "example 13",
          "example 13"
         ],
         "xaxis": "x",
         "y": [
          0.6666666666666666,
          0.6666666666666666,
          0.6666666666666666,
          0.6666666666666666,
          0.6666666666666666,
          0.6666666666666666,
          0.6666666666666666,
          0.6666666666666666,
          0.6666666666666666,
          0.6666666666666666,
          0.6666666666666666,
          0.6666666666666666,
          0.6666666666666666,
          0.6666666666666666,
          0.6666666666666666,
          0.6666666666666666,
          0.6666666666666666,
          0.6666666666666666,
          0.6666666666666666,
          0.6666666666666666,
          0.6666666666666666,
          0.6666666666666666,
          0.6666666666666666,
          0.6666666666666666,
          0.6666666666666666,
          0.6666666666666666,
          0.6666666666666666,
          0.6666666666666666,
          0.6666666666666666,
          0.6666666666666666,
          0.6666666666666666,
          0.6666666666666666,
          0.6666666666666666,
          0.6666666666666666,
          0.6666666666666666,
          0.6666666666666666,
          0.6666666666666666,
          0.6666666666666666,
          0.6666666666666666,
          0.6666666666666666,
          0.6666666666666666,
          0.6666666666666666,
          0.6666666666666666,
          0.6666666666666666,
          0.6666666666666666,
          0.6666666666666666,
          0.6666666666666666,
          0.6666666666666666,
          0.6666666666666666,
          0.6666666666666666,
          0.6666666666666666,
          0.6666666666666666,
          0.6666666666666666,
          0.6666666666666666,
          0.6666666666666666,
          0.6666666666666666,
          0.6666666666666666,
          0.6666666666666666,
          0.6666666666666666,
          0.6666666666666666,
          0.6666666666666666
         ],
         "yaxis": "y"
        },
        {
         "alignmentgroup": "True",
         "customdata": [
          [
           "review",
           18,
           "C-"
          ],
          [
           "review",
           18,
           "C-"
          ],
          [
           "review",
           18,
           "C-"
          ],
          [
           "review",
           18,
           "C-"
          ],
          [
           "review",
           18,
           "C-"
          ],
          [
           "review",
           18,
           "C-"
          ],
          [
           "review",
           18,
           "C-"
          ],
          [
           "review",
           18,
           "C-"
          ],
          [
           "review",
           18,
           "C-"
          ],
          [
           "review",
           18,
           "C-"
          ],
          [
           "review",
           18,
           "C-"
          ],
          [
           "review",
           18,
           "C-"
          ],
          [
           "review",
           18,
           "C-"
          ],
          [
           "review",
           18,
           "C-"
          ],
          [
           "review",
           18,
           "C-"
          ],
          [
           "review",
           18,
           "C-"
          ],
          [
           "review",
           18,
           "C-"
          ],
          [
           "review",
           18,
           "C-"
          ],
          [
           "review",
           24,
           "C "
          ],
          [
           "review",
           24,
           "C "
          ],
          [
           "review",
           24,
           "C "
          ],
          [
           "review",
           24,
           "C "
          ],
          [
           "review",
           24,
           "C "
          ],
          [
           "review",
           24,
           "C "
          ],
          [
           "review",
           24,
           "C "
          ],
          [
           "review",
           24,
           "C "
          ],
          [
           "review",
           24,
           "C "
          ],
          [
           "review",
           24,
           "C "
          ],
          [
           "review",
           24,
           "C "
          ],
          [
           "review",
           24,
           "C "
          ],
          [
           "review",
           24,
           "C "
          ],
          [
           "review",
           24,
           "C "
          ],
          [
           "review",
           24,
           "C "
          ],
          [
           "review",
           24,
           "C "
          ],
          [
           "review",
           24,
           "C "
          ],
          [
           "review",
           24,
           "C "
          ],
          [
           "review",
           24,
           "C "
          ],
          [
           "review",
           24,
           "C "
          ],
          [
           "review",
           24,
           "C "
          ],
          [
           "review",
           24,
           "C "
          ],
          [
           "review",
           24,
           "C "
          ],
          [
           "review",
           24,
           "C "
          ],
          [
           "review",
           18,
           "C "
          ],
          [
           "review",
           18,
           "C "
          ],
          [
           "review",
           18,
           "C "
          ],
          [
           "review",
           18,
           "C "
          ],
          [
           "review",
           18,
           "C "
          ],
          [
           "review",
           18,
           "C "
          ],
          [
           "review",
           18,
           "C "
          ],
          [
           "review",
           18,
           "C "
          ],
          [
           "review",
           18,
           "C "
          ],
          [
           "review",
           18,
           "C "
          ],
          [
           "review",
           18,
           "C "
          ],
          [
           "review",
           18,
           "C "
          ],
          [
           "review",
           18,
           "C "
          ],
          [
           "review",
           18,
           "C "
          ],
          [
           "review",
           18,
           "C "
          ],
          [
           "review",
           18,
           "C "
          ],
          [
           "review",
           18,
           "C "
          ],
          [
           "review",
           18,
           "C "
          ],
          [
           "review",
           17,
           "C "
          ],
          [
           "review",
           17,
           "C "
          ],
          [
           "review",
           17,
           "C "
          ],
          [
           "review",
           17,
           "C "
          ],
          [
           "review",
           17,
           "C "
          ],
          [
           "review",
           17,
           "C "
          ],
          [
           "review",
           17,
           "C "
          ],
          [
           "review",
           17,
           "C "
          ],
          [
           "review",
           17,
           "C "
          ],
          [
           "review",
           17,
           "C "
          ],
          [
           "review",
           17,
           "C "
          ],
          [
           "review",
           17,
           "C "
          ],
          [
           "review",
           17,
           "C "
          ],
          [
           "review",
           17,
           "C "
          ],
          [
           "review",
           17,
           "C "
          ],
          [
           "review",
           17,
           "C "
          ],
          [
           "review",
           17,
           "C "
          ],
          [
           "review",
           18,
           "C+"
          ],
          [
           "review",
           18,
           "C+"
          ],
          [
           "review",
           18,
           "C+"
          ],
          [
           "review",
           18,
           "C+"
          ],
          [
           "review",
           18,
           "C+"
          ],
          [
           "review",
           18,
           "C+"
          ],
          [
           "review",
           18,
           "C+"
          ],
          [
           "review",
           18,
           "C+"
          ],
          [
           "review",
           18,
           "C+"
          ],
          [
           "review",
           18,
           "C+"
          ],
          [
           "review",
           18,
           "C+"
          ],
          [
           "review",
           18,
           "C+"
          ],
          [
           "review",
           18,
           "C+"
          ],
          [
           "review",
           18,
           "C+"
          ],
          [
           "review",
           18,
           "C+"
          ],
          [
           "review",
           18,
           "C+"
          ],
          [
           "review",
           18,
           "C+"
          ],
          [
           "review",
           18,
           "C+"
          ],
          [
           "review",
           18,
           "C+"
          ],
          [
           "review",
           18,
           "C+"
          ],
          [
           "review",
           18,
           "C+"
          ],
          [
           "review",
           18,
           "C+"
          ],
          [
           "review",
           18,
           "C+"
          ],
          [
           "review",
           18,
           "C+"
          ],
          [
           "review",
           18,
           "C+"
          ],
          [
           "review",
           18,
           "C+"
          ],
          [
           "review",
           18,
           "C+"
          ],
          [
           "review",
           18,
           "C+"
          ],
          [
           "review",
           18,
           "C+"
          ],
          [
           "review",
           18,
           "C+"
          ],
          [
           "review",
           18,
           "C+"
          ],
          [
           "review",
           18,
           "C+"
          ],
          [
           "review",
           18,
           "C+"
          ],
          [
           "review",
           18,
           "C+"
          ],
          [
           "review",
           18,
           "C+"
          ],
          [
           "review",
           18,
           "C+"
          ],
          [
           "review",
           18,
           "B-"
          ],
          [
           "review",
           18,
           "B-"
          ],
          [
           "review",
           18,
           "B-"
          ],
          [
           "review",
           18,
           "B-"
          ],
          [
           "review",
           18,
           "B-"
          ],
          [
           "review",
           18,
           "B-"
          ],
          [
           "review",
           18,
           "B-"
          ],
          [
           "review",
           18,
           "B-"
          ],
          [
           "review",
           18,
           "B-"
          ],
          [
           "review",
           18,
           "B-"
          ],
          [
           "review",
           18,
           "B-"
          ],
          [
           "review",
           18,
           "B-"
          ],
          [
           "review",
           18,
           "B-"
          ],
          [
           "review",
           18,
           "B-"
          ],
          [
           "review",
           18,
           "B-"
          ],
          [
           "review",
           18,
           "B-"
          ],
          [
           "review",
           18,
           "B-"
          ],
          [
           "review",
           18,
           "B-"
          ],
          [
           "review",
           12,
           "B "
          ],
          [
           "review",
           12,
           "B "
          ],
          [
           "review",
           12,
           "B "
          ],
          [
           "review",
           12,
           "B "
          ],
          [
           "review",
           12,
           "B "
          ],
          [
           "review",
           12,
           "B "
          ],
          [
           "review",
           12,
           "B "
          ],
          [
           "review",
           12,
           "B "
          ],
          [
           "review",
           12,
           "B "
          ],
          [
           "review",
           12,
           "B "
          ],
          [
           "review",
           12,
           "B "
          ],
          [
           "review",
           12,
           "B "
          ],
          [
           "review",
           12,
           "B "
          ],
          [
           "review",
           12,
           "B "
          ],
          [
           "review",
           12,
           "B "
          ],
          [
           "review",
           12,
           "B "
          ],
          [
           "review",
           12,
           "B "
          ],
          [
           "review",
           12,
           "B "
          ],
          [
           "review",
           12,
           "B "
          ],
          [
           "review",
           12,
           "B "
          ],
          [
           "review",
           12,
           "B "
          ],
          [
           "review",
           12,
           "B "
          ],
          [
           "review",
           12,
           "B "
          ],
          [
           "review",
           12,
           "B "
          ],
          [
           "review",
           12,
           "B "
          ],
          [
           "review",
           12,
           "B "
          ],
          [
           "review",
           12,
           "B "
          ],
          [
           "review",
           12,
           "B "
          ],
          [
           "review",
           12,
           "B "
          ],
          [
           "review",
           12,
           "B "
          ],
          [
           "review",
           12,
           "B "
          ],
          [
           "review",
           12,
           "B "
          ],
          [
           "review",
           12,
           "B "
          ],
          [
           "review",
           12,
           "B "
          ],
          [
           "review",
           12,
           "B "
          ],
          [
           "review",
           12,
           "B "
          ],
          [
           "review",
           10,
           "B "
          ],
          [
           "review",
           10,
           "B "
          ],
          [
           "review",
           10,
           "B "
          ],
          [
           "review",
           10,
           "B "
          ],
          [
           "review",
           10,
           "B "
          ],
          [
           "review",
           10,
           "B "
          ],
          [
           "review",
           10,
           "B "
          ],
          [
           "review",
           10,
           "B "
          ],
          [
           "review",
           10,
           "B "
          ],
          [
           "review",
           10,
           "B "
          ],
          [
           "review",
           1,
           "B "
          ],
          [
           "review",
           12,
           "B+"
          ],
          [
           "review",
           12,
           "B+"
          ],
          [
           "review",
           12,
           "B+"
          ],
          [
           "review",
           12,
           "B+"
          ],
          [
           "review",
           12,
           "B+"
          ],
          [
           "review",
           12,
           "B+"
          ],
          [
           "review",
           12,
           "B+"
          ],
          [
           "review",
           12,
           "B+"
          ],
          [
           "review",
           12,
           "B+"
          ],
          [
           "review",
           12,
           "B+"
          ],
          [
           "review",
           12,
           "B+"
          ],
          [
           "review",
           12,
           "B+"
          ],
          [
           "review",
           18,
           "A-"
          ],
          [
           "review",
           18,
           "A-"
          ],
          [
           "review",
           18,
           "A-"
          ],
          [
           "review",
           18,
           "A-"
          ],
          [
           "review",
           18,
           "A-"
          ],
          [
           "review",
           18,
           "A-"
          ],
          [
           "review",
           18,
           "A-"
          ],
          [
           "review",
           18,
           "A-"
          ],
          [
           "review",
           18,
           "A-"
          ],
          [
           "review",
           18,
           "A-"
          ],
          [
           "review",
           18,
           "A-"
          ],
          [
           "review",
           18,
           "A-"
          ],
          [
           "review",
           18,
           "A-"
          ],
          [
           "review",
           18,
           "A-"
          ],
          [
           "review",
           18,
           "A-"
          ],
          [
           "review",
           18,
           "A-"
          ],
          [
           "review",
           18,
           "A-"
          ],
          [
           "review",
           18,
           "A-"
          ],
          [
           "review",
           12,
           "A-"
          ],
          [
           "review",
           12,
           "A-"
          ],
          [
           "review",
           12,
           "A-"
          ],
          [
           "review",
           12,
           "A-"
          ],
          [
           "review",
           12,
           "A-"
          ],
          [
           "review",
           12,
           "A-"
          ],
          [
           "review",
           12,
           "A-"
          ],
          [
           "review",
           12,
           "A-"
          ],
          [
           "review",
           12,
           "A-"
          ],
          [
           "review",
           12,
           "A-"
          ],
          [
           "review",
           12,
           "A-"
          ],
          [
           "review",
           12,
           "A-"
          ],
          [
           "review",
           6,
           "A "
          ],
          [
           "review",
           6,
           "A "
          ],
          [
           "review",
           6,
           "A "
          ],
          [
           "review",
           6,
           "A "
          ],
          [
           "review",
           6,
           "A "
          ],
          [
           "review",
           6,
           "A "
          ],
          [
           "review",
           12,
           "A "
          ],
          [
           "review",
           12,
           "A "
          ],
          [
           "review",
           12,
           "A "
          ],
          [
           "review",
           12,
           "A "
          ],
          [
           "review",
           12,
           "A "
          ],
          [
           "review",
           12,
           "A "
          ],
          [
           "review",
           12,
           "A "
          ],
          [
           "review",
           12,
           "A "
          ],
          [
           "review",
           12,
           "A "
          ],
          [
           "review",
           12,
           "A "
          ],
          [
           "review",
           12,
           "A "
          ],
          [
           "review",
           12,
           "A "
          ]
         ],
         "hovertemplate": "badge_det=review<br>example=%{x}<br>influence=%{y}<br>badge=%{customdata[0]}<br>count=%{customdata[1]}<br>letter=%{customdata[2]}<extra></extra>",
         "legendgroup": "review",
         "marker": {
          "color": "#00cc96",
          "pattern": {
           "shape": ""
          }
         },
         "name": "review",
         "offsetgroup": "review",
         "orientation": "v",
         "showlegend": true,
         "textposition": "auto",
         "type": "bar",
         "x": [
          "example 5",
          "example 5",
          "example 5",
          "example 5",
          "example 5",
          "example 5",
          "example 5",
          "example 5",
          "example 5",
          "example 5",
          "example 5",
          "example 5",
          "example 5",
          "example 5",
          "example 5",
          "example 5",
          "example 5",
          "example 5",
          "example 15",
          "example 15",
          "example 15",
          "example 15",
          "example 15",
          "example 15",
          "example 15",
          "example 15",
          "example 15",
          "example 15",
          "example 15",
          "example 15",
          "example 15",
          "example 15",
          "example 15",
          "example 15",
          "example 15",
          "example 15",
          "example 15",
          "example 15",
          "example 15",
          "example 15",
          "example 15",
          "example 15",
          "example 11",
          "example 11",
          "example 11",
          "example 11",
          "example 11",
          "example 11",
          "example 11",
          "example 11",
          "example 11",
          "example 11",
          "example 11",
          "example 11",
          "example 11",
          "example 11",
          "example 11",
          "example 11",
          "example 11",
          "example 11",
          "example 2",
          "example 2",
          "example 2",
          "example 2",
          "example 2",
          "example 2",
          "example 2",
          "example 2",
          "example 2",
          "example 2",
          "example 2",
          "example 2",
          "example 2",
          "example 2",
          "example 2",
          "example 2",
          "example 2",
          "example 21",
          "example 21",
          "example 21",
          "example 21",
          "example 21",
          "example 21",
          "example 21",
          "example 21",
          "example 21",
          "example 21",
          "example 21",
          "example 21",
          "example 21",
          "example 21",
          "example 21",
          "example 21",
          "example 21",
          "example 21",
          "example 14",
          "example 14",
          "example 14",
          "example 14",
          "example 14",
          "example 14",
          "example 14",
          "example 14",
          "example 14",
          "example 14",
          "example 14",
          "example 14",
          "example 14",
          "example 14",
          "example 14",
          "example 14",
          "example 14",
          "example 14",
          "example 18",
          "example 18",
          "example 18",
          "example 18",
          "example 18",
          "example 18",
          "example 18",
          "example 18",
          "example 18",
          "example 18",
          "example 18",
          "example 18",
          "example 18",
          "example 18",
          "example 18",
          "example 18",
          "example 18",
          "example 18",
          "example 26",
          "example 26",
          "example 26",
          "example 26",
          "example 26",
          "example 26",
          "example 26",
          "example 26",
          "example 26",
          "example 26",
          "example 26",
          "example 26",
          "example 19",
          "example 19",
          "example 19",
          "example 19",
          "example 19",
          "example 19",
          "example 19",
          "example 19",
          "example 19",
          "example 19",
          "example 19",
          "example 19",
          "example 22",
          "example 22",
          "example 22",
          "example 22",
          "example 22",
          "example 22",
          "example 22",
          "example 22",
          "example 22",
          "example 22",
          "example 22",
          "example 22",
          "example 12",
          "example 12",
          "example 12",
          "example 12",
          "example 12",
          "example 12",
          "example 12",
          "example 12",
          "example 12",
          "example 12",
          "example 13",
          "example 20",
          "example 20",
          "example 20",
          "example 20",
          "example 20",
          "example 20",
          "example 20",
          "example 20",
          "example 20",
          "example 20",
          "example 20",
          "example 20",
          "example 7",
          "example 7",
          "example 7",
          "example 7",
          "example 7",
          "example 7",
          "example 7",
          "example 7",
          "example 7",
          "example 7",
          "example 7",
          "example 7",
          "example 7",
          "example 7",
          "example 7",
          "example 7",
          "example 7",
          "example 7",
          "example 25",
          "example 25",
          "example 25",
          "example 25",
          "example 25",
          "example 25",
          "example 25",
          "example 25",
          "example 25",
          "example 25",
          "example 25",
          "example 25",
          "example 8",
          "example 8",
          "example 8",
          "example 8",
          "example 8",
          "example 8",
          "example 9",
          "example 9",
          "example 9",
          "example 9",
          "example 9",
          "example 9",
          "example 9",
          "example 9",
          "example 9",
          "example 9",
          "example 9",
          "example 9"
         ],
         "xaxis": "x",
         "y": [
          3,
          3,
          3,
          3,
          3,
          3,
          3,
          3,
          3,
          3,
          3,
          3,
          3,
          3,
          3,
          3,
          3,
          3,
          3,
          3,
          3,
          3,
          3,
          3,
          3,
          3,
          3,
          3,
          3,
          3,
          3,
          3,
          3,
          3,
          3,
          3,
          3,
          3,
          3,
          3,
          3,
          3,
          3,
          3,
          3,
          3,
          3,
          3,
          3,
          3,
          3,
          3,
          3,
          3,
          3,
          3,
          3,
          3,
          3,
          3,
          3,
          3,
          3,
          3,
          3,
          3,
          3,
          3,
          3,
          3,
          3,
          3,
          3,
          3,
          3,
          3,
          3,
          3,
          3,
          3,
          3,
          3,
          3,
          3,
          3,
          3,
          3,
          3,
          3,
          3,
          3,
          3,
          3,
          3,
          3,
          3,
          3,
          3,
          3,
          3,
          3,
          3,
          3,
          3,
          3,
          3,
          3,
          3,
          3,
          3,
          3,
          3,
          3,
          3,
          3,
          3,
          3,
          3,
          3,
          3,
          3,
          3,
          3,
          3,
          3,
          3,
          3,
          3,
          3,
          3,
          3,
          3,
          3,
          3,
          3,
          3,
          3,
          3,
          3,
          3,
          3,
          3,
          3,
          3,
          3,
          3,
          3,
          3,
          3,
          3,
          3,
          3,
          3,
          3,
          3,
          3,
          3,
          3,
          3,
          3,
          3,
          3,
          3,
          3,
          3,
          3,
          3,
          3,
          3,
          3,
          3,
          3,
          3,
          3,
          3,
          3,
          3,
          3,
          3,
          3,
          3,
          3,
          3,
          3,
          3,
          3,
          3,
          3,
          3,
          3,
          3,
          3,
          3,
          3,
          3,
          3,
          3,
          3,
          3,
          3,
          3,
          3,
          3,
          3,
          3,
          3,
          3,
          3,
          3,
          3,
          3,
          3,
          3,
          3,
          3,
          3,
          3,
          3,
          3,
          3,
          3,
          3,
          3,
          3,
          3,
          3,
          3,
          3,
          3,
          3,
          3,
          3,
          3,
          3,
          3,
          3,
          3,
          3
         ],
         "yaxis": "y"
        },
        {
         "alignmentgroup": "True",
         "customdata": [
          [
           "community",
           4,
           "C "
          ],
          [
           "community",
           4,
           "C "
          ],
          [
           "community",
           4,
           "C "
          ],
          [
           "community",
           4,
           "C "
          ],
          [
           "community",
           8,
           "B "
          ],
          [
           "community",
           8,
           "B "
          ],
          [
           "community",
           8,
           "B "
          ],
          [
           "community",
           8,
           "B "
          ],
          [
           "community",
           8,
           "B "
          ],
          [
           "community",
           8,
           "B "
          ],
          [
           "community",
           8,
           "B "
          ],
          [
           "community",
           8,
           "B "
          ]
         ],
         "hovertemplate": "badge_det=community_review_makeup<br>example=%{x}<br>influence=%{y}<br>badge=%{customdata[0]}<br>count=%{customdata[1]}<br>letter=%{customdata[2]}<extra></extra>",
         "legendgroup": "community_review_makeup",
         "marker": {
          "color": "#ab63fa",
          "pattern": {
           "shape": ""
          }
         },
         "name": "community_review_makeup",
         "offsetgroup": "community_review_makeup",
         "orientation": "v",
         "showlegend": true,
         "textposition": "auto",
         "type": "bar",
         "x": [
          "example 2",
          "example 2",
          "example 2",
          "example 2",
          "example 12",
          "example 12",
          "example 12",
          "example 12",
          "example 12",
          "example 12",
          "example 12",
          "example 12"
         ],
         "xaxis": "x",
         "y": [
          0.75,
          0.75,
          0.75,
          0.75,
          0.75,
          0.75,
          0.75,
          0.75,
          0.75,
          0.75,
          0.75,
          0.75
         ],
         "yaxis": "y"
        },
        {
         "alignmentgroup": "True",
         "customdata": [
          [
           "community",
           3,
           "B "
          ],
          [
           "community",
           3,
           "B "
          ],
          [
           "community",
           3,
           "B "
          ]
         ],
         "hovertemplate": "badge_det=community_review_upgrade<br>example=%{x}<br>influence=%{y}<br>badge=%{customdata[0]}<br>count=%{customdata[1]}<br>letter=%{customdata[2]}<extra></extra>",
         "legendgroup": "community_review_upgrade",
         "marker": {
          "color": "#FFA15A",
          "pattern": {
           "shape": ""
          }
         },
         "name": "community_review_upgrade",
         "offsetgroup": "community_review_upgrade",
         "orientation": "v",
         "showlegend": true,
         "textposition": "auto",
         "type": "bar",
         "x": [
          "example 13",
          "example 13",
          "example 13"
         ],
         "xaxis": "x",
         "y": [
          1,
          1,
          1
         ],
         "yaxis": "y"
        },
        {
         "alignmentgroup": "True",
         "customdata": [
          [
           "practice",
           6,
           "B-"
          ],
          [
           "practice",
           6,
           "B-"
          ],
          [
           "practice",
           6,
           "B-"
          ],
          [
           "practice",
           6,
           "B-"
          ],
          [
           "practice",
           6,
           "B-"
          ],
          [
           "practice",
           6,
           "B-"
          ],
          [
           "practice",
           18,
           "B "
          ],
          [
           "practice",
           18,
           "B "
          ],
          [
           "practice",
           18,
           "B "
          ],
          [
           "practice",
           18,
           "B "
          ],
          [
           "practice",
           18,
           "B "
          ],
          [
           "practice",
           18,
           "B "
          ],
          [
           "practice",
           18,
           "B "
          ],
          [
           "practice",
           18,
           "B "
          ],
          [
           "practice",
           18,
           "B "
          ],
          [
           "practice",
           18,
           "B "
          ],
          [
           "practice",
           18,
           "B "
          ],
          [
           "practice",
           18,
           "B "
          ],
          [
           "practice",
           18,
           "B "
          ],
          [
           "practice",
           18,
           "B "
          ],
          [
           "practice",
           18,
           "B "
          ],
          [
           "practice",
           18,
           "B "
          ],
          [
           "practice",
           18,
           "B "
          ],
          [
           "practice",
           18,
           "B "
          ],
          [
           "practice",
           12,
           "B "
          ],
          [
           "practice",
           12,
           "B "
          ],
          [
           "practice",
           12,
           "B "
          ],
          [
           "practice",
           12,
           "B "
          ],
          [
           "practice",
           12,
           "B "
          ],
          [
           "practice",
           12,
           "B "
          ],
          [
           "practice",
           12,
           "B "
          ],
          [
           "practice",
           12,
           "B "
          ],
          [
           "practice",
           12,
           "B "
          ],
          [
           "practice",
           12,
           "B "
          ],
          [
           "practice",
           12,
           "B "
          ],
          [
           "practice",
           12,
           "B "
          ],
          [
           "practice",
           18,
           "B "
          ],
          [
           "practice",
           18,
           "B "
          ],
          [
           "practice",
           18,
           "B "
          ],
          [
           "practice",
           18,
           "B "
          ],
          [
           "practice",
           18,
           "B "
          ],
          [
           "practice",
           18,
           "B "
          ],
          [
           "practice",
           18,
           "B "
          ],
          [
           "practice",
           18,
           "B "
          ],
          [
           "practice",
           18,
           "B "
          ],
          [
           "practice",
           18,
           "B "
          ],
          [
           "practice",
           18,
           "B "
          ],
          [
           "practice",
           18,
           "B "
          ],
          [
           "practice",
           18,
           "B "
          ],
          [
           "practice",
           18,
           "B "
          ],
          [
           "practice",
           18,
           "B "
          ],
          [
           "practice",
           18,
           "B "
          ],
          [
           "practice",
           18,
           "B "
          ],
          [
           "practice",
           18,
           "B "
          ],
          [
           "practice",
           12,
           "B "
          ],
          [
           "practice",
           12,
           "B "
          ],
          [
           "practice",
           12,
           "B "
          ],
          [
           "practice",
           12,
           "B "
          ],
          [
           "practice",
           12,
           "B "
          ],
          [
           "practice",
           12,
           "B "
          ],
          [
           "practice",
           12,
           "B "
          ],
          [
           "practice",
           12,
           "B "
          ],
          [
           "practice",
           12,
           "B "
          ],
          [
           "practice",
           12,
           "B "
          ],
          [
           "practice",
           12,
           "B "
          ],
          [
           "practice",
           12,
           "B "
          ],
          [
           "practice",
           12,
           "B "
          ],
          [
           "practice",
           12,
           "B "
          ],
          [
           "practice",
           12,
           "B "
          ],
          [
           "practice",
           12,
           "B "
          ],
          [
           "practice",
           12,
           "B "
          ],
          [
           "practice",
           12,
           "B "
          ],
          [
           "practice",
           12,
           "B "
          ],
          [
           "practice",
           12,
           "B "
          ],
          [
           "practice",
           12,
           "B "
          ],
          [
           "practice",
           12,
           "B "
          ],
          [
           "practice",
           12,
           "B "
          ],
          [
           "practice",
           12,
           "B "
          ],
          [
           "practice",
           12,
           "B "
          ],
          [
           "practice",
           12,
           "B "
          ],
          [
           "practice",
           12,
           "B "
          ],
          [
           "practice",
           12,
           "B "
          ],
          [
           "practice",
           12,
           "B "
          ],
          [
           "practice",
           12,
           "B "
          ],
          [
           "practice",
           12,
           "B "
          ],
          [
           "practice",
           12,
           "B "
          ],
          [
           "practice",
           12,
           "B "
          ],
          [
           "practice",
           12,
           "B "
          ],
          [
           "practice",
           12,
           "B "
          ],
          [
           "practice",
           12,
           "B "
          ],
          [
           "practice",
           16,
           "B "
          ],
          [
           "practice",
           16,
           "B "
          ],
          [
           "practice",
           16,
           "B "
          ],
          [
           "practice",
           16,
           "B "
          ],
          [
           "practice",
           16,
           "B "
          ],
          [
           "practice",
           16,
           "B "
          ],
          [
           "practice",
           16,
           "B "
          ],
          [
           "practice",
           16,
           "B "
          ],
          [
           "practice",
           16,
           "B "
          ],
          [
           "practice",
           16,
           "B "
          ],
          [
           "practice",
           16,
           "B "
          ],
          [
           "practice",
           16,
           "B "
          ],
          [
           "practice",
           16,
           "B "
          ],
          [
           "practice",
           16,
           "B "
          ],
          [
           "practice",
           16,
           "B "
          ],
          [
           "practice",
           16,
           "B "
          ],
          [
           "practice",
           16,
           "B "
          ],
          [
           "practice",
           16,
           "B "
          ],
          [
           "practice",
           16,
           "B "
          ],
          [
           "practice",
           16,
           "B "
          ],
          [
           "practice",
           16,
           "B "
          ],
          [
           "practice",
           16,
           "B "
          ],
          [
           "practice",
           16,
           "B "
          ],
          [
           "practice",
           16,
           "B "
          ],
          [
           "practice",
           16,
           "B "
          ],
          [
           "practice",
           16,
           "B "
          ],
          [
           "practice",
           16,
           "B "
          ],
          [
           "practice",
           16,
           "B "
          ],
          [
           "practice",
           16,
           "B "
          ],
          [
           "practice",
           16,
           "B "
          ],
          [
           "practice",
           16,
           "B "
          ],
          [
           "practice",
           16,
           "B "
          ],
          [
           "practice",
           18,
           "B+"
          ],
          [
           "practice",
           18,
           "B+"
          ],
          [
           "practice",
           18,
           "B+"
          ],
          [
           "practice",
           18,
           "B+"
          ],
          [
           "practice",
           18,
           "B+"
          ],
          [
           "practice",
           18,
           "B+"
          ],
          [
           "practice",
           18,
           "B+"
          ],
          [
           "practice",
           18,
           "B+"
          ],
          [
           "practice",
           18,
           "B+"
          ],
          [
           "practice",
           18,
           "B+"
          ],
          [
           "practice",
           18,
           "B+"
          ],
          [
           "practice",
           18,
           "B+"
          ],
          [
           "practice",
           18,
           "B+"
          ],
          [
           "practice",
           18,
           "B+"
          ],
          [
           "practice",
           18,
           "B+"
          ],
          [
           "practice",
           18,
           "B+"
          ],
          [
           "practice",
           18,
           "B+"
          ],
          [
           "practice",
           18,
           "B+"
          ],
          [
           "practice",
           12,
           "B+"
          ],
          [
           "practice",
           12,
           "B+"
          ],
          [
           "practice",
           12,
           "B+"
          ],
          [
           "practice",
           12,
           "B+"
          ],
          [
           "practice",
           12,
           "B+"
          ],
          [
           "practice",
           12,
           "B+"
          ],
          [
           "practice",
           12,
           "B+"
          ],
          [
           "practice",
           12,
           "B+"
          ],
          [
           "practice",
           12,
           "B+"
          ],
          [
           "practice",
           12,
           "B+"
          ],
          [
           "practice",
           12,
           "B+"
          ],
          [
           "practice",
           12,
           "B+"
          ],
          [
           "practice",
           24,
           "A-"
          ],
          [
           "practice",
           24,
           "A-"
          ],
          [
           "practice",
           24,
           "A-"
          ],
          [
           "practice",
           24,
           "A-"
          ],
          [
           "practice",
           24,
           "A-"
          ],
          [
           "practice",
           24,
           "A-"
          ],
          [
           "practice",
           24,
           "A-"
          ],
          [
           "practice",
           24,
           "A-"
          ],
          [
           "practice",
           24,
           "A-"
          ],
          [
           "practice",
           24,
           "A-"
          ],
          [
           "practice",
           24,
           "A-"
          ],
          [
           "practice",
           24,
           "A-"
          ],
          [
           "practice",
           24,
           "A-"
          ],
          [
           "practice",
           24,
           "A-"
          ],
          [
           "practice",
           24,
           "A-"
          ],
          [
           "practice",
           24,
           "A-"
          ],
          [
           "practice",
           24,
           "A-"
          ],
          [
           "practice",
           24,
           "A-"
          ],
          [
           "practice",
           24,
           "A-"
          ],
          [
           "practice",
           24,
           "A-"
          ],
          [
           "practice",
           24,
           "A-"
          ],
          [
           "practice",
           24,
           "A-"
          ],
          [
           "practice",
           24,
           "A-"
          ],
          [
           "practice",
           24,
           "A-"
          ],
          [
           "practice",
           18,
           "A-"
          ],
          [
           "practice",
           18,
           "A-"
          ],
          [
           "practice",
           18,
           "A-"
          ],
          [
           "practice",
           18,
           "A-"
          ],
          [
           "practice",
           18,
           "A-"
          ],
          [
           "practice",
           18,
           "A-"
          ],
          [
           "practice",
           18,
           "A-"
          ],
          [
           "practice",
           18,
           "A-"
          ],
          [
           "practice",
           18,
           "A-"
          ],
          [
           "practice",
           18,
           "A-"
          ],
          [
           "practice",
           18,
           "A-"
          ],
          [
           "practice",
           18,
           "A-"
          ],
          [
           "practice",
           18,
           "A-"
          ],
          [
           "practice",
           18,
           "A-"
          ],
          [
           "practice",
           18,
           "A-"
          ],
          [
           "practice",
           18,
           "A-"
          ],
          [
           "practice",
           18,
           "A-"
          ],
          [
           "practice",
           18,
           "A-"
          ],
          [
           "practice",
           18,
           "A-"
          ],
          [
           "practice",
           18,
           "A-"
          ],
          [
           "practice",
           18,
           "A-"
          ],
          [
           "practice",
           18,
           "A-"
          ],
          [
           "practice",
           18,
           "A-"
          ],
          [
           "practice",
           18,
           "A-"
          ],
          [
           "practice",
           18,
           "A-"
          ],
          [
           "practice",
           18,
           "A-"
          ],
          [
           "practice",
           18,
           "A-"
          ],
          [
           "practice",
           18,
           "A-"
          ],
          [
           "practice",
           18,
           "A-"
          ],
          [
           "practice",
           18,
           "A-"
          ],
          [
           "practice",
           18,
           "A-"
          ],
          [
           "practice",
           18,
           "A-"
          ],
          [
           "practice",
           18,
           "A-"
          ],
          [
           "practice",
           18,
           "A-"
          ],
          [
           "practice",
           18,
           "A-"
          ],
          [
           "practice",
           18,
           "A-"
          ],
          [
           "practice",
           12,
           "A-"
          ],
          [
           "practice",
           12,
           "A-"
          ],
          [
           "practice",
           12,
           "A-"
          ],
          [
           "practice",
           12,
           "A-"
          ],
          [
           "practice",
           12,
           "A-"
          ],
          [
           "practice",
           12,
           "A-"
          ],
          [
           "practice",
           12,
           "A-"
          ],
          [
           "practice",
           12,
           "A-"
          ],
          [
           "practice",
           12,
           "A-"
          ],
          [
           "practice",
           12,
           "A-"
          ],
          [
           "practice",
           12,
           "A-"
          ],
          [
           "practice",
           12,
           "A-"
          ],
          [
           "practice",
           18,
           "A "
          ],
          [
           "practice",
           18,
           "A "
          ],
          [
           "practice",
           18,
           "A "
          ],
          [
           "practice",
           18,
           "A "
          ],
          [
           "practice",
           18,
           "A "
          ],
          [
           "practice",
           18,
           "A "
          ],
          [
           "practice",
           18,
           "A "
          ],
          [
           "practice",
           18,
           "A "
          ],
          [
           "practice",
           18,
           "A "
          ],
          [
           "practice",
           18,
           "A "
          ],
          [
           "practice",
           18,
           "A "
          ],
          [
           "practice",
           18,
           "A "
          ],
          [
           "practice",
           18,
           "A "
          ],
          [
           "practice",
           18,
           "A "
          ],
          [
           "practice",
           18,
           "A "
          ],
          [
           "practice",
           18,
           "A "
          ],
          [
           "practice",
           18,
           "A "
          ],
          [
           "practice",
           18,
           "A "
          ],
          [
           "practice",
           12,
           "A "
          ],
          [
           "practice",
           12,
           "A "
          ],
          [
           "practice",
           12,
           "A "
          ],
          [
           "practice",
           12,
           "A "
          ],
          [
           "practice",
           12,
           "A "
          ],
          [
           "practice",
           12,
           "A "
          ],
          [
           "practice",
           12,
           "A "
          ],
          [
           "practice",
           12,
           "A "
          ],
          [
           "practice",
           12,
           "A "
          ],
          [
           "practice",
           12,
           "A "
          ],
          [
           "practice",
           12,
           "A "
          ],
          [
           "practice",
           12,
           "A "
          ],
          [
           "practice",
           6,
           "A "
          ],
          [
           "practice",
           6,
           "A "
          ],
          [
           "practice",
           6,
           "A "
          ],
          [
           "practice",
           6,
           "A "
          ],
          [
           "practice",
           6,
           "A "
          ],
          [
           "practice",
           6,
           "A "
          ],
          [
           "practice",
           24,
           "A "
          ],
          [
           "practice",
           24,
           "A "
          ],
          [
           "practice",
           24,
           "A "
          ],
          [
           "practice",
           24,
           "A "
          ],
          [
           "practice",
           24,
           "A "
          ],
          [
           "practice",
           24,
           "A "
          ],
          [
           "practice",
           24,
           "A "
          ],
          [
           "practice",
           24,
           "A "
          ],
          [
           "practice",
           24,
           "A "
          ],
          [
           "practice",
           24,
           "A "
          ],
          [
           "practice",
           24,
           "A "
          ],
          [
           "practice",
           24,
           "A "
          ],
          [
           "practice",
           24,
           "A "
          ],
          [
           "practice",
           24,
           "A "
          ],
          [
           "practice",
           24,
           "A "
          ],
          [
           "practice",
           24,
           "A "
          ],
          [
           "practice",
           24,
           "A "
          ],
          [
           "practice",
           24,
           "A "
          ],
          [
           "practice",
           24,
           "A "
          ],
          [
           "practice",
           24,
           "A "
          ],
          [
           "practice",
           24,
           "A "
          ],
          [
           "practice",
           24,
           "A "
          ],
          [
           "practice",
           24,
           "A "
          ],
          [
           "practice",
           24,
           "A "
          ],
          [
           "practice",
           18,
           "A "
          ],
          [
           "practice",
           18,
           "A "
          ],
          [
           "practice",
           18,
           "A "
          ],
          [
           "practice",
           18,
           "A "
          ],
          [
           "practice",
           18,
           "A "
          ],
          [
           "practice",
           18,
           "A "
          ],
          [
           "practice",
           18,
           "A "
          ],
          [
           "practice",
           18,
           "A "
          ],
          [
           "practice",
           18,
           "A "
          ],
          [
           "practice",
           18,
           "A "
          ],
          [
           "practice",
           18,
           "A "
          ],
          [
           "practice",
           18,
           "A "
          ],
          [
           "practice",
           18,
           "A "
          ],
          [
           "practice",
           18,
           "A "
          ],
          [
           "practice",
           18,
           "A "
          ],
          [
           "practice",
           18,
           "A "
          ],
          [
           "practice",
           18,
           "A "
          ],
          [
           "practice",
           18,
           "A "
          ]
         ],
         "hovertemplate": "badge_det=practice<br>example=%{x}<br>influence=%{y}<br>badge=%{customdata[0]}<br>count=%{customdata[1]}<br>letter=%{customdata[2]}<extra></extra>",
         "legendgroup": "practice",
         "marker": {
          "color": "#19d3f3",
          "pattern": {
           "shape": ""
          }
         },
         "name": "practice",
         "offsetgroup": "practice",
         "orientation": "v",
         "showlegend": true,
         "textposition": "auto",
         "type": "bar",
         "x": [
          "example 18",
          "example 18",
          "example 18",
          "example 18",
          "example 18",
          "example 18",
          "example 24",
          "example 24",
          "example 24",
          "example 24",
          "example 24",
          "example 24",
          "example 24",
          "example 24",
          "example 24",
          "example 24",
          "example 24",
          "example 24",
          "example 24",
          "example 24",
          "example 24",
          "example 24",
          "example 24",
          "example 24",
          "example 26",
          "example 26",
          "example 26",
          "example 26",
          "example 26",
          "example 26",
          "example 26",
          "example 26",
          "example 26",
          "example 26",
          "example 26",
          "example 26",
          "example 16",
          "example 16",
          "example 16",
          "example 16",
          "example 16",
          "example 16",
          "example 16",
          "example 16",
          "example 16",
          "example 16",
          "example 16",
          "example 16",
          "example 16",
          "example 16",
          "example 16",
          "example 16",
          "example 16",
          "example 16",
          "example 19",
          "example 19",
          "example 19",
          "example 19",
          "example 19",
          "example 19",
          "example 19",
          "example 19",
          "example 19",
          "example 19",
          "example 19",
          "example 19",
          "example 22",
          "example 22",
          "example 22",
          "example 22",
          "example 22",
          "example 22",
          "example 22",
          "example 22",
          "example 22",
          "example 22",
          "example 22",
          "example 22",
          "example 12",
          "example 12",
          "example 12",
          "example 12",
          "example 12",
          "example 12",
          "example 12",
          "example 12",
          "example 12",
          "example 12",
          "example 12",
          "example 12",
          "example 3",
          "example 3",
          "example 3",
          "example 3",
          "example 3",
          "example 3",
          "example 3",
          "example 3",
          "example 3",
          "example 3",
          "example 3",
          "example 3",
          "example 3",
          "example 3",
          "example 3",
          "example 3",
          "example 13",
          "example 13",
          "example 13",
          "example 13",
          "example 13",
          "example 13",
          "example 13",
          "example 13",
          "example 13",
          "example 13",
          "example 13",
          "example 13",
          "example 13",
          "example 13",
          "example 13",
          "example 13",
          "example 17",
          "example 17",
          "example 17",
          "example 17",
          "example 17",
          "example 17",
          "example 17",
          "example 17",
          "example 17",
          "example 17",
          "example 17",
          "example 17",
          "example 17",
          "example 17",
          "example 17",
          "example 17",
          "example 17",
          "example 17",
          "example 20",
          "example 20",
          "example 20",
          "example 20",
          "example 20",
          "example 20",
          "example 20",
          "example 20",
          "example 20",
          "example 20",
          "example 20",
          "example 20",
          "example 27",
          "example 27",
          "example 27",
          "example 27",
          "example 27",
          "example 27",
          "example 27",
          "example 27",
          "example 27",
          "example 27",
          "example 27",
          "example 27",
          "example 27",
          "example 27",
          "example 27",
          "example 27",
          "example 27",
          "example 27",
          "example 27",
          "example 27",
          "example 27",
          "example 27",
          "example 27",
          "example 27",
          "example 29",
          "example 29",
          "example 29",
          "example 29",
          "example 29",
          "example 29",
          "example 29",
          "example 29",
          "example 29",
          "example 29",
          "example 29",
          "example 29",
          "example 29",
          "example 29",
          "example 29",
          "example 29",
          "example 29",
          "example 29",
          "example 6",
          "example 6",
          "example 6",
          "example 6",
          "example 6",
          "example 6",
          "example 6",
          "example 6",
          "example 6",
          "example 6",
          "example 6",
          "example 6",
          "example 6",
          "example 6",
          "example 6",
          "example 6",
          "example 6",
          "example 6",
          "example 25",
          "example 25",
          "example 25",
          "example 25",
          "example 25",
          "example 25",
          "example 25",
          "example 25",
          "example 25",
          "example 25",
          "example 25",
          "example 25",
          "example 28",
          "example 28",
          "example 28",
          "example 28",
          "example 28",
          "example 28",
          "example 28",
          "example 28",
          "example 28",
          "example 28",
          "example 28",
          "example 28",
          "example 28",
          "example 28",
          "example 28",
          "example 28",
          "example 28",
          "example 28",
          "example 8",
          "example 8",
          "example 8",
          "example 8",
          "example 8",
          "example 8",
          "example 8",
          "example 8",
          "example 8",
          "example 8",
          "example 8",
          "example 8",
          "example 9",
          "example 9",
          "example 9",
          "example 9",
          "example 9",
          "example 9",
          "example 10",
          "example 10",
          "example 10",
          "example 10",
          "example 10",
          "example 10",
          "example 10",
          "example 10",
          "example 10",
          "example 10",
          "example 10",
          "example 10",
          "example 10",
          "example 10",
          "example 10",
          "example 10",
          "example 10",
          "example 10",
          "example 10",
          "example 10",
          "example 10",
          "example 10",
          "example 10",
          "example 10",
          "example 23",
          "example 23",
          "example 23",
          "example 23",
          "example 23",
          "example 23",
          "example 23",
          "example 23",
          "example 23",
          "example 23",
          "example 23",
          "example 23",
          "example 23",
          "example 23",
          "example 23",
          "example 23",
          "example 23",
          "example 23"
         ],
         "xaxis": "x",
         "y": [
          6,
          6,
          6,
          6,
          6,
          6,
          6,
          6,
          6,
          6,
          6,
          6,
          6,
          6,
          6,
          6,
          6,
          6,
          6,
          6,
          6,
          6,
          6,
          6,
          6,
          6,
          6,
          6,
          6,
          6,
          6,
          6,
          6,
          6,
          6,
          6,
          6,
          6,
          6,
          6,
          6,
          6,
          6,
          6,
          6,
          6,
          6,
          6,
          6,
          6,
          6,
          6,
          6,
          6,
          6,
          6,
          6,
          6,
          6,
          6,
          6,
          6,
          6,
          6,
          6,
          6,
          6,
          6,
          6,
          6,
          6,
          6,
          6,
          6,
          6,
          6,
          6,
          6,
          6,
          6,
          6,
          6,
          6,
          6,
          6,
          6,
          6,
          6,
          6,
          6,
          6,
          6,
          6,
          6,
          6,
          6,
          6,
          6,
          6,
          6,
          6,
          6,
          6,
          6,
          6,
          6,
          6,
          6,
          6,
          6,
          6,
          6,
          6,
          6,
          6,
          6,
          6,
          6,
          6,
          6,
          6,
          6,
          6,
          6,
          6,
          6,
          6,
          6,
          6,
          6,
          6,
          6,
          6,
          6,
          6,
          6,
          6,
          6,
          6,
          6,
          6,
          6,
          6,
          6,
          6,
          6,
          6,
          6,
          6,
          6,
          6,
          6,
          6,
          6,
          6,
          6,
          6,
          6,
          6,
          6,
          6,
          6,
          6,
          6,
          6,
          6,
          6,
          6,
          6,
          6,
          6,
          6,
          6,
          6,
          6,
          6,
          6,
          6,
          6,
          6,
          6,
          6,
          6,
          6,
          6,
          6,
          6,
          6,
          6,
          6,
          6,
          6,
          6,
          6,
          6,
          6,
          6,
          6,
          6,
          6,
          6,
          6,
          6,
          6,
          6,
          6,
          6,
          6,
          6,
          6,
          6,
          6,
          6,
          6,
          6,
          6,
          6,
          6,
          6,
          6,
          6,
          6,
          6,
          6,
          6,
          6,
          6,
          6,
          6,
          6,
          6,
          6,
          6,
          6,
          6,
          6,
          6,
          6,
          6,
          6,
          6,
          6,
          6,
          6,
          6,
          6,
          6,
          6,
          6,
          6,
          6,
          6,
          6,
          6,
          6,
          6,
          6,
          6,
          6,
          6,
          6,
          6,
          6,
          6,
          6,
          6,
          6,
          6,
          6,
          6,
          6,
          6,
          6,
          6,
          6,
          6,
          6,
          6,
          6,
          6,
          6,
          6,
          6,
          6,
          6,
          6,
          6,
          6,
          6,
          6,
          6,
          6,
          6,
          6,
          6,
          6,
          6,
          6,
          6,
          6,
          6,
          6
         ],
         "yaxis": "y"
        },
        {
         "alignmentgroup": "True",
         "customdata": [
          [
           "community",
           14,
           "B "
          ],
          [
           "community",
           14,
           "B "
          ],
          [
           "community",
           14,
           "B "
          ],
          [
           "community",
           14,
           "B "
          ],
          [
           "community",
           14,
           "B "
          ],
          [
           "community",
           14,
           "B "
          ],
          [
           "community",
           14,
           "B "
          ],
          [
           "community",
           14,
           "B "
          ],
          [
           "community",
           14,
           "B "
          ],
          [
           "community",
           14,
           "B "
          ],
          [
           "community",
           14,
           "B "
          ],
          [
           "community",
           14,
           "B "
          ],
          [
           "community",
           14,
           "B "
          ],
          [
           "community",
           14,
           "B "
          ],
          [
           "community",
           7,
           "B "
          ],
          [
           "community",
           7,
           "B "
          ],
          [
           "community",
           7,
           "B "
          ],
          [
           "community",
           7,
           "B "
          ],
          [
           "community",
           7,
           "B "
          ],
          [
           "community",
           7,
           "B "
          ],
          [
           "community",
           7,
           "B "
          ]
         ],
         "hovertemplate": "badge_det=community_practice_makeup<br>example=%{x}<br>influence=%{y}<br>badge=%{customdata[0]}<br>count=%{customdata[1]}<br>letter=%{customdata[2]}<extra></extra>",
         "legendgroup": "community_practice_makeup",
         "marker": {
          "color": "#FF6692",
          "pattern": {
           "shape": ""
          }
         },
         "name": "community_practice_makeup",
         "offsetgroup": "community_practice_makeup",
         "orientation": "v",
         "showlegend": true,
         "textposition": "auto",
         "type": "bar",
         "x": [
          "example 3",
          "example 3",
          "example 3",
          "example 3",
          "example 3",
          "example 3",
          "example 3",
          "example 3",
          "example 3",
          "example 3",
          "example 3",
          "example 3",
          "example 3",
          "example 3",
          "example 13",
          "example 13",
          "example 13",
          "example 13",
          "example 13",
          "example 13",
          "example 13"
         ],
         "xaxis": "x",
         "y": [
          0.8571428571428571,
          0.8571428571428571,
          0.8571428571428571,
          0.8571428571428571,
          0.8571428571428571,
          0.8571428571428571,
          0.8571428571428571,
          0.8571428571428571,
          0.8571428571428571,
          0.8571428571428571,
          0.8571428571428571,
          0.8571428571428571,
          0.8571428571428571,
          0.8571428571428571,
          0.8571428571428571,
          0.8571428571428571,
          0.8571428571428571,
          0.8571428571428571,
          0.8571428571428571,
          0.8571428571428571,
          0.8571428571428571
         ],
         "yaxis": "y"
        },
        {
         "alignmentgroup": "True",
         "customdata": [
          [
           "explore",
           4,
           "A-"
          ],
          [
           "explore",
           4,
           "A-"
          ],
          [
           "explore",
           4,
           "A-"
          ],
          [
           "explore",
           4,
           "A-"
          ],
          [
           "explore",
           2,
           "A-"
          ],
          [
           "explore",
           2,
           "A-"
          ],
          [
           "explore",
           6,
           "A "
          ],
          [
           "explore",
           6,
           "A "
          ],
          [
           "explore",
           6,
           "A "
          ],
          [
           "explore",
           6,
           "A "
          ],
          [
           "explore",
           6,
           "A "
          ],
          [
           "explore",
           6,
           "A "
          ],
          [
           "explore",
           4,
           "A "
          ],
          [
           "explore",
           4,
           "A "
          ],
          [
           "explore",
           4,
           "A "
          ],
          [
           "explore",
           4,
           "A "
          ],
          [
           "explore",
           2,
           "A "
          ],
          [
           "explore",
           2,
           "A "
          ],
          [
           "explore",
           2,
           "A "
          ],
          [
           "explore",
           2,
           "A "
          ]
         ],
         "hovertemplate": "badge_det=explore<br>example=%{x}<br>influence=%{y}<br>badge=%{customdata[0]}<br>count=%{customdata[1]}<br>letter=%{customdata[2]}<extra></extra>",
         "legendgroup": "explore",
         "marker": {
          "color": "#B6E880",
          "pattern": {
           "shape": ""
          }
         },
         "name": "explore",
         "offsetgroup": "explore",
         "orientation": "v",
         "showlegend": true,
         "textposition": "auto",
         "type": "bar",
         "x": [
          "example 29",
          "example 29",
          "example 29",
          "example 29",
          "example 25",
          "example 25",
          "example 28",
          "example 28",
          "example 28",
          "example 28",
          "example 28",
          "example 28",
          "example 8",
          "example 8",
          "example 8",
          "example 8",
          "example 9",
          "example 9",
          "example 10",
          "example 10"
         ],
         "xaxis": "x",
         "y": [
          9,
          9,
          9,
          9,
          9,
          9,
          9,
          9,
          9,
          9,
          9,
          9,
          9,
          9,
          9,
          9,
          9,
          9,
          9,
          9
         ],
         "yaxis": "y"
        },
        {
         "alignmentgroup": "True",
         "customdata": [
          [
           "build",
           1,
           "C+"
          ],
          [
           "build",
           1,
           "A-"
          ],
          [
           "build",
           3,
           "A-"
          ],
          [
           "build",
           3,
           "A-"
          ],
          [
           "build",
           3,
           "A-"
          ],
          [
           "build",
           1,
           "A "
          ],
          [
           "build",
           2,
           "A "
          ],
          [
           "build",
           2,
           "A "
          ],
          [
           "build",
           1,
           "A "
          ]
         ],
         "hovertemplate": "badge_det=build<br>example=%{x}<br>influence=%{y}<br>badge=%{customdata[0]}<br>count=%{customdata[1]}<br>letter=%{customdata[2]}<extra></extra>",
         "legendgroup": "build",
         "marker": {
          "color": "#FF97FF",
          "pattern": {
           "shape": ""
          }
         },
         "name": "build",
         "offsetgroup": "build",
         "orientation": "v",
         "showlegend": true,
         "textposition": "auto",
         "type": "bar",
         "x": [
          "example 21",
          "example 6",
          "example 7",
          "example 7",
          "example 7",
          "example 8",
          "example 9",
          "example 9",
          "example 23"
         ],
         "xaxis": "x",
         "y": [
          36,
          36,
          36,
          36,
          36,
          36,
          36,
          36,
          36
         ],
         "yaxis": "y"
        },
        {
         "alignmentgroup": "True",
         "customdata": [
          [
           "community",
           10,
           "D+"
          ],
          [
           "community",
           10,
           "D+"
          ],
          [
           "community",
           10,
           "D+"
          ],
          [
           "community",
           10,
           "D+"
          ],
          [
           "community",
           10,
           "D+"
          ],
          [
           "community",
           10,
           "D+"
          ],
          [
           "community",
           10,
           "D+"
          ],
          [
           "community",
           10,
           "D+"
          ],
          [
           "community",
           10,
           "D+"
          ],
          [
           "community",
           10,
           "D+"
          ],
          [
           "community",
           10,
           "C+"
          ],
          [
           "community",
           10,
           "C+"
          ],
          [
           "community",
           10,
           "C+"
          ],
          [
           "community",
           10,
           "C+"
          ],
          [
           "community",
           10,
           "C+"
          ],
          [
           "community",
           10,
           "C+"
          ],
          [
           "community",
           10,
           "C+"
          ],
          [
           "community",
           10,
           "C+"
          ],
          [
           "community",
           10,
           "C+"
          ],
          [
           "community",
           10,
           "C+"
          ],
          [
           "community",
           10,
           "B+"
          ],
          [
           "community",
           10,
           "B+"
          ],
          [
           "community",
           10,
           "B+"
          ],
          [
           "community",
           10,
           "B+"
          ],
          [
           "community",
           10,
           "B+"
          ],
          [
           "community",
           10,
           "B+"
          ],
          [
           "community",
           10,
           "B+"
          ],
          [
           "community",
           10,
           "B+"
          ],
          [
           "community",
           10,
           "B+"
          ],
          [
           "community",
           10,
           "B+"
          ],
          [
           "community",
           10,
           "B+"
          ],
          [
           "community",
           10,
           "B+"
          ],
          [
           "community",
           10,
           "B+"
          ],
          [
           "community",
           10,
           "B+"
          ],
          [
           "community",
           10,
           "B+"
          ],
          [
           "community",
           10,
           "B+"
          ],
          [
           "community",
           10,
           "B+"
          ],
          [
           "community",
           10,
           "B+"
          ],
          [
           "community",
           10,
           "B+"
          ],
          [
           "community",
           10,
           "B+"
          ],
          [
           "community",
           10,
           "A-"
          ],
          [
           "community",
           10,
           "A-"
          ],
          [
           "community",
           10,
           "A-"
          ],
          [
           "community",
           10,
           "A-"
          ],
          [
           "community",
           10,
           "A-"
          ],
          [
           "community",
           10,
           "A-"
          ],
          [
           "community",
           10,
           "A-"
          ],
          [
           "community",
           10,
           "A-"
          ],
          [
           "community",
           10,
           "A-"
          ],
          [
           "community",
           10,
           "A-"
          ],
          [
           "community",
           10,
           "A "
          ],
          [
           "community",
           10,
           "A "
          ],
          [
           "community",
           10,
           "A "
          ],
          [
           "community",
           10,
           "A "
          ],
          [
           "community",
           10,
           "A "
          ],
          [
           "community",
           10,
           "A "
          ],
          [
           "community",
           10,
           "A "
          ],
          [
           "community",
           10,
           "A "
          ],
          [
           "community",
           10,
           "A "
          ],
          [
           "community",
           10,
           "A "
          ]
         ],
         "hovertemplate": "badge_det=community_plus<br>example=%{x}<br>influence=%{y}<br>badge=%{customdata[0]}<br>count=%{customdata[1]}<br>letter=%{customdata[2]}<extra></extra>",
         "legendgroup": "community_plus",
         "marker": {
          "color": "#FECB52",
          "pattern": {
           "shape": ""
          }
         },
         "name": "community_plus",
         "offsetgroup": "community_plus",
         "orientation": "v",
         "showlegend": true,
         "textposition": "auto",
         "type": "bar",
         "x": [
          "example 4",
          "example 4",
          "example 4",
          "example 4",
          "example 4",
          "example 4",
          "example 4",
          "example 4",
          "example 4",
          "example 4",
          "example 14",
          "example 14",
          "example 14",
          "example 14",
          "example 14",
          "example 14",
          "example 14",
          "example 14",
          "example 14",
          "example 14",
          "example 17",
          "example 17",
          "example 17",
          "example 17",
          "example 17",
          "example 17",
          "example 17",
          "example 17",
          "example 17",
          "example 17",
          "example 20",
          "example 20",
          "example 20",
          "example 20",
          "example 20",
          "example 20",
          "example 20",
          "example 20",
          "example 20",
          "example 20",
          "example 25",
          "example 25",
          "example 25",
          "example 25",
          "example 25",
          "example 25",
          "example 25",
          "example 25",
          "example 25",
          "example 25",
          "example 23",
          "example 23",
          "example 23",
          "example 23",
          "example 23",
          "example 23",
          "example 23",
          "example 23",
          "example 23",
          "example 23"
         ],
         "xaxis": "x",
         "y": [
          1.8,
          1.8,
          1.8,
          1.8,
          1.8,
          1.8,
          1.8,
          1.8,
          1.8,
          1.8,
          1.8,
          1.8,
          1.8,
          1.8,
          1.8,
          1.8,
          1.8,
          1.8,
          1.8,
          1.8,
          1.8,
          1.8,
          1.8,
          1.8,
          1.8,
          1.8,
          1.8,
          1.8,
          1.8,
          1.8,
          1.8,
          1.8,
          1.8,
          1.8,
          1.8,
          1.8,
          1.8,
          1.8,
          1.8,
          1.8,
          1.8,
          1.8,
          1.8,
          1.8,
          1.8,
          1.8,
          1.8,
          1.8,
          1.8,
          1.8,
          1.8,
          1.8,
          1.8,
          1.8,
          1.8,
          1.8,
          1.8,
          1.8,
          1.8,
          1.8
         ],
         "yaxis": "y"
        }
       ],
       "layout": {
        "barmode": "relative",
        "height": 700,
        "legend": {
         "title": {
          "text": "badge_det"
         },
         "tracegroupgap": 0
        },
        "margin": {
         "t": 60
        },
        "template": {
         "data": {
          "bar": [
           {
            "error_x": {
             "color": "#2a3f5f"
            },
            "error_y": {
             "color": "#2a3f5f"
            },
            "marker": {
             "line": {
              "color": "#E5ECF6",
              "width": 0.5
             },
             "pattern": {
              "fillmode": "overlay",
              "size": 10,
              "solidity": 0.2
             }
            },
            "type": "bar"
           }
          ],
          "barpolar": [
           {
            "marker": {
             "line": {
              "color": "#E5ECF6",
              "width": 0.5
             },
             "pattern": {
              "fillmode": "overlay",
              "size": 10,
              "solidity": 0.2
             }
            },
            "type": "barpolar"
           }
          ],
          "carpet": [
           {
            "aaxis": {
             "endlinecolor": "#2a3f5f",
             "gridcolor": "white",
             "linecolor": "white",
             "minorgridcolor": "white",
             "startlinecolor": "#2a3f5f"
            },
            "baxis": {
             "endlinecolor": "#2a3f5f",
             "gridcolor": "white",
             "linecolor": "white",
             "minorgridcolor": "white",
             "startlinecolor": "#2a3f5f"
            },
            "type": "carpet"
           }
          ],
          "choropleth": [
           {
            "colorbar": {
             "outlinewidth": 0,
             "ticks": ""
            },
            "type": "choropleth"
           }
          ],
          "contour": [
           {
            "colorbar": {
             "outlinewidth": 0,
             "ticks": ""
            },
            "colorscale": [
             [
              0,
              "#0d0887"
             ],
             [
              0.1111111111111111,
              "#46039f"
             ],
             [
              0.2222222222222222,
              "#7201a8"
             ],
             [
              0.3333333333333333,
              "#9c179e"
             ],
             [
              0.4444444444444444,
              "#bd3786"
             ],
             [
              0.5555555555555556,
              "#d8576b"
             ],
             [
              0.6666666666666666,
              "#ed7953"
             ],
             [
              0.7777777777777778,
              "#fb9f3a"
             ],
             [
              0.8888888888888888,
              "#fdca26"
             ],
             [
              1,
              "#f0f921"
             ]
            ],
            "type": "contour"
           }
          ],
          "contourcarpet": [
           {
            "colorbar": {
             "outlinewidth": 0,
             "ticks": ""
            },
            "type": "contourcarpet"
           }
          ],
          "heatmap": [
           {
            "colorbar": {
             "outlinewidth": 0,
             "ticks": ""
            },
            "colorscale": [
             [
              0,
              "#0d0887"
             ],
             [
              0.1111111111111111,
              "#46039f"
             ],
             [
              0.2222222222222222,
              "#7201a8"
             ],
             [
              0.3333333333333333,
              "#9c179e"
             ],
             [
              0.4444444444444444,
              "#bd3786"
             ],
             [
              0.5555555555555556,
              "#d8576b"
             ],
             [
              0.6666666666666666,
              "#ed7953"
             ],
             [
              0.7777777777777778,
              "#fb9f3a"
             ],
             [
              0.8888888888888888,
              "#fdca26"
             ],
             [
              1,
              "#f0f921"
             ]
            ],
            "type": "heatmap"
           }
          ],
          "heatmapgl": [
           {
            "colorbar": {
             "outlinewidth": 0,
             "ticks": ""
            },
            "colorscale": [
             [
              0,
              "#0d0887"
             ],
             [
              0.1111111111111111,
              "#46039f"
             ],
             [
              0.2222222222222222,
              "#7201a8"
             ],
             [
              0.3333333333333333,
              "#9c179e"
             ],
             [
              0.4444444444444444,
              "#bd3786"
             ],
             [
              0.5555555555555556,
              "#d8576b"
             ],
             [
              0.6666666666666666,
              "#ed7953"
             ],
             [
              0.7777777777777778,
              "#fb9f3a"
             ],
             [
              0.8888888888888888,
              "#fdca26"
             ],
             [
              1,
              "#f0f921"
             ]
            ],
            "type": "heatmapgl"
           }
          ],
          "histogram": [
           {
            "marker": {
             "pattern": {
              "fillmode": "overlay",
              "size": 10,
              "solidity": 0.2
             }
            },
            "type": "histogram"
           }
          ],
          "histogram2d": [
           {
            "colorbar": {
             "outlinewidth": 0,
             "ticks": ""
            },
            "colorscale": [
             [
              0,
              "#0d0887"
             ],
             [
              0.1111111111111111,
              "#46039f"
             ],
             [
              0.2222222222222222,
              "#7201a8"
             ],
             [
              0.3333333333333333,
              "#9c179e"
             ],
             [
              0.4444444444444444,
              "#bd3786"
             ],
             [
              0.5555555555555556,
              "#d8576b"
             ],
             [
              0.6666666666666666,
              "#ed7953"
             ],
             [
              0.7777777777777778,
              "#fb9f3a"
             ],
             [
              0.8888888888888888,
              "#fdca26"
             ],
             [
              1,
              "#f0f921"
             ]
            ],
            "type": "histogram2d"
           }
          ],
          "histogram2dcontour": [
           {
            "colorbar": {
             "outlinewidth": 0,
             "ticks": ""
            },
            "colorscale": [
             [
              0,
              "#0d0887"
             ],
             [
              0.1111111111111111,
              "#46039f"
             ],
             [
              0.2222222222222222,
              "#7201a8"
             ],
             [
              0.3333333333333333,
              "#9c179e"
             ],
             [
              0.4444444444444444,
              "#bd3786"
             ],
             [
              0.5555555555555556,
              "#d8576b"
             ],
             [
              0.6666666666666666,
              "#ed7953"
             ],
             [
              0.7777777777777778,
              "#fb9f3a"
             ],
             [
              0.8888888888888888,
              "#fdca26"
             ],
             [
              1,
              "#f0f921"
             ]
            ],
            "type": "histogram2dcontour"
           }
          ],
          "mesh3d": [
           {
            "colorbar": {
             "outlinewidth": 0,
             "ticks": ""
            },
            "type": "mesh3d"
           }
          ],
          "parcoords": [
           {
            "line": {
             "colorbar": {
              "outlinewidth": 0,
              "ticks": ""
             }
            },
            "type": "parcoords"
           }
          ],
          "pie": [
           {
            "automargin": true,
            "type": "pie"
           }
          ],
          "scatter": [
           {
            "fillpattern": {
             "fillmode": "overlay",
             "size": 10,
             "solidity": 0.2
            },
            "type": "scatter"
           }
          ],
          "scatter3d": [
           {
            "line": {
             "colorbar": {
              "outlinewidth": 0,
              "ticks": ""
             }
            },
            "marker": {
             "colorbar": {
              "outlinewidth": 0,
              "ticks": ""
             }
            },
            "type": "scatter3d"
           }
          ],
          "scattercarpet": [
           {
            "marker": {
             "colorbar": {
              "outlinewidth": 0,
              "ticks": ""
             }
            },
            "type": "scattercarpet"
           }
          ],
          "scattergeo": [
           {
            "marker": {
             "colorbar": {
              "outlinewidth": 0,
              "ticks": ""
             }
            },
            "type": "scattergeo"
           }
          ],
          "scattergl": [
           {
            "marker": {
             "colorbar": {
              "outlinewidth": 0,
              "ticks": ""
             }
            },
            "type": "scattergl"
           }
          ],
          "scattermapbox": [
           {
            "marker": {
             "colorbar": {
              "outlinewidth": 0,
              "ticks": ""
             }
            },
            "type": "scattermapbox"
           }
          ],
          "scatterpolar": [
           {
            "marker": {
             "colorbar": {
              "outlinewidth": 0,
              "ticks": ""
             }
            },
            "type": "scatterpolar"
           }
          ],
          "scatterpolargl": [
           {
            "marker": {
             "colorbar": {
              "outlinewidth": 0,
              "ticks": ""
             }
            },
            "type": "scatterpolargl"
           }
          ],
          "scatterternary": [
           {
            "marker": {
             "colorbar": {
              "outlinewidth": 0,
              "ticks": ""
             }
            },
            "type": "scatterternary"
           }
          ],
          "surface": [
           {
            "colorbar": {
             "outlinewidth": 0,
             "ticks": ""
            },
            "colorscale": [
             [
              0,
              "#0d0887"
             ],
             [
              0.1111111111111111,
              "#46039f"
             ],
             [
              0.2222222222222222,
              "#7201a8"
             ],
             [
              0.3333333333333333,
              "#9c179e"
             ],
             [
              0.4444444444444444,
              "#bd3786"
             ],
             [
              0.5555555555555556,
              "#d8576b"
             ],
             [
              0.6666666666666666,
              "#ed7953"
             ],
             [
              0.7777777777777778,
              "#fb9f3a"
             ],
             [
              0.8888888888888888,
              "#fdca26"
             ],
             [
              1,
              "#f0f921"
             ]
            ],
            "type": "surface"
           }
          ],
          "table": [
           {
            "cells": {
             "fill": {
              "color": "#EBF0F8"
             },
             "line": {
              "color": "white"
             }
            },
            "header": {
             "fill": {
              "color": "#C8D4E3"
             },
             "line": {
              "color": "white"
             }
            },
            "type": "table"
           }
          ]
         },
         "layout": {
          "annotationdefaults": {
           "arrowcolor": "#2a3f5f",
           "arrowhead": 0,
           "arrowwidth": 1
          },
          "autotypenumbers": "strict",
          "coloraxis": {
           "colorbar": {
            "outlinewidth": 0,
            "ticks": ""
           }
          },
          "colorscale": {
           "diverging": [
            [
             0,
             "#8e0152"
            ],
            [
             0.1,
             "#c51b7d"
            ],
            [
             0.2,
             "#de77ae"
            ],
            [
             0.3,
             "#f1b6da"
            ],
            [
             0.4,
             "#fde0ef"
            ],
            [
             0.5,
             "#f7f7f7"
            ],
            [
             0.6,
             "#e6f5d0"
            ],
            [
             0.7,
             "#b8e186"
            ],
            [
             0.8,
             "#7fbc41"
            ],
            [
             0.9,
             "#4d9221"
            ],
            [
             1,
             "#276419"
            ]
           ],
           "sequential": [
            [
             0,
             "#0d0887"
            ],
            [
             0.1111111111111111,
             "#46039f"
            ],
            [
             0.2222222222222222,
             "#7201a8"
            ],
            [
             0.3333333333333333,
             "#9c179e"
            ],
            [
             0.4444444444444444,
             "#bd3786"
            ],
            [
             0.5555555555555556,
             "#d8576b"
            ],
            [
             0.6666666666666666,
             "#ed7953"
            ],
            [
             0.7777777777777778,
             "#fb9f3a"
            ],
            [
             0.8888888888888888,
             "#fdca26"
            ],
            [
             1,
             "#f0f921"
            ]
           ],
           "sequentialminus": [
            [
             0,
             "#0d0887"
            ],
            [
             0.1111111111111111,
             "#46039f"
            ],
            [
             0.2222222222222222,
             "#7201a8"
            ],
            [
             0.3333333333333333,
             "#9c179e"
            ],
            [
             0.4444444444444444,
             "#bd3786"
            ],
            [
             0.5555555555555556,
             "#d8576b"
            ],
            [
             0.6666666666666666,
             "#ed7953"
            ],
            [
             0.7777777777777778,
             "#fb9f3a"
            ],
            [
             0.8888888888888888,
             "#fdca26"
            ],
            [
             1,
             "#f0f921"
            ]
           ]
          },
          "colorway": [
           "#636efa",
           "#EF553B",
           "#00cc96",
           "#ab63fa",
           "#FFA15A",
           "#19d3f3",
           "#FF6692",
           "#B6E880",
           "#FF97FF",
           "#FECB52"
          ],
          "font": {
           "color": "#2a3f5f"
          },
          "geo": {
           "bgcolor": "white",
           "lakecolor": "white",
           "landcolor": "#E5ECF6",
           "showlakes": true,
           "showland": true,
           "subunitcolor": "white"
          },
          "hoverlabel": {
           "align": "left"
          },
          "hovermode": "closest",
          "mapbox": {
           "style": "light"
          },
          "paper_bgcolor": "white",
          "plot_bgcolor": "#E5ECF6",
          "polar": {
           "angularaxis": {
            "gridcolor": "white",
            "linecolor": "white",
            "ticks": ""
           },
           "bgcolor": "#E5ECF6",
           "radialaxis": {
            "gridcolor": "white",
            "linecolor": "white",
            "ticks": ""
           }
          },
          "scene": {
           "xaxis": {
            "backgroundcolor": "#E5ECF6",
            "gridcolor": "white",
            "gridwidth": 2,
            "linecolor": "white",
            "showbackground": true,
            "ticks": "",
            "zerolinecolor": "white"
           },
           "yaxis": {
            "backgroundcolor": "#E5ECF6",
            "gridcolor": "white",
            "gridwidth": 2,
            "linecolor": "white",
            "showbackground": true,
            "ticks": "",
            "zerolinecolor": "white"
           },
           "zaxis": {
            "backgroundcolor": "#E5ECF6",
            "gridcolor": "white",
            "gridwidth": 2,
            "linecolor": "white",
            "showbackground": true,
            "ticks": "",
            "zerolinecolor": "white"
           }
          },
          "shapedefaults": {
           "line": {
            "color": "#2a3f5f"
           }
          },
          "ternary": {
           "aaxis": {
            "gridcolor": "white",
            "linecolor": "white",
            "ticks": ""
           },
           "baxis": {
            "gridcolor": "white",
            "linecolor": "white",
            "ticks": ""
           },
           "bgcolor": "#E5ECF6",
           "caxis": {
            "gridcolor": "white",
            "linecolor": "white",
            "ticks": ""
           }
          },
          "title": {
           "x": 0.05
          },
          "xaxis": {
           "automargin": true,
           "gridcolor": "white",
           "linecolor": "white",
           "ticks": "",
           "title": {
            "standoff": 15
           },
           "zerolinecolor": "white",
           "zerolinewidth": 2
          },
          "yaxis": {
           "automargin": true,
           "gridcolor": "white",
           "linecolor": "white",
           "ticks": "",
           "title": {
            "standoff": 15
           },
           "zerolinecolor": "white",
           "zerolinewidth": 2
          }
         }
        },
        "xaxis": {
         "anchor": "y",
         "domain": [
          0,
          1
         ],
         "title": {
          "text": "example"
         }
        },
        "yaxis": {
         "anchor": "x",
         "domain": [
          0,
          1
         ],
         "tickmode": "array",
         "ticktext": [
          "D ",
          "C ",
          "B ",
          "A ",
          "C-",
          "B-",
          "A-",
          "D+",
          "C+",
          "B+"
         ],
         "tickvals": [
          44,
          98,
          152,
          206,
          80,
          134,
          188,
          62,
          116,
          170
         ],
         "title": {
          "text": "grade"
         }
        }
       }
      },
      "text/html": [
       "<div>                            <div id=\"0f78803e-0985-4d65-abb5-2e8581961225\" class=\"plotly-graph-div\" style=\"height:700px; width:100%;\"></div>            <script type=\"text/javascript\">                require([\"plotly\"], function(Plotly) {                    window.PLOTLYENV=window.PLOTLYENV || {};                                    if (document.getElementById(\"0f78803e-0985-4d65-abb5-2e8581961225\")) {                    Plotly.newPlot(                        \"0f78803e-0985-4d65-abb5-2e8581961225\",                        [{\"alignmentgroup\":\"True\",\"customdata\":[[\"experience\",22,\"F\"],[\"experience\",22,\"F\"],[\"experience\",22,\"F\"],[\"experience\",22,\"F\"],[\"experience\",22,\"F\"],[\"experience\",22,\"F\"],[\"experience\",22,\"F\"],[\"experience\",22,\"F\"],[\"experience\",22,\"F\"],[\"experience\",22,\"F\"],[\"experience\",22,\"F\"],[\"experience\",22,\"F\"],[\"experience\",22,\"F\"],[\"experience\",22,\"F\"],[\"experience\",22,\"F\"],[\"experience\",22,\"F\"],[\"experience\",22,\"F\"],[\"experience\",22,\"F\"],[\"experience\",22,\"F\"],[\"experience\",22,\"F\"],[\"experience\",22,\"F\"],[\"experience\",22,\"F\"],[\"experience\",22,\"F\"],[\"experience\",22,\"F\"],[\"experience\",22,\"F\"],[\"experience\",22,\"F\"],[\"experience\",22,\"F\"],[\"experience\",22,\"F\"],[\"experience\",22,\"F\"],[\"experience\",22,\"F\"],[\"experience\",22,\"F\"],[\"experience\",22,\"F\"],[\"experience\",22,\"F\"],[\"experience\",22,\"F\"],[\"experience\",22,\"F\"],[\"experience\",22,\"F\"],[\"experience\",22,\"F\"],[\"experience\",22,\"F\"],[\"experience\",22,\"F\"],[\"experience\",22,\"F\"],[\"experience\",22,\"F\"],[\"experience\",22,\"F\"],[\"experience\",22,\"F\"],[\"experience\",22,\"F\"],[\"experience\",24,\"D+\"],[\"experience\",24,\"D+\"],[\"experience\",24,\"D+\"],[\"experience\",24,\"D+\"],[\"experience\",24,\"D+\"],[\"experience\",24,\"D+\"],[\"experience\",24,\"D+\"],[\"experience\",24,\"D+\"],[\"experience\",24,\"D+\"],[\"experience\",24,\"D+\"],[\"experience\",24,\"D+\"],[\"experience\",24,\"D+\"],[\"experience\",24,\"D+\"],[\"experience\",24,\"D+\"],[\"experience\",24,\"D+\"],[\"experience\",24,\"D+\"],[\"experience\",24,\"D+\"],[\"experience\",24,\"D+\"],[\"experience\",24,\"D+\"],[\"experience\",24,\"D+\"],[\"experience\",24,\"D+\"],[\"experience\",24,\"D+\"],[\"experience\",24,\"D+\"],[\"experience\",24,\"D+\"],[\"experience\",23,\"C-\"],[\"experience\",23,\"C-\"],[\"experience\",23,\"C-\"],[\"experience\",23,\"C-\"],[\"experience\",23,\"C-\"],[\"experience\",23,\"C-\"],[\"experience\",23,\"C-\"],[\"experience\",23,\"C-\"],[\"experience\",23,\"C-\"],[\"experience\",23,\"C-\"],[\"experience\",23,\"C-\"],[\"experience\",23,\"C-\"],[\"experience\",23,\"C-\"],[\"experience\",23,\"C-\"],[\"experience\",23,\"C-\"],[\"experience\",23,\"C-\"],[\"experience\",23,\"C-\"],[\"experience\",23,\"C-\"],[\"experience\",23,\"C-\"],[\"experience\",23,\"C-\"],[\"experience\",23,\"C-\"],[\"experience\",23,\"C-\"],[\"experience\",23,\"C-\"],[\"experience\",22,\"C \"],[\"experience\",22,\"C \"],[\"experience\",22,\"C \"],[\"experience\",22,\"C \"],[\"experience\",22,\"C \"],[\"experience\",22,\"C \"],[\"experience\",22,\"C \"],[\"experience\",22,\"C \"],[\"experience\",22,\"C \"],[\"experience\",22,\"C \"],[\"experience\",22,\"C \"],[\"experience\",22,\"C \"],[\"experience\",22,\"C \"],[\"experience\",22,\"C \"],[\"experience\",22,\"C \"],[\"experience\",22,\"C \"],[\"experience\",22,\"C \"],[\"experience\",22,\"C \"],[\"experience\",22,\"C \"],[\"experience\",22,\"C \"],[\"experience\",22,\"C \"],[\"experience\",22,\"C \"],[\"experience\",21,\"C \"],[\"experience\",21,\"C \"],[\"experience\",21,\"C \"],[\"experience\",21,\"C \"],[\"experience\",21,\"C \"],[\"experience\",21,\"C \"],[\"experience\",21,\"C \"],[\"experience\",21,\"C \"],[\"experience\",21,\"C \"],[\"experience\",21,\"C \"],[\"experience\",21,\"C \"],[\"experience\",21,\"C \"],[\"experience\",21,\"C \"],[\"experience\",21,\"C \"],[\"experience\",21,\"C \"],[\"experience\",21,\"C \"],[\"experience\",21,\"C \"],[\"experience\",21,\"C \"],[\"experience\",21,\"C \"],[\"experience\",21,\"C \"],[\"experience\",21,\"C \"],[\"experience\",22,\"C \"],[\"experience\",22,\"C \"],[\"experience\",22,\"C \"],[\"experience\",22,\"C \"],[\"experience\",22,\"C \"],[\"experience\",22,\"C \"],[\"experience\",22,\"C \"],[\"experience\",22,\"C \"],[\"experience\",22,\"C \"],[\"experience\",22,\"C \"],[\"experience\",22,\"C \"],[\"experience\",22,\"C \"],[\"experience\",22,\"C \"],[\"experience\",22,\"C \"],[\"experience\",22,\"C \"],[\"experience\",22,\"C \"],[\"experience\",22,\"C \"],[\"experience\",22,\"C \"],[\"experience\",22,\"C \"],[\"experience\",22,\"C \"],[\"experience\",22,\"C \"],[\"experience\",22,\"C \"],[\"experience\",22,\"C+\"],[\"experience\",22,\"C+\"],[\"experience\",22,\"C+\"],[\"experience\",22,\"C+\"],[\"experience\",22,\"C+\"],[\"experience\",22,\"C+\"],[\"experience\",22,\"C+\"],[\"experience\",22,\"C+\"],[\"experience\",22,\"C+\"],[\"experience\",22,\"C+\"],[\"experience\",22,\"C+\"],[\"experience\",22,\"C+\"],[\"experience\",22,\"C+\"],[\"experience\",22,\"C+\"],[\"experience\",22,\"C+\"],[\"experience\",22,\"C+\"],[\"experience\",22,\"C+\"],[\"experience\",22,\"C+\"],[\"experience\",22,\"C+\"],[\"experience\",22,\"C+\"],[\"experience\",22,\"C+\"],[\"experience\",22,\"C+\"],[\"experience\",24,\"C+\"],[\"experience\",24,\"C+\"],[\"experience\",24,\"C+\"],[\"experience\",24,\"C+\"],[\"experience\",24,\"C+\"],[\"experience\",24,\"C+\"],[\"experience\",24,\"C+\"],[\"experience\",24,\"C+\"],[\"experience\",24,\"C+\"],[\"experience\",24,\"C+\"],[\"experience\",24,\"C+\"],[\"experience\",24,\"C+\"],[\"experience\",24,\"C+\"],[\"experience\",24,\"C+\"],[\"experience\",24,\"C+\"],[\"experience\",24,\"C+\"],[\"experience\",24,\"C+\"],[\"experience\",24,\"C+\"],[\"experience\",24,\"C+\"],[\"experience\",24,\"C+\"],[\"experience\",24,\"C+\"],[\"experience\",24,\"C+\"],[\"experience\",24,\"C+\"],[\"experience\",24,\"C+\"],[\"experience\",24,\"B-\"],[\"experience\",24,\"B-\"],[\"experience\",24,\"B-\"],[\"experience\",24,\"B-\"],[\"experience\",24,\"B-\"],[\"experience\",24,\"B-\"],[\"experience\",24,\"B-\"],[\"experience\",24,\"B-\"],[\"experience\",24,\"B-\"],[\"experience\",24,\"B-\"],[\"experience\",24,\"B-\"],[\"experience\",24,\"B-\"],[\"experience\",24,\"B-\"],[\"experience\",24,\"B-\"],[\"experience\",24,\"B-\"],[\"experience\",24,\"B-\"],[\"experience\",24,\"B-\"],[\"experience\",24,\"B-\"],[\"experience\",24,\"B-\"],[\"experience\",24,\"B-\"],[\"experience\",24,\"B-\"],[\"experience\",24,\"B-\"],[\"experience\",24,\"B-\"],[\"experience\",24,\"B-\"],[\"experience\",26,\"B \"],[\"experience\",26,\"B \"],[\"experience\",26,\"B \"],[\"experience\",26,\"B \"],[\"experience\",26,\"B \"],[\"experience\",26,\"B \"],[\"experience\",26,\"B \"],[\"experience\",26,\"B \"],[\"experience\",26,\"B \"],[\"experience\",26,\"B \"],[\"experience\",26,\"B \"],[\"experience\",26,\"B \"],[\"experience\",26,\"B \"],[\"experience\",26,\"B \"],[\"experience\",26,\"B \"],[\"experience\",26,\"B \"],[\"experience\",26,\"B \"],[\"experience\",26,\"B \"],[\"experience\",26,\"B \"],[\"experience\",26,\"B \"],[\"experience\",26,\"B \"],[\"experience\",26,\"B \"],[\"experience\",26,\"B \"],[\"experience\",26,\"B \"],[\"experience\",26,\"B \"],[\"experience\",26,\"B \"],[\"experience\",24,\"B \"],[\"experience\",24,\"B \"],[\"experience\",24,\"B \"],[\"experience\",24,\"B \"],[\"experience\",24,\"B \"],[\"experience\",24,\"B \"],[\"experience\",24,\"B \"],[\"experience\",24,\"B \"],[\"experience\",24,\"B \"],[\"experience\",24,\"B \"],[\"experience\",24,\"B \"],[\"experience\",24,\"B \"],[\"experience\",24,\"B \"],[\"experience\",24,\"B \"],[\"experience\",24,\"B \"],[\"experience\",24,\"B \"],[\"experience\",24,\"B \"],[\"experience\",24,\"B \"],[\"experience\",24,\"B \"],[\"experience\",24,\"B \"],[\"experience\",24,\"B \"],[\"experience\",24,\"B \"],[\"experience\",24,\"B \"],[\"experience\",24,\"B \"],[\"experience\",23,\"B \"],[\"experience\",23,\"B \"],[\"experience\",23,\"B \"],[\"experience\",23,\"B \"],[\"experience\",23,\"B \"],[\"experience\",23,\"B \"],[\"experience\",23,\"B \"],[\"experience\",23,\"B \"],[\"experience\",23,\"B \"],[\"experience\",23,\"B \"],[\"experience\",23,\"B \"],[\"experience\",23,\"B \"],[\"experience\",23,\"B \"],[\"experience\",23,\"B \"],[\"experience\",23,\"B \"],[\"experience\",23,\"B \"],[\"experience\",23,\"B \"],[\"experience\",23,\"B \"],[\"experience\",23,\"B \"],[\"experience\",23,\"B \"],[\"experience\",23,\"B \"],[\"experience\",23,\"B \"],[\"experience\",23,\"B \"],[\"experience\",20,\"B \"],[\"experience\",20,\"B \"],[\"experience\",20,\"B \"],[\"experience\",20,\"B \"],[\"experience\",20,\"B \"],[\"experience\",20,\"B \"],[\"experience\",20,\"B \"],[\"experience\",20,\"B \"],[\"experience\",20,\"B \"],[\"experience\",20,\"B \"],[\"experience\",20,\"B \"],[\"experience\",20,\"B \"],[\"experience\",20,\"B \"],[\"experience\",20,\"B \"],[\"experience\",20,\"B \"],[\"experience\",20,\"B \"],[\"experience\",20,\"B \"],[\"experience\",20,\"B \"],[\"experience\",20,\"B \"],[\"experience\",20,\"B \"],[\"experience\",20,\"B \"],[\"experience\",20,\"B \"],[\"experience\",20,\"B \"],[\"experience\",20,\"B \"],[\"experience\",20,\"B \"],[\"experience\",20,\"B \"],[\"experience\",20,\"B \"],[\"experience\",20,\"B \"],[\"experience\",20,\"B \"],[\"experience\",20,\"B \"],[\"experience\",20,\"B \"],[\"experience\",20,\"B \"],[\"experience\",20,\"B \"],[\"experience\",20,\"B \"],[\"experience\",20,\"B \"],[\"experience\",20,\"B \"],[\"experience\",20,\"B \"],[\"experience\",20,\"B \"],[\"experience\",20,\"B \"],[\"experience\",20,\"B \"],[\"experience\",24,\"B \"],[\"experience\",24,\"B \"],[\"experience\",24,\"B \"],[\"experience\",24,\"B \"],[\"experience\",24,\"B \"],[\"experience\",24,\"B \"],[\"experience\",24,\"B \"],[\"experience\",24,\"B \"],[\"experience\",24,\"B \"],[\"experience\",24,\"B \"],[\"experience\",24,\"B \"],[\"experience\",24,\"B \"],[\"experience\",24,\"B \"],[\"experience\",24,\"B \"],[\"experience\",24,\"B \"],[\"experience\",24,\"B \"],[\"experience\",24,\"B \"],[\"experience\",24,\"B \"],[\"experience\",24,\"B \"],[\"experience\",24,\"B \"],[\"experience\",24,\"B \"],[\"experience\",24,\"B \"],[\"experience\",24,\"B \"],[\"experience\",24,\"B \"],[\"experience\",24,\"B \"],[\"experience\",24,\"B \"],[\"experience\",24,\"B \"],[\"experience\",24,\"B \"],[\"experience\",24,\"B \"],[\"experience\",24,\"B \"],[\"experience\",24,\"B \"],[\"experience\",24,\"B \"],[\"experience\",24,\"B \"],[\"experience\",24,\"B \"],[\"experience\",24,\"B \"],[\"experience\",24,\"B \"],[\"experience\",24,\"B \"],[\"experience\",24,\"B \"],[\"experience\",24,\"B \"],[\"experience\",24,\"B \"],[\"experience\",24,\"B \"],[\"experience\",24,\"B \"],[\"experience\",24,\"B \"],[\"experience\",24,\"B \"],[\"experience\",24,\"B \"],[\"experience\",24,\"B \"],[\"experience\",24,\"B \"],[\"experience\",24,\"B \"],[\"experience\",23,\"B \"],[\"experience\",23,\"B \"],[\"experience\",23,\"B \"],[\"experience\",23,\"B \"],[\"experience\",23,\"B \"],[\"experience\",23,\"B \"],[\"experience\",23,\"B \"],[\"experience\",23,\"B \"],[\"experience\",23,\"B \"],[\"experience\",23,\"B \"],[\"experience\",23,\"B \"],[\"experience\",23,\"B \"],[\"experience\",23,\"B \"],[\"experience\",23,\"B \"],[\"experience\",23,\"B \"],[\"experience\",23,\"B \"],[\"experience\",23,\"B \"],[\"experience\",23,\"B \"],[\"experience\",23,\"B \"],[\"experience\",23,\"B \"],[\"experience\",23,\"B \"],[\"experience\",23,\"B \"],[\"experience\",23,\"B \"],[\"experience\",24,\"B+\"],[\"experience\",24,\"B+\"],[\"experience\",24,\"B+\"],[\"experience\",24,\"B+\"],[\"experience\",24,\"B+\"],[\"experience\",24,\"B+\"],[\"experience\",24,\"B+\"],[\"experience\",24,\"B+\"],[\"experience\",24,\"B+\"],[\"experience\",24,\"B+\"],[\"experience\",24,\"B+\"],[\"experience\",24,\"B+\"],[\"experience\",24,\"B+\"],[\"experience\",24,\"B+\"],[\"experience\",24,\"B+\"],[\"experience\",24,\"B+\"],[\"experience\",24,\"B+\"],[\"experience\",24,\"B+\"],[\"experience\",24,\"B+\"],[\"experience\",24,\"B+\"],[\"experience\",24,\"B+\"],[\"experience\",24,\"B+\"],[\"experience\",24,\"B+\"],[\"experience\",24,\"B+\"],[\"experience\",24,\"B+\"],[\"experience\",24,\"B+\"],[\"experience\",24,\"B+\"],[\"experience\",24,\"B+\"],[\"experience\",24,\"B+\"],[\"experience\",24,\"B+\"],[\"experience\",24,\"B+\"],[\"experience\",24,\"B+\"],[\"experience\",24,\"B+\"],[\"experience\",24,\"B+\"],[\"experience\",24,\"B+\"],[\"experience\",24,\"B+\"],[\"experience\",24,\"B+\"],[\"experience\",24,\"B+\"],[\"experience\",24,\"B+\"],[\"experience\",24,\"B+\"],[\"experience\",24,\"B+\"],[\"experience\",24,\"B+\"],[\"experience\",24,\"B+\"],[\"experience\",24,\"B+\"],[\"experience\",24,\"B+\"],[\"experience\",24,\"B+\"],[\"experience\",24,\"B+\"],[\"experience\",24,\"B+\"],[\"experience\",24,\"A-\"],[\"experience\",24,\"A-\"],[\"experience\",24,\"A-\"],[\"experience\",24,\"A-\"],[\"experience\",24,\"A-\"],[\"experience\",24,\"A-\"],[\"experience\",24,\"A-\"],[\"experience\",24,\"A-\"],[\"experience\",24,\"A-\"],[\"experience\",24,\"A-\"],[\"experience\",24,\"A-\"],[\"experience\",24,\"A-\"],[\"experience\",24,\"A-\"],[\"experience\",24,\"A-\"],[\"experience\",24,\"A-\"],[\"experience\",24,\"A-\"],[\"experience\",24,\"A-\"],[\"experience\",24,\"A-\"],[\"experience\",24,\"A-\"],[\"experience\",24,\"A-\"],[\"experience\",24,\"A-\"],[\"experience\",24,\"A-\"],[\"experience\",24,\"A-\"],[\"experience\",24,\"A-\"],[\"experience\",25,\"A-\"],[\"experience\",25,\"A-\"],[\"experience\",25,\"A-\"],[\"experience\",25,\"A-\"],[\"experience\",25,\"A-\"],[\"experience\",25,\"A-\"],[\"experience\",25,\"A-\"],[\"experience\",25,\"A-\"],[\"experience\",25,\"A-\"],[\"experience\",25,\"A-\"],[\"experience\",25,\"A-\"],[\"experience\",25,\"A-\"],[\"experience\",25,\"A-\"],[\"experience\",25,\"A-\"],[\"experience\",25,\"A-\"],[\"experience\",25,\"A-\"],[\"experience\",25,\"A-\"],[\"experience\",25,\"A-\"],[\"experience\",25,\"A-\"],[\"experience\",25,\"A-\"],[\"experience\",25,\"A-\"],[\"experience\",25,\"A-\"],[\"experience\",25,\"A-\"],[\"experience\",25,\"A-\"],[\"experience\",25,\"A-\"],[\"experience\",24,\"A-\"],[\"experience\",24,\"A-\"],[\"experience\",24,\"A-\"],[\"experience\",24,\"A-\"],[\"experience\",24,\"A-\"],[\"experience\",24,\"A-\"],[\"experience\",24,\"A-\"],[\"experience\",24,\"A-\"],[\"experience\",24,\"A-\"],[\"experience\",24,\"A-\"],[\"experience\",24,\"A-\"],[\"experience\",24,\"A-\"],[\"experience\",24,\"A-\"],[\"experience\",24,\"A-\"],[\"experience\",24,\"A-\"],[\"experience\",24,\"A-\"],[\"experience\",24,\"A-\"],[\"experience\",24,\"A-\"],[\"experience\",24,\"A-\"],[\"experience\",24,\"A-\"],[\"experience\",24,\"A-\"],[\"experience\",24,\"A-\"],[\"experience\",24,\"A-\"],[\"experience\",24,\"A-\"],[\"experience\",22,\"A-\"],[\"experience\",22,\"A-\"],[\"experience\",22,\"A-\"],[\"experience\",22,\"A-\"],[\"experience\",22,\"A-\"],[\"experience\",22,\"A-\"],[\"experience\",22,\"A-\"],[\"experience\",22,\"A-\"],[\"experience\",22,\"A-\"],[\"experience\",22,\"A-\"],[\"experience\",22,\"A-\"],[\"experience\",22,\"A-\"],[\"experience\",22,\"A-\"],[\"experience\",22,\"A-\"],[\"experience\",22,\"A-\"],[\"experience\",22,\"A-\"],[\"experience\",22,\"A-\"],[\"experience\",22,\"A-\"],[\"experience\",22,\"A-\"],[\"experience\",22,\"A-\"],[\"experience\",22,\"A-\"],[\"experience\",22,\"A-\"],[\"experience\",24,\"A-\"],[\"experience\",24,\"A-\"],[\"experience\",24,\"A-\"],[\"experience\",24,\"A-\"],[\"experience\",24,\"A-\"],[\"experience\",24,\"A-\"],[\"experience\",24,\"A-\"],[\"experience\",24,\"A-\"],[\"experience\",24,\"A-\"],[\"experience\",24,\"A-\"],[\"experience\",24,\"A-\"],[\"experience\",24,\"A-\"],[\"experience\",24,\"A-\"],[\"experience\",24,\"A-\"],[\"experience\",24,\"A-\"],[\"experience\",24,\"A-\"],[\"experience\",24,\"A-\"],[\"experience\",24,\"A-\"],[\"experience\",24,\"A-\"],[\"experience\",24,\"A-\"],[\"experience\",24,\"A-\"],[\"experience\",24,\"A-\"],[\"experience\",24,\"A-\"],[\"experience\",24,\"A-\"],[\"experience\",25,\"A \"],[\"experience\",25,\"A \"],[\"experience\",25,\"A \"],[\"experience\",25,\"A \"],[\"experience\",25,\"A \"],[\"experience\",25,\"A \"],[\"experience\",25,\"A \"],[\"experience\",25,\"A \"],[\"experience\",25,\"A \"],[\"experience\",25,\"A \"],[\"experience\",25,\"A \"],[\"experience\",25,\"A \"],[\"experience\",25,\"A \"],[\"experience\",25,\"A \"],[\"experience\",25,\"A \"],[\"experience\",25,\"A \"],[\"experience\",25,\"A \"],[\"experience\",25,\"A \"],[\"experience\",25,\"A \"],[\"experience\",25,\"A \"],[\"experience\",25,\"A \"],[\"experience\",25,\"A \"],[\"experience\",25,\"A \"],[\"experience\",25,\"A \"],[\"experience\",25,\"A \"],[\"experience\",24,\"A \"],[\"experience\",24,\"A \"],[\"experience\",24,\"A \"],[\"experience\",24,\"A \"],[\"experience\",24,\"A \"],[\"experience\",24,\"A \"],[\"experience\",24,\"A \"],[\"experience\",24,\"A \"],[\"experience\",24,\"A \"],[\"experience\",24,\"A \"],[\"experience\",24,\"A \"],[\"experience\",24,\"A \"],[\"experience\",24,\"A \"],[\"experience\",24,\"A \"],[\"experience\",24,\"A \"],[\"experience\",24,\"A \"],[\"experience\",24,\"A \"],[\"experience\",24,\"A \"],[\"experience\",24,\"A \"],[\"experience\",24,\"A \"],[\"experience\",24,\"A \"],[\"experience\",24,\"A \"],[\"experience\",24,\"A \"],[\"experience\",24,\"A \"],[\"experience\",24,\"A \"],[\"experience\",24,\"A \"],[\"experience\",24,\"A \"],[\"experience\",24,\"A \"],[\"experience\",24,\"A \"],[\"experience\",24,\"A \"],[\"experience\",24,\"A \"],[\"experience\",24,\"A \"],[\"experience\",24,\"A \"],[\"experience\",24,\"A \"],[\"experience\",24,\"A \"],[\"experience\",24,\"A \"],[\"experience\",24,\"A \"],[\"experience\",24,\"A \"],[\"experience\",24,\"A \"],[\"experience\",24,\"A \"],[\"experience\",24,\"A \"],[\"experience\",24,\"A \"],[\"experience\",24,\"A \"],[\"experience\",24,\"A \"],[\"experience\",24,\"A \"],[\"experience\",24,\"A \"],[\"experience\",24,\"A \"],[\"experience\",24,\"A \"],[\"experience\",24,\"A \"],[\"experience\",24,\"A \"],[\"experience\",24,\"A \"],[\"experience\",24,\"A \"],[\"experience\",24,\"A \"],[\"experience\",24,\"A \"],[\"experience\",24,\"A \"],[\"experience\",24,\"A \"],[\"experience\",24,\"A \"],[\"experience\",24,\"A \"],[\"experience\",24,\"A \"],[\"experience\",24,\"A \"],[\"experience\",24,\"A \"],[\"experience\",24,\"A \"],[\"experience\",24,\"A \"],[\"experience\",24,\"A \"],[\"experience\",24,\"A \"],[\"experience\",24,\"A \"],[\"experience\",24,\"A \"],[\"experience\",24,\"A \"],[\"experience\",24,\"A \"],[\"experience\",24,\"A \"],[\"experience\",24,\"A \"],[\"experience\",24,\"A \"],[\"experience\",24,\"A \"],[\"experience\",24,\"A \"],[\"experience\",24,\"A \"],[\"experience\",24,\"A \"],[\"experience\",24,\"A \"],[\"experience\",24,\"A \"],[\"experience\",24,\"A \"],[\"experience\",24,\"A \"],[\"experience\",24,\"A \"],[\"experience\",24,\"A \"],[\"experience\",24,\"A \"],[\"experience\",24,\"A \"],[\"experience\",24,\"A \"],[\"experience\",24,\"A \"],[\"experience\",24,\"A \"],[\"experience\",24,\"A \"],[\"experience\",24,\"A \"],[\"experience\",24,\"A \"],[\"experience\",24,\"A \"],[\"experience\",24,\"A \"],[\"experience\",24,\"A \"],[\"experience\",24,\"A \"],[\"experience\",24,\"A \"],[\"experience\",24,\"A \"]],\"hovertemplate\":\"badge_det=experience<br>example=%{x}<br>influence=%{y}<br>badge=%{customdata[0]}<br>count=%{customdata[1]}<br>letter=%{customdata[2]}<extra></extra>\",\"legendgroup\":\"experience\",\"marker\":{\"color\":\"#636efa\",\"pattern\":{\"shape\":\"\"}},\"name\":\"experience\",\"offsetgroup\":\"experience\",\"orientation\":\"v\",\"showlegend\":true,\"textposition\":\"auto\",\"x\":[\"example 0\",\"example 0\",\"example 0\",\"example 0\",\"example 0\",\"example 0\",\"example 0\",\"example 0\",\"example 0\",\"example 0\",\"example 0\",\"example 0\",\"example 0\",\"example 0\",\"example 0\",\"example 0\",\"example 0\",\"example 0\",\"example 0\",\"example 0\",\"example 0\",\"example 0\",\"example 1\",\"example 1\",\"example 1\",\"example 1\",\"example 1\",\"example 1\",\"example 1\",\"example 1\",\"example 1\",\"example 1\",\"example 1\",\"example 1\",\"example 1\",\"example 1\",\"example 1\",\"example 1\",\"example 1\",\"example 1\",\"example 1\",\"example 1\",\"example 1\",\"example 1\",\"example 4\",\"example 4\",\"example 4\",\"example 4\",\"example 4\",\"example 4\",\"example 4\",\"example 4\",\"example 4\",\"example 4\",\"example 4\",\"example 4\",\"example 4\",\"example 4\",\"example 4\",\"example 4\",\"example 4\",\"example 4\",\"example 4\",\"example 4\",\"example 4\",\"example 4\",\"example 4\",\"example 4\",\"example 5\",\"example 5\",\"example 5\",\"example 5\",\"example 5\",\"example 5\",\"example 5\",\"example 5\",\"example 5\",\"example 5\",\"example 5\",\"example 5\",\"example 5\",\"example 5\",\"example 5\",\"example 5\",\"example 5\",\"example 5\",\"example 5\",\"example 5\",\"example 5\",\"example 5\",\"example 5\",\"example 15\",\"example 15\",\"example 15\",\"example 15\",\"example 15\",\"example 15\",\"example 15\",\"example 15\",\"example 15\",\"example 15\",\"example 15\",\"example 15\",\"example 15\",\"example 15\",\"example 15\",\"example 15\",\"example 15\",\"example 15\",\"example 15\",\"example 15\",\"example 15\",\"example 15\",\"example 11\",\"example 11\",\"example 11\",\"example 11\",\"example 11\",\"example 11\",\"example 11\",\"example 11\",\"example 11\",\"example 11\",\"example 11\",\"example 11\",\"example 11\",\"example 11\",\"example 11\",\"example 11\",\"example 11\",\"example 11\",\"example 11\",\"example 11\",\"example 11\",\"example 2\",\"example 2\",\"example 2\",\"example 2\",\"example 2\",\"example 2\",\"example 2\",\"example 2\",\"example 2\",\"example 2\",\"example 2\",\"example 2\",\"example 2\",\"example 2\",\"example 2\",\"example 2\",\"example 2\",\"example 2\",\"example 2\",\"example 2\",\"example 2\",\"example 2\",\"example 21\",\"example 21\",\"example 21\",\"example 21\",\"example 21\",\"example 21\",\"example 21\",\"example 21\",\"example 21\",\"example 21\",\"example 21\",\"example 21\",\"example 21\",\"example 21\",\"example 21\",\"example 21\",\"example 21\",\"example 21\",\"example 21\",\"example 21\",\"example 21\",\"example 21\",\"example 14\",\"example 14\",\"example 14\",\"example 14\",\"example 14\",\"example 14\",\"example 14\",\"example 14\",\"example 14\",\"example 14\",\"example 14\",\"example 14\",\"example 14\",\"example 14\",\"example 14\",\"example 14\",\"example 14\",\"example 14\",\"example 14\",\"example 14\",\"example 14\",\"example 14\",\"example 14\",\"example 14\",\"example 18\",\"example 18\",\"example 18\",\"example 18\",\"example 18\",\"example 18\",\"example 18\",\"example 18\",\"example 18\",\"example 18\",\"example 18\",\"example 18\",\"example 18\",\"example 18\",\"example 18\",\"example 18\",\"example 18\",\"example 18\",\"example 18\",\"example 18\",\"example 18\",\"example 18\",\"example 18\",\"example 18\",\"example 24\",\"example 24\",\"example 24\",\"example 24\",\"example 24\",\"example 24\",\"example 24\",\"example 24\",\"example 24\",\"example 24\",\"example 24\",\"example 24\",\"example 24\",\"example 24\",\"example 24\",\"example 24\",\"example 24\",\"example 24\",\"example 24\",\"example 24\",\"example 24\",\"example 24\",\"example 24\",\"example 24\",\"example 24\",\"example 24\",\"example 26\",\"example 26\",\"example 26\",\"example 26\",\"example 26\",\"example 26\",\"example 26\",\"example 26\",\"example 26\",\"example 26\",\"example 26\",\"example 26\",\"example 26\",\"example 26\",\"example 26\",\"example 26\",\"example 26\",\"example 26\",\"example 26\",\"example 26\",\"example 26\",\"example 26\",\"example 26\",\"example 26\",\"example 16\",\"example 16\",\"example 16\",\"example 16\",\"example 16\",\"example 16\",\"example 16\",\"example 16\",\"example 16\",\"example 16\",\"example 16\",\"example 16\",\"example 16\",\"example 16\",\"example 16\",\"example 16\",\"example 16\",\"example 16\",\"example 16\",\"example 16\",\"example 16\",\"example 16\",\"example 16\",\"example 19\",\"example 19\",\"example 19\",\"example 19\",\"example 19\",\"example 19\",\"example 19\",\"example 19\",\"example 19\",\"example 19\",\"example 19\",\"example 19\",\"example 19\",\"example 19\",\"example 19\",\"example 19\",\"example 19\",\"example 19\",\"example 19\",\"example 19\",\"example 22\",\"example 22\",\"example 22\",\"example 22\",\"example 22\",\"example 22\",\"example 22\",\"example 22\",\"example 22\",\"example 22\",\"example 22\",\"example 22\",\"example 22\",\"example 22\",\"example 22\",\"example 22\",\"example 22\",\"example 22\",\"example 22\",\"example 22\",\"example 12\",\"example 12\",\"example 12\",\"example 12\",\"example 12\",\"example 12\",\"example 12\",\"example 12\",\"example 12\",\"example 12\",\"example 12\",\"example 12\",\"example 12\",\"example 12\",\"example 12\",\"example 12\",\"example 12\",\"example 12\",\"example 12\",\"example 12\",\"example 12\",\"example 12\",\"example 12\",\"example 12\",\"example 3\",\"example 3\",\"example 3\",\"example 3\",\"example 3\",\"example 3\",\"example 3\",\"example 3\",\"example 3\",\"example 3\",\"example 3\",\"example 3\",\"example 3\",\"example 3\",\"example 3\",\"example 3\",\"example 3\",\"example 3\",\"example 3\",\"example 3\",\"example 3\",\"example 3\",\"example 3\",\"example 3\",\"example 13\",\"example 13\",\"example 13\",\"example 13\",\"example 13\",\"example 13\",\"example 13\",\"example 13\",\"example 13\",\"example 13\",\"example 13\",\"example 13\",\"example 13\",\"example 13\",\"example 13\",\"example 13\",\"example 13\",\"example 13\",\"example 13\",\"example 13\",\"example 13\",\"example 13\",\"example 13\",\"example 17\",\"example 17\",\"example 17\",\"example 17\",\"example 17\",\"example 17\",\"example 17\",\"example 17\",\"example 17\",\"example 17\",\"example 17\",\"example 17\",\"example 17\",\"example 17\",\"example 17\",\"example 17\",\"example 17\",\"example 17\",\"example 17\",\"example 17\",\"example 17\",\"example 17\",\"example 17\",\"example 17\",\"example 20\",\"example 20\",\"example 20\",\"example 20\",\"example 20\",\"example 20\",\"example 20\",\"example 20\",\"example 20\",\"example 20\",\"example 20\",\"example 20\",\"example 20\",\"example 20\",\"example 20\",\"example 20\",\"example 20\",\"example 20\",\"example 20\",\"example 20\",\"example 20\",\"example 20\",\"example 20\",\"example 20\",\"example 27\",\"example 27\",\"example 27\",\"example 27\",\"example 27\",\"example 27\",\"example 27\",\"example 27\",\"example 27\",\"example 27\",\"example 27\",\"example 27\",\"example 27\",\"example 27\",\"example 27\",\"example 27\",\"example 27\",\"example 27\",\"example 27\",\"example 27\",\"example 27\",\"example 27\",\"example 27\",\"example 27\",\"example 29\",\"example 29\",\"example 29\",\"example 29\",\"example 29\",\"example 29\",\"example 29\",\"example 29\",\"example 29\",\"example 29\",\"example 29\",\"example 29\",\"example 29\",\"example 29\",\"example 29\",\"example 29\",\"example 29\",\"example 29\",\"example 29\",\"example 29\",\"example 29\",\"example 29\",\"example 29\",\"example 29\",\"example 29\",\"example 6\",\"example 6\",\"example 6\",\"example 6\",\"example 6\",\"example 6\",\"example 6\",\"example 6\",\"example 6\",\"example 6\",\"example 6\",\"example 6\",\"example 6\",\"example 6\",\"example 6\",\"example 6\",\"example 6\",\"example 6\",\"example 6\",\"example 6\",\"example 6\",\"example 6\",\"example 6\",\"example 6\",\"example 7\",\"example 7\",\"example 7\",\"example 7\",\"example 7\",\"example 7\",\"example 7\",\"example 7\",\"example 7\",\"example 7\",\"example 7\",\"example 7\",\"example 7\",\"example 7\",\"example 7\",\"example 7\",\"example 7\",\"example 7\",\"example 7\",\"example 7\",\"example 7\",\"example 7\",\"example 25\",\"example 25\",\"example 25\",\"example 25\",\"example 25\",\"example 25\",\"example 25\",\"example 25\",\"example 25\",\"example 25\",\"example 25\",\"example 25\",\"example 25\",\"example 25\",\"example 25\",\"example 25\",\"example 25\",\"example 25\",\"example 25\",\"example 25\",\"example 25\",\"example 25\",\"example 25\",\"example 25\",\"example 28\",\"example 28\",\"example 28\",\"example 28\",\"example 28\",\"example 28\",\"example 28\",\"example 28\",\"example 28\",\"example 28\",\"example 28\",\"example 28\",\"example 28\",\"example 28\",\"example 28\",\"example 28\",\"example 28\",\"example 28\",\"example 28\",\"example 28\",\"example 28\",\"example 28\",\"example 28\",\"example 28\",\"example 28\",\"example 8\",\"example 8\",\"example 8\",\"example 8\",\"example 8\",\"example 8\",\"example 8\",\"example 8\",\"example 8\",\"example 8\",\"example 8\",\"example 8\",\"example 8\",\"example 8\",\"example 8\",\"example 8\",\"example 8\",\"example 8\",\"example 8\",\"example 8\",\"example 8\",\"example 8\",\"example 8\",\"example 8\",\"example 9\",\"example 9\",\"example 9\",\"example 9\",\"example 9\",\"example 9\",\"example 9\",\"example 9\",\"example 9\",\"example 9\",\"example 9\",\"example 9\",\"example 9\",\"example 9\",\"example 9\",\"example 9\",\"example 9\",\"example 9\",\"example 9\",\"example 9\",\"example 9\",\"example 9\",\"example 9\",\"example 9\",\"example 10\",\"example 10\",\"example 10\",\"example 10\",\"example 10\",\"example 10\",\"example 10\",\"example 10\",\"example 10\",\"example 10\",\"example 10\",\"example 10\",\"example 10\",\"example 10\",\"example 10\",\"example 10\",\"example 10\",\"example 10\",\"example 10\",\"example 10\",\"example 10\",\"example 10\",\"example 10\",\"example 10\",\"example 23\",\"example 23\",\"example 23\",\"example 23\",\"example 23\",\"example 23\",\"example 23\",\"example 23\",\"example 23\",\"example 23\",\"example 23\",\"example 23\",\"example 23\",\"example 23\",\"example 23\",\"example 23\",\"example 23\",\"example 23\",\"example 23\",\"example 23\",\"example 23\",\"example 23\",\"example 23\",\"example 23\"],\"xaxis\":\"x\",\"y\":[2.0,2.0,2.0,2.0,2.0,2.0,2.0,2.0,2.0,2.0,2.0,2.0,2.0,2.0,2.0,2.0,2.0,2.0,2.0,2.0,2.0,2.0,2.0,2.0,2.0,2.0,2.0,2.0,2.0,2.0,2.0,2.0,2.0,2.0,2.0,2.0,2.0,2.0,2.0,2.0,2.0,2.0,2.0,2.0,2.0,2.0,2.0,2.0,2.0,2.0,2.0,2.0,2.0,2.0,2.0,2.0,2.0,2.0,2.0,2.0,2.0,2.0,2.0,2.0,2.0,2.0,2.0,2.0,2.0,2.0,2.0,2.0,2.0,2.0,2.0,2.0,2.0,2.0,2.0,2.0,2.0,2.0,2.0,2.0,2.0,2.0,2.0,2.0,2.0,2.0,2.0,2.0,2.0,2.0,2.0,2.0,2.0,2.0,2.0,2.0,2.0,2.0,2.0,2.0,2.0,2.0,2.0,2.0,2.0,2.0,2.0,2.0,2.0,2.0,2.0,2.0,2.0,2.0,2.0,2.0,2.0,2.0,2.0,2.0,2.0,2.0,2.0,2.0,2.0,2.0,2.0,2.0,2.0,2.0,2.0,2.0,2.0,2.0,2.0,2.0,2.0,2.0,2.0,2.0,2.0,2.0,2.0,2.0,2.0,2.0,2.0,2.0,2.0,2.0,2.0,2.0,2.0,2.0,2.0,2.0,2.0,2.0,2.0,2.0,2.0,2.0,2.0,2.0,2.0,2.0,2.0,2.0,2.0,2.0,2.0,2.0,2.0,2.0,2.0,2.0,2.0,2.0,2.0,2.0,2.0,2.0,2.0,2.0,2.0,2.0,2.0,2.0,2.0,2.0,2.0,2.0,2.0,2.0,2.0,2.0,2.0,2.0,2.0,2.0,2.0,2.0,2.0,2.0,2.0,2.0,2.0,2.0,2.0,2.0,2.0,2.0,2.0,2.0,2.0,2.0,2.0,2.0,2.0,2.0,2.0,2.0,2.0,2.0,2.0,2.0,2.0,2.0,2.0,2.0,2.0,2.0,2.0,2.0,2.0,2.0,2.0,2.0,2.0,2.0,2.0,2.0,2.0,2.0,2.0,2.0,2.0,2.0,2.0,2.0,2.0,2.0,2.0,2.0,2.0,2.0,2.0,2.0,2.0,2.0,2.0,2.0,2.0,2.0,2.0,2.0,2.0,2.0,2.0,2.0,2.0,2.0,2.0,2.0,2.0,2.0,2.0,2.0,2.0,2.0,2.0,2.0,2.0,2.0,2.0,2.0,2.0,2.0,2.0,2.0,2.0,2.0,2.0,2.0,2.0,2.0,2.0,2.0,2.0,2.0,2.0,2.0,2.0,2.0,2.0,2.0,2.0,2.0,2.0,2.0,2.0,2.0,2.0,2.0,2.0,2.0,2.0,2.0,2.0,2.0,2.0,2.0,2.0,2.0,2.0,2.0,2.0,2.0,2.0,2.0,2.0,2.0,2.0,2.0,2.0,2.0,2.0,2.0,2.0,2.0,2.0,2.0,2.0,2.0,2.0,2.0,2.0,2.0,2.0,2.0,2.0,2.0,2.0,2.0,2.0,2.0,2.0,2.0,2.0,2.0,2.0,2.0,2.0,2.0,2.0,2.0,2.0,2.0,2.0,2.0,2.0,2.0,2.0,2.0,2.0,2.0,2.0,2.0,2.0,2.0,2.0,2.0,2.0,2.0,2.0,2.0,2.0,2.0,2.0,2.0,2.0,2.0,2.0,2.0,2.0,2.0,2.0,2.0,2.0,2.0,2.0,2.0,2.0,2.0,2.0,2.0,2.0,2.0,2.0,2.0,2.0,2.0,2.0,2.0,2.0,2.0,2.0,2.0,2.0,2.0,2.0,2.0,2.0,2.0,2.0,2.0,2.0,2.0,2.0,2.0,2.0,2.0,2.0,2.0,2.0,2.0,2.0,2.0,2.0,2.0,2.0,2.0,2.0,2.0,2.0,2.0,2.0,2.0,2.0,2.0,2.0,2.0,2.0,2.0,2.0,2.0,2.0,2.0,2.0,2.0,2.0,2.0,2.0,2.0,2.0,2.0,2.0,2.0,2.0,2.0,2.0,2.0,2.0,2.0,2.0,2.0,2.0,2.0,2.0,2.0,2.0,2.0,2.0,2.0,2.0,2.0,2.0,2.0,2.0,2.0,2.0,2.0,2.0,2.0,2.0,2.0,2.0,2.0,2.0,2.0,2.0,2.0,2.0,2.0,2.0,2.0,2.0,2.0,2.0,2.0,2.0,2.0,2.0,2.0,2.0,2.0,2.0,2.0,2.0,2.0,2.0,2.0,2.0,2.0,2.0,2.0,2.0,2.0,2.0,2.0,2.0,2.0,2.0,2.0,2.0,2.0,2.0,2.0,2.0,2.0,2.0,2.0,2.0,2.0,2.0,2.0,2.0,2.0,2.0,2.0,2.0,2.0,2.0,2.0,2.0,2.0,2.0,2.0,2.0,2.0,2.0,2.0,2.0,2.0,2.0,2.0,2.0,2.0,2.0,2.0,2.0,2.0,2.0,2.0,2.0,2.0,2.0,2.0,2.0,2.0,2.0,2.0,2.0,2.0,2.0,2.0,2.0,2.0,2.0,2.0,2.0,2.0,2.0,2.0,2.0,2.0,2.0,2.0,2.0,2.0,2.0,2.0,2.0,2.0,2.0,2.0,2.0,2.0,2.0,2.0,2.0,2.0,2.0,2.0,2.0,2.0,2.0,2.0,2.0,2.0,2.0,2.0,2.0,2.0,2.0,2.0,2.0,2.0,2.0,2.0,2.0,2.0,2.0,2.0,2.0,2.0,2.0,2.0,2.0,2.0,2.0,2.0,2.0,2.0,2.0,2.0,2.0,2.0,2.0,2.0,2.0,2.0,2.0,2.0,2.0,2.0,2.0,2.0,2.0,2.0,2.0,2.0,2.0,2.0,2.0,2.0,2.0,2.0,2.0,2.0,2.0,2.0,2.0,2.0,2.0,2.0,2.0,2.0,2.0,2.0,2.0,2.0,2.0,2.0,2.0,2.0,2.0,2.0,2.0,2.0,2.0,2.0,2.0,2.0],\"yaxis\":\"y\",\"type\":\"bar\"},{\"alignmentgroup\":\"True\",\"customdata\":[[\"community\",6,\"F\"],[\"community\",6,\"F\"],[\"community\",6,\"F\"],[\"community\",6,\"F\"],[\"community\",6,\"F\"],[\"community\",6,\"F\"],[\"community\",9,\"C \"],[\"community\",9,\"C \"],[\"community\",9,\"C \"],[\"community\",9,\"C \"],[\"community\",9,\"C \"],[\"community\",9,\"C \"],[\"community\",9,\"C \"],[\"community\",9,\"C \"],[\"community\",9,\"C \"],[\"community\",6,\"C \"],[\"community\",6,\"C \"],[\"community\",6,\"C \"],[\"community\",6,\"C \"],[\"community\",6,\"C \"],[\"community\",6,\"C \"],[\"community\",13,\"B \"],[\"community\",13,\"B \"],[\"community\",13,\"B \"],[\"community\",13,\"B \"],[\"community\",13,\"B \"],[\"community\",13,\"B \"],[\"community\",13,\"B \"],[\"community\",13,\"B \"],[\"community\",13,\"B \"],[\"community\",13,\"B \"],[\"community\",13,\"B \"],[\"community\",13,\"B \"],[\"community\",13,\"B \"],[\"community\",12,\"B \"],[\"community\",12,\"B \"],[\"community\",12,\"B \"],[\"community\",12,\"B \"],[\"community\",12,\"B \"],[\"community\",12,\"B \"],[\"community\",12,\"B \"],[\"community\",12,\"B \"],[\"community\",12,\"B \"],[\"community\",12,\"B \"],[\"community\",12,\"B \"],[\"community\",12,\"B \"],[\"community\",12,\"B \"],[\"community\",12,\"B \"],[\"community\",12,\"B \"],[\"community\",12,\"B \"],[\"community\",12,\"B \"],[\"community\",12,\"B \"],[\"community\",12,\"B \"],[\"community\",12,\"B \"],[\"community\",12,\"B \"],[\"community\",12,\"B \"],[\"community\",12,\"B \"],[\"community\",12,\"B \"],[\"community\",3,\"B \"],[\"community\",3,\"B \"],[\"community\",3,\"B \"]],\"hovertemplate\":\"badge_det=community_experience_makeup<br>example=%{x}<br>influence=%{y}<br>badge=%{customdata[0]}<br>count=%{customdata[1]}<br>letter=%{customdata[2]}<extra></extra>\",\"legendgroup\":\"community_experience_makeup\",\"marker\":{\"color\":\"#EF553B\",\"pattern\":{\"shape\":\"\"}},\"name\":\"community_experience_makeup\",\"offsetgroup\":\"community_experience_makeup\",\"orientation\":\"v\",\"showlegend\":true,\"textposition\":\"auto\",\"x\":[\"example 1\",\"example 1\",\"example 1\",\"example 1\",\"example 1\",\"example 1\",\"example 11\",\"example 11\",\"example 11\",\"example 11\",\"example 11\",\"example 11\",\"example 11\",\"example 11\",\"example 11\",\"example 2\",\"example 2\",\"example 2\",\"example 2\",\"example 2\",\"example 2\",\"example 16\",\"example 16\",\"example 16\",\"example 16\",\"example 16\",\"example 16\",\"example 16\",\"example 16\",\"example 16\",\"example 16\",\"example 16\",\"example 16\",\"example 16\",\"example 19\",\"example 19\",\"example 19\",\"example 19\",\"example 19\",\"example 19\",\"example 19\",\"example 19\",\"example 19\",\"example 19\",\"example 19\",\"example 19\",\"example 22\",\"example 22\",\"example 22\",\"example 22\",\"example 22\",\"example 22\",\"example 22\",\"example 22\",\"example 22\",\"example 22\",\"example 22\",\"example 22\",\"example 13\",\"example 13\",\"example 13\"],\"xaxis\":\"x\",\"y\":[0.6666666666666666,0.6666666666666666,0.6666666666666666,0.6666666666666666,0.6666666666666666,0.6666666666666666,0.6666666666666666,0.6666666666666666,0.6666666666666666,0.6666666666666666,0.6666666666666666,0.6666666666666666,0.6666666666666666,0.6666666666666666,0.6666666666666666,0.6666666666666666,0.6666666666666666,0.6666666666666666,0.6666666666666666,0.6666666666666666,0.6666666666666666,0.6666666666666666,0.6666666666666666,0.6666666666666666,0.6666666666666666,0.6666666666666666,0.6666666666666666,0.6666666666666666,0.6666666666666666,0.6666666666666666,0.6666666666666666,0.6666666666666666,0.6666666666666666,0.6666666666666666,0.6666666666666666,0.6666666666666666,0.6666666666666666,0.6666666666666666,0.6666666666666666,0.6666666666666666,0.6666666666666666,0.6666666666666666,0.6666666666666666,0.6666666666666666,0.6666666666666666,0.6666666666666666,0.6666666666666666,0.6666666666666666,0.6666666666666666,0.6666666666666666,0.6666666666666666,0.6666666666666666,0.6666666666666666,0.6666666666666666,0.6666666666666666,0.6666666666666666,0.6666666666666666,0.6666666666666666,0.6666666666666666,0.6666666666666666,0.6666666666666666],\"yaxis\":\"y\",\"type\":\"bar\"},{\"alignmentgroup\":\"True\",\"customdata\":[[\"review\",18,\"C-\"],[\"review\",18,\"C-\"],[\"review\",18,\"C-\"],[\"review\",18,\"C-\"],[\"review\",18,\"C-\"],[\"review\",18,\"C-\"],[\"review\",18,\"C-\"],[\"review\",18,\"C-\"],[\"review\",18,\"C-\"],[\"review\",18,\"C-\"],[\"review\",18,\"C-\"],[\"review\",18,\"C-\"],[\"review\",18,\"C-\"],[\"review\",18,\"C-\"],[\"review\",18,\"C-\"],[\"review\",18,\"C-\"],[\"review\",18,\"C-\"],[\"review\",18,\"C-\"],[\"review\",24,\"C \"],[\"review\",24,\"C \"],[\"review\",24,\"C \"],[\"review\",24,\"C \"],[\"review\",24,\"C \"],[\"review\",24,\"C \"],[\"review\",24,\"C \"],[\"review\",24,\"C \"],[\"review\",24,\"C \"],[\"review\",24,\"C \"],[\"review\",24,\"C \"],[\"review\",24,\"C \"],[\"review\",24,\"C \"],[\"review\",24,\"C \"],[\"review\",24,\"C \"],[\"review\",24,\"C \"],[\"review\",24,\"C \"],[\"review\",24,\"C \"],[\"review\",24,\"C \"],[\"review\",24,\"C \"],[\"review\",24,\"C \"],[\"review\",24,\"C \"],[\"review\",24,\"C \"],[\"review\",24,\"C \"],[\"review\",18,\"C \"],[\"review\",18,\"C \"],[\"review\",18,\"C \"],[\"review\",18,\"C \"],[\"review\",18,\"C \"],[\"review\",18,\"C \"],[\"review\",18,\"C \"],[\"review\",18,\"C \"],[\"review\",18,\"C \"],[\"review\",18,\"C \"],[\"review\",18,\"C \"],[\"review\",18,\"C \"],[\"review\",18,\"C \"],[\"review\",18,\"C \"],[\"review\",18,\"C \"],[\"review\",18,\"C \"],[\"review\",18,\"C \"],[\"review\",18,\"C \"],[\"review\",17,\"C \"],[\"review\",17,\"C \"],[\"review\",17,\"C \"],[\"review\",17,\"C \"],[\"review\",17,\"C \"],[\"review\",17,\"C \"],[\"review\",17,\"C \"],[\"review\",17,\"C \"],[\"review\",17,\"C \"],[\"review\",17,\"C \"],[\"review\",17,\"C \"],[\"review\",17,\"C \"],[\"review\",17,\"C \"],[\"review\",17,\"C \"],[\"review\",17,\"C \"],[\"review\",17,\"C \"],[\"review\",17,\"C \"],[\"review\",18,\"C+\"],[\"review\",18,\"C+\"],[\"review\",18,\"C+\"],[\"review\",18,\"C+\"],[\"review\",18,\"C+\"],[\"review\",18,\"C+\"],[\"review\",18,\"C+\"],[\"review\",18,\"C+\"],[\"review\",18,\"C+\"],[\"review\",18,\"C+\"],[\"review\",18,\"C+\"],[\"review\",18,\"C+\"],[\"review\",18,\"C+\"],[\"review\",18,\"C+\"],[\"review\",18,\"C+\"],[\"review\",18,\"C+\"],[\"review\",18,\"C+\"],[\"review\",18,\"C+\"],[\"review\",18,\"C+\"],[\"review\",18,\"C+\"],[\"review\",18,\"C+\"],[\"review\",18,\"C+\"],[\"review\",18,\"C+\"],[\"review\",18,\"C+\"],[\"review\",18,\"C+\"],[\"review\",18,\"C+\"],[\"review\",18,\"C+\"],[\"review\",18,\"C+\"],[\"review\",18,\"C+\"],[\"review\",18,\"C+\"],[\"review\",18,\"C+\"],[\"review\",18,\"C+\"],[\"review\",18,\"C+\"],[\"review\",18,\"C+\"],[\"review\",18,\"C+\"],[\"review\",18,\"C+\"],[\"review\",18,\"B-\"],[\"review\",18,\"B-\"],[\"review\",18,\"B-\"],[\"review\",18,\"B-\"],[\"review\",18,\"B-\"],[\"review\",18,\"B-\"],[\"review\",18,\"B-\"],[\"review\",18,\"B-\"],[\"review\",18,\"B-\"],[\"review\",18,\"B-\"],[\"review\",18,\"B-\"],[\"review\",18,\"B-\"],[\"review\",18,\"B-\"],[\"review\",18,\"B-\"],[\"review\",18,\"B-\"],[\"review\",18,\"B-\"],[\"review\",18,\"B-\"],[\"review\",18,\"B-\"],[\"review\",12,\"B \"],[\"review\",12,\"B \"],[\"review\",12,\"B \"],[\"review\",12,\"B \"],[\"review\",12,\"B \"],[\"review\",12,\"B \"],[\"review\",12,\"B \"],[\"review\",12,\"B \"],[\"review\",12,\"B \"],[\"review\",12,\"B \"],[\"review\",12,\"B \"],[\"review\",12,\"B \"],[\"review\",12,\"B \"],[\"review\",12,\"B \"],[\"review\",12,\"B \"],[\"review\",12,\"B \"],[\"review\",12,\"B \"],[\"review\",12,\"B \"],[\"review\",12,\"B \"],[\"review\",12,\"B \"],[\"review\",12,\"B \"],[\"review\",12,\"B \"],[\"review\",12,\"B \"],[\"review\",12,\"B \"],[\"review\",12,\"B \"],[\"review\",12,\"B \"],[\"review\",12,\"B \"],[\"review\",12,\"B \"],[\"review\",12,\"B \"],[\"review\",12,\"B \"],[\"review\",12,\"B \"],[\"review\",12,\"B \"],[\"review\",12,\"B \"],[\"review\",12,\"B \"],[\"review\",12,\"B \"],[\"review\",12,\"B \"],[\"review\",10,\"B \"],[\"review\",10,\"B \"],[\"review\",10,\"B \"],[\"review\",10,\"B \"],[\"review\",10,\"B \"],[\"review\",10,\"B \"],[\"review\",10,\"B \"],[\"review\",10,\"B \"],[\"review\",10,\"B \"],[\"review\",10,\"B \"],[\"review\",1,\"B \"],[\"review\",12,\"B+\"],[\"review\",12,\"B+\"],[\"review\",12,\"B+\"],[\"review\",12,\"B+\"],[\"review\",12,\"B+\"],[\"review\",12,\"B+\"],[\"review\",12,\"B+\"],[\"review\",12,\"B+\"],[\"review\",12,\"B+\"],[\"review\",12,\"B+\"],[\"review\",12,\"B+\"],[\"review\",12,\"B+\"],[\"review\",18,\"A-\"],[\"review\",18,\"A-\"],[\"review\",18,\"A-\"],[\"review\",18,\"A-\"],[\"review\",18,\"A-\"],[\"review\",18,\"A-\"],[\"review\",18,\"A-\"],[\"review\",18,\"A-\"],[\"review\",18,\"A-\"],[\"review\",18,\"A-\"],[\"review\",18,\"A-\"],[\"review\",18,\"A-\"],[\"review\",18,\"A-\"],[\"review\",18,\"A-\"],[\"review\",18,\"A-\"],[\"review\",18,\"A-\"],[\"review\",18,\"A-\"],[\"review\",18,\"A-\"],[\"review\",12,\"A-\"],[\"review\",12,\"A-\"],[\"review\",12,\"A-\"],[\"review\",12,\"A-\"],[\"review\",12,\"A-\"],[\"review\",12,\"A-\"],[\"review\",12,\"A-\"],[\"review\",12,\"A-\"],[\"review\",12,\"A-\"],[\"review\",12,\"A-\"],[\"review\",12,\"A-\"],[\"review\",12,\"A-\"],[\"review\",6,\"A \"],[\"review\",6,\"A \"],[\"review\",6,\"A \"],[\"review\",6,\"A \"],[\"review\",6,\"A \"],[\"review\",6,\"A \"],[\"review\",12,\"A \"],[\"review\",12,\"A \"],[\"review\",12,\"A \"],[\"review\",12,\"A \"],[\"review\",12,\"A \"],[\"review\",12,\"A \"],[\"review\",12,\"A \"],[\"review\",12,\"A \"],[\"review\",12,\"A \"],[\"review\",12,\"A \"],[\"review\",12,\"A \"],[\"review\",12,\"A \"]],\"hovertemplate\":\"badge_det=review<br>example=%{x}<br>influence=%{y}<br>badge=%{customdata[0]}<br>count=%{customdata[1]}<br>letter=%{customdata[2]}<extra></extra>\",\"legendgroup\":\"review\",\"marker\":{\"color\":\"#00cc96\",\"pattern\":{\"shape\":\"\"}},\"name\":\"review\",\"offsetgroup\":\"review\",\"orientation\":\"v\",\"showlegend\":true,\"textposition\":\"auto\",\"x\":[\"example 5\",\"example 5\",\"example 5\",\"example 5\",\"example 5\",\"example 5\",\"example 5\",\"example 5\",\"example 5\",\"example 5\",\"example 5\",\"example 5\",\"example 5\",\"example 5\",\"example 5\",\"example 5\",\"example 5\",\"example 5\",\"example 15\",\"example 15\",\"example 15\",\"example 15\",\"example 15\",\"example 15\",\"example 15\",\"example 15\",\"example 15\",\"example 15\",\"example 15\",\"example 15\",\"example 15\",\"example 15\",\"example 15\",\"example 15\",\"example 15\",\"example 15\",\"example 15\",\"example 15\",\"example 15\",\"example 15\",\"example 15\",\"example 15\",\"example 11\",\"example 11\",\"example 11\",\"example 11\",\"example 11\",\"example 11\",\"example 11\",\"example 11\",\"example 11\",\"example 11\",\"example 11\",\"example 11\",\"example 11\",\"example 11\",\"example 11\",\"example 11\",\"example 11\",\"example 11\",\"example 2\",\"example 2\",\"example 2\",\"example 2\",\"example 2\",\"example 2\",\"example 2\",\"example 2\",\"example 2\",\"example 2\",\"example 2\",\"example 2\",\"example 2\",\"example 2\",\"example 2\",\"example 2\",\"example 2\",\"example 21\",\"example 21\",\"example 21\",\"example 21\",\"example 21\",\"example 21\",\"example 21\",\"example 21\",\"example 21\",\"example 21\",\"example 21\",\"example 21\",\"example 21\",\"example 21\",\"example 21\",\"example 21\",\"example 21\",\"example 21\",\"example 14\",\"example 14\",\"example 14\",\"example 14\",\"example 14\",\"example 14\",\"example 14\",\"example 14\",\"example 14\",\"example 14\",\"example 14\",\"example 14\",\"example 14\",\"example 14\",\"example 14\",\"example 14\",\"example 14\",\"example 14\",\"example 18\",\"example 18\",\"example 18\",\"example 18\",\"example 18\",\"example 18\",\"example 18\",\"example 18\",\"example 18\",\"example 18\",\"example 18\",\"example 18\",\"example 18\",\"example 18\",\"example 18\",\"example 18\",\"example 18\",\"example 18\",\"example 26\",\"example 26\",\"example 26\",\"example 26\",\"example 26\",\"example 26\",\"example 26\",\"example 26\",\"example 26\",\"example 26\",\"example 26\",\"example 26\",\"example 19\",\"example 19\",\"example 19\",\"example 19\",\"example 19\",\"example 19\",\"example 19\",\"example 19\",\"example 19\",\"example 19\",\"example 19\",\"example 19\",\"example 22\",\"example 22\",\"example 22\",\"example 22\",\"example 22\",\"example 22\",\"example 22\",\"example 22\",\"example 22\",\"example 22\",\"example 22\",\"example 22\",\"example 12\",\"example 12\",\"example 12\",\"example 12\",\"example 12\",\"example 12\",\"example 12\",\"example 12\",\"example 12\",\"example 12\",\"example 13\",\"example 20\",\"example 20\",\"example 20\",\"example 20\",\"example 20\",\"example 20\",\"example 20\",\"example 20\",\"example 20\",\"example 20\",\"example 20\",\"example 20\",\"example 7\",\"example 7\",\"example 7\",\"example 7\",\"example 7\",\"example 7\",\"example 7\",\"example 7\",\"example 7\",\"example 7\",\"example 7\",\"example 7\",\"example 7\",\"example 7\",\"example 7\",\"example 7\",\"example 7\",\"example 7\",\"example 25\",\"example 25\",\"example 25\",\"example 25\",\"example 25\",\"example 25\",\"example 25\",\"example 25\",\"example 25\",\"example 25\",\"example 25\",\"example 25\",\"example 8\",\"example 8\",\"example 8\",\"example 8\",\"example 8\",\"example 8\",\"example 9\",\"example 9\",\"example 9\",\"example 9\",\"example 9\",\"example 9\",\"example 9\",\"example 9\",\"example 9\",\"example 9\",\"example 9\",\"example 9\"],\"xaxis\":\"x\",\"y\":[3.0,3.0,3.0,3.0,3.0,3.0,3.0,3.0,3.0,3.0,3.0,3.0,3.0,3.0,3.0,3.0,3.0,3.0,3.0,3.0,3.0,3.0,3.0,3.0,3.0,3.0,3.0,3.0,3.0,3.0,3.0,3.0,3.0,3.0,3.0,3.0,3.0,3.0,3.0,3.0,3.0,3.0,3.0,3.0,3.0,3.0,3.0,3.0,3.0,3.0,3.0,3.0,3.0,3.0,3.0,3.0,3.0,3.0,3.0,3.0,3.0,3.0,3.0,3.0,3.0,3.0,3.0,3.0,3.0,3.0,3.0,3.0,3.0,3.0,3.0,3.0,3.0,3.0,3.0,3.0,3.0,3.0,3.0,3.0,3.0,3.0,3.0,3.0,3.0,3.0,3.0,3.0,3.0,3.0,3.0,3.0,3.0,3.0,3.0,3.0,3.0,3.0,3.0,3.0,3.0,3.0,3.0,3.0,3.0,3.0,3.0,3.0,3.0,3.0,3.0,3.0,3.0,3.0,3.0,3.0,3.0,3.0,3.0,3.0,3.0,3.0,3.0,3.0,3.0,3.0,3.0,3.0,3.0,3.0,3.0,3.0,3.0,3.0,3.0,3.0,3.0,3.0,3.0,3.0,3.0,3.0,3.0,3.0,3.0,3.0,3.0,3.0,3.0,3.0,3.0,3.0,3.0,3.0,3.0,3.0,3.0,3.0,3.0,3.0,3.0,3.0,3.0,3.0,3.0,3.0,3.0,3.0,3.0,3.0,3.0,3.0,3.0,3.0,3.0,3.0,3.0,3.0,3.0,3.0,3.0,3.0,3.0,3.0,3.0,3.0,3.0,3.0,3.0,3.0,3.0,3.0,3.0,3.0,3.0,3.0,3.0,3.0,3.0,3.0,3.0,3.0,3.0,3.0,3.0,3.0,3.0,3.0,3.0,3.0,3.0,3.0,3.0,3.0,3.0,3.0,3.0,3.0,3.0,3.0,3.0,3.0,3.0,3.0,3.0,3.0,3.0,3.0,3.0,3.0,3.0,3.0,3.0,3.0],\"yaxis\":\"y\",\"type\":\"bar\"},{\"alignmentgroup\":\"True\",\"customdata\":[[\"community\",4,\"C \"],[\"community\",4,\"C \"],[\"community\",4,\"C \"],[\"community\",4,\"C \"],[\"community\",8,\"B \"],[\"community\",8,\"B \"],[\"community\",8,\"B \"],[\"community\",8,\"B \"],[\"community\",8,\"B \"],[\"community\",8,\"B \"],[\"community\",8,\"B \"],[\"community\",8,\"B \"]],\"hovertemplate\":\"badge_det=community_review_makeup<br>example=%{x}<br>influence=%{y}<br>badge=%{customdata[0]}<br>count=%{customdata[1]}<br>letter=%{customdata[2]}<extra></extra>\",\"legendgroup\":\"community_review_makeup\",\"marker\":{\"color\":\"#ab63fa\",\"pattern\":{\"shape\":\"\"}},\"name\":\"community_review_makeup\",\"offsetgroup\":\"community_review_makeup\",\"orientation\":\"v\",\"showlegend\":true,\"textposition\":\"auto\",\"x\":[\"example 2\",\"example 2\",\"example 2\",\"example 2\",\"example 12\",\"example 12\",\"example 12\",\"example 12\",\"example 12\",\"example 12\",\"example 12\",\"example 12\"],\"xaxis\":\"x\",\"y\":[0.75,0.75,0.75,0.75,0.75,0.75,0.75,0.75,0.75,0.75,0.75,0.75],\"yaxis\":\"y\",\"type\":\"bar\"},{\"alignmentgroup\":\"True\",\"customdata\":[[\"community\",3,\"B \"],[\"community\",3,\"B \"],[\"community\",3,\"B \"]],\"hovertemplate\":\"badge_det=community_review_upgrade<br>example=%{x}<br>influence=%{y}<br>badge=%{customdata[0]}<br>count=%{customdata[1]}<br>letter=%{customdata[2]}<extra></extra>\",\"legendgroup\":\"community_review_upgrade\",\"marker\":{\"color\":\"#FFA15A\",\"pattern\":{\"shape\":\"\"}},\"name\":\"community_review_upgrade\",\"offsetgroup\":\"community_review_upgrade\",\"orientation\":\"v\",\"showlegend\":true,\"textposition\":\"auto\",\"x\":[\"example 13\",\"example 13\",\"example 13\"],\"xaxis\":\"x\",\"y\":[1.0,1.0,1.0],\"yaxis\":\"y\",\"type\":\"bar\"},{\"alignmentgroup\":\"True\",\"customdata\":[[\"practice\",6,\"B-\"],[\"practice\",6,\"B-\"],[\"practice\",6,\"B-\"],[\"practice\",6,\"B-\"],[\"practice\",6,\"B-\"],[\"practice\",6,\"B-\"],[\"practice\",18,\"B \"],[\"practice\",18,\"B \"],[\"practice\",18,\"B \"],[\"practice\",18,\"B \"],[\"practice\",18,\"B \"],[\"practice\",18,\"B \"],[\"practice\",18,\"B \"],[\"practice\",18,\"B \"],[\"practice\",18,\"B \"],[\"practice\",18,\"B \"],[\"practice\",18,\"B \"],[\"practice\",18,\"B \"],[\"practice\",18,\"B \"],[\"practice\",18,\"B \"],[\"practice\",18,\"B \"],[\"practice\",18,\"B \"],[\"practice\",18,\"B \"],[\"practice\",18,\"B \"],[\"practice\",12,\"B \"],[\"practice\",12,\"B \"],[\"practice\",12,\"B \"],[\"practice\",12,\"B \"],[\"practice\",12,\"B \"],[\"practice\",12,\"B \"],[\"practice\",12,\"B \"],[\"practice\",12,\"B \"],[\"practice\",12,\"B \"],[\"practice\",12,\"B \"],[\"practice\",12,\"B \"],[\"practice\",12,\"B \"],[\"practice\",18,\"B \"],[\"practice\",18,\"B \"],[\"practice\",18,\"B \"],[\"practice\",18,\"B \"],[\"practice\",18,\"B \"],[\"practice\",18,\"B \"],[\"practice\",18,\"B \"],[\"practice\",18,\"B \"],[\"practice\",18,\"B \"],[\"practice\",18,\"B \"],[\"practice\",18,\"B \"],[\"practice\",18,\"B \"],[\"practice\",18,\"B \"],[\"practice\",18,\"B \"],[\"practice\",18,\"B \"],[\"practice\",18,\"B \"],[\"practice\",18,\"B \"],[\"practice\",18,\"B \"],[\"practice\",12,\"B \"],[\"practice\",12,\"B \"],[\"practice\",12,\"B \"],[\"practice\",12,\"B \"],[\"practice\",12,\"B \"],[\"practice\",12,\"B \"],[\"practice\",12,\"B \"],[\"practice\",12,\"B \"],[\"practice\",12,\"B \"],[\"practice\",12,\"B \"],[\"practice\",12,\"B \"],[\"practice\",12,\"B \"],[\"practice\",12,\"B \"],[\"practice\",12,\"B \"],[\"practice\",12,\"B \"],[\"practice\",12,\"B \"],[\"practice\",12,\"B \"],[\"practice\",12,\"B \"],[\"practice\",12,\"B \"],[\"practice\",12,\"B \"],[\"practice\",12,\"B \"],[\"practice\",12,\"B \"],[\"practice\",12,\"B \"],[\"practice\",12,\"B \"],[\"practice\",12,\"B \"],[\"practice\",12,\"B \"],[\"practice\",12,\"B \"],[\"practice\",12,\"B \"],[\"practice\",12,\"B \"],[\"practice\",12,\"B \"],[\"practice\",12,\"B \"],[\"practice\",12,\"B \"],[\"practice\",12,\"B \"],[\"practice\",12,\"B \"],[\"practice\",12,\"B \"],[\"practice\",12,\"B \"],[\"practice\",16,\"B \"],[\"practice\",16,\"B \"],[\"practice\",16,\"B \"],[\"practice\",16,\"B \"],[\"practice\",16,\"B \"],[\"practice\",16,\"B \"],[\"practice\",16,\"B \"],[\"practice\",16,\"B \"],[\"practice\",16,\"B \"],[\"practice\",16,\"B \"],[\"practice\",16,\"B \"],[\"practice\",16,\"B \"],[\"practice\",16,\"B \"],[\"practice\",16,\"B \"],[\"practice\",16,\"B \"],[\"practice\",16,\"B \"],[\"practice\",16,\"B \"],[\"practice\",16,\"B \"],[\"practice\",16,\"B \"],[\"practice\",16,\"B \"],[\"practice\",16,\"B \"],[\"practice\",16,\"B \"],[\"practice\",16,\"B \"],[\"practice\",16,\"B \"],[\"practice\",16,\"B \"],[\"practice\",16,\"B \"],[\"practice\",16,\"B \"],[\"practice\",16,\"B \"],[\"practice\",16,\"B \"],[\"practice\",16,\"B \"],[\"practice\",16,\"B \"],[\"practice\",16,\"B \"],[\"practice\",18,\"B+\"],[\"practice\",18,\"B+\"],[\"practice\",18,\"B+\"],[\"practice\",18,\"B+\"],[\"practice\",18,\"B+\"],[\"practice\",18,\"B+\"],[\"practice\",18,\"B+\"],[\"practice\",18,\"B+\"],[\"practice\",18,\"B+\"],[\"practice\",18,\"B+\"],[\"practice\",18,\"B+\"],[\"practice\",18,\"B+\"],[\"practice\",18,\"B+\"],[\"practice\",18,\"B+\"],[\"practice\",18,\"B+\"],[\"practice\",18,\"B+\"],[\"practice\",18,\"B+\"],[\"practice\",18,\"B+\"],[\"practice\",12,\"B+\"],[\"practice\",12,\"B+\"],[\"practice\",12,\"B+\"],[\"practice\",12,\"B+\"],[\"practice\",12,\"B+\"],[\"practice\",12,\"B+\"],[\"practice\",12,\"B+\"],[\"practice\",12,\"B+\"],[\"practice\",12,\"B+\"],[\"practice\",12,\"B+\"],[\"practice\",12,\"B+\"],[\"practice\",12,\"B+\"],[\"practice\",24,\"A-\"],[\"practice\",24,\"A-\"],[\"practice\",24,\"A-\"],[\"practice\",24,\"A-\"],[\"practice\",24,\"A-\"],[\"practice\",24,\"A-\"],[\"practice\",24,\"A-\"],[\"practice\",24,\"A-\"],[\"practice\",24,\"A-\"],[\"practice\",24,\"A-\"],[\"practice\",24,\"A-\"],[\"practice\",24,\"A-\"],[\"practice\",24,\"A-\"],[\"practice\",24,\"A-\"],[\"practice\",24,\"A-\"],[\"practice\",24,\"A-\"],[\"practice\",24,\"A-\"],[\"practice\",24,\"A-\"],[\"practice\",24,\"A-\"],[\"practice\",24,\"A-\"],[\"practice\",24,\"A-\"],[\"practice\",24,\"A-\"],[\"practice\",24,\"A-\"],[\"practice\",24,\"A-\"],[\"practice\",18,\"A-\"],[\"practice\",18,\"A-\"],[\"practice\",18,\"A-\"],[\"practice\",18,\"A-\"],[\"practice\",18,\"A-\"],[\"practice\",18,\"A-\"],[\"practice\",18,\"A-\"],[\"practice\",18,\"A-\"],[\"practice\",18,\"A-\"],[\"practice\",18,\"A-\"],[\"practice\",18,\"A-\"],[\"practice\",18,\"A-\"],[\"practice\",18,\"A-\"],[\"practice\",18,\"A-\"],[\"practice\",18,\"A-\"],[\"practice\",18,\"A-\"],[\"practice\",18,\"A-\"],[\"practice\",18,\"A-\"],[\"practice\",18,\"A-\"],[\"practice\",18,\"A-\"],[\"practice\",18,\"A-\"],[\"practice\",18,\"A-\"],[\"practice\",18,\"A-\"],[\"practice\",18,\"A-\"],[\"practice\",18,\"A-\"],[\"practice\",18,\"A-\"],[\"practice\",18,\"A-\"],[\"practice\",18,\"A-\"],[\"practice\",18,\"A-\"],[\"practice\",18,\"A-\"],[\"practice\",18,\"A-\"],[\"practice\",18,\"A-\"],[\"practice\",18,\"A-\"],[\"practice\",18,\"A-\"],[\"practice\",18,\"A-\"],[\"practice\",18,\"A-\"],[\"practice\",12,\"A-\"],[\"practice\",12,\"A-\"],[\"practice\",12,\"A-\"],[\"practice\",12,\"A-\"],[\"practice\",12,\"A-\"],[\"practice\",12,\"A-\"],[\"practice\",12,\"A-\"],[\"practice\",12,\"A-\"],[\"practice\",12,\"A-\"],[\"practice\",12,\"A-\"],[\"practice\",12,\"A-\"],[\"practice\",12,\"A-\"],[\"practice\",18,\"A \"],[\"practice\",18,\"A \"],[\"practice\",18,\"A \"],[\"practice\",18,\"A \"],[\"practice\",18,\"A \"],[\"practice\",18,\"A \"],[\"practice\",18,\"A \"],[\"practice\",18,\"A \"],[\"practice\",18,\"A \"],[\"practice\",18,\"A \"],[\"practice\",18,\"A \"],[\"practice\",18,\"A \"],[\"practice\",18,\"A \"],[\"practice\",18,\"A \"],[\"practice\",18,\"A \"],[\"practice\",18,\"A \"],[\"practice\",18,\"A \"],[\"practice\",18,\"A \"],[\"practice\",12,\"A \"],[\"practice\",12,\"A \"],[\"practice\",12,\"A \"],[\"practice\",12,\"A \"],[\"practice\",12,\"A \"],[\"practice\",12,\"A \"],[\"practice\",12,\"A \"],[\"practice\",12,\"A \"],[\"practice\",12,\"A \"],[\"practice\",12,\"A \"],[\"practice\",12,\"A \"],[\"practice\",12,\"A \"],[\"practice\",6,\"A \"],[\"practice\",6,\"A \"],[\"practice\",6,\"A \"],[\"practice\",6,\"A \"],[\"practice\",6,\"A \"],[\"practice\",6,\"A \"],[\"practice\",24,\"A \"],[\"practice\",24,\"A \"],[\"practice\",24,\"A \"],[\"practice\",24,\"A \"],[\"practice\",24,\"A \"],[\"practice\",24,\"A \"],[\"practice\",24,\"A \"],[\"practice\",24,\"A \"],[\"practice\",24,\"A \"],[\"practice\",24,\"A \"],[\"practice\",24,\"A \"],[\"practice\",24,\"A \"],[\"practice\",24,\"A \"],[\"practice\",24,\"A \"],[\"practice\",24,\"A \"],[\"practice\",24,\"A \"],[\"practice\",24,\"A \"],[\"practice\",24,\"A \"],[\"practice\",24,\"A \"],[\"practice\",24,\"A \"],[\"practice\",24,\"A \"],[\"practice\",24,\"A \"],[\"practice\",24,\"A \"],[\"practice\",24,\"A \"],[\"practice\",18,\"A \"],[\"practice\",18,\"A \"],[\"practice\",18,\"A \"],[\"practice\",18,\"A \"],[\"practice\",18,\"A \"],[\"practice\",18,\"A \"],[\"practice\",18,\"A \"],[\"practice\",18,\"A \"],[\"practice\",18,\"A \"],[\"practice\",18,\"A \"],[\"practice\",18,\"A \"],[\"practice\",18,\"A \"],[\"practice\",18,\"A \"],[\"practice\",18,\"A \"],[\"practice\",18,\"A \"],[\"practice\",18,\"A \"],[\"practice\",18,\"A \"],[\"practice\",18,\"A \"]],\"hovertemplate\":\"badge_det=practice<br>example=%{x}<br>influence=%{y}<br>badge=%{customdata[0]}<br>count=%{customdata[1]}<br>letter=%{customdata[2]}<extra></extra>\",\"legendgroup\":\"practice\",\"marker\":{\"color\":\"#19d3f3\",\"pattern\":{\"shape\":\"\"}},\"name\":\"practice\",\"offsetgroup\":\"practice\",\"orientation\":\"v\",\"showlegend\":true,\"textposition\":\"auto\",\"x\":[\"example 18\",\"example 18\",\"example 18\",\"example 18\",\"example 18\",\"example 18\",\"example 24\",\"example 24\",\"example 24\",\"example 24\",\"example 24\",\"example 24\",\"example 24\",\"example 24\",\"example 24\",\"example 24\",\"example 24\",\"example 24\",\"example 24\",\"example 24\",\"example 24\",\"example 24\",\"example 24\",\"example 24\",\"example 26\",\"example 26\",\"example 26\",\"example 26\",\"example 26\",\"example 26\",\"example 26\",\"example 26\",\"example 26\",\"example 26\",\"example 26\",\"example 26\",\"example 16\",\"example 16\",\"example 16\",\"example 16\",\"example 16\",\"example 16\",\"example 16\",\"example 16\",\"example 16\",\"example 16\",\"example 16\",\"example 16\",\"example 16\",\"example 16\",\"example 16\",\"example 16\",\"example 16\",\"example 16\",\"example 19\",\"example 19\",\"example 19\",\"example 19\",\"example 19\",\"example 19\",\"example 19\",\"example 19\",\"example 19\",\"example 19\",\"example 19\",\"example 19\",\"example 22\",\"example 22\",\"example 22\",\"example 22\",\"example 22\",\"example 22\",\"example 22\",\"example 22\",\"example 22\",\"example 22\",\"example 22\",\"example 22\",\"example 12\",\"example 12\",\"example 12\",\"example 12\",\"example 12\",\"example 12\",\"example 12\",\"example 12\",\"example 12\",\"example 12\",\"example 12\",\"example 12\",\"example 3\",\"example 3\",\"example 3\",\"example 3\",\"example 3\",\"example 3\",\"example 3\",\"example 3\",\"example 3\",\"example 3\",\"example 3\",\"example 3\",\"example 3\",\"example 3\",\"example 3\",\"example 3\",\"example 13\",\"example 13\",\"example 13\",\"example 13\",\"example 13\",\"example 13\",\"example 13\",\"example 13\",\"example 13\",\"example 13\",\"example 13\",\"example 13\",\"example 13\",\"example 13\",\"example 13\",\"example 13\",\"example 17\",\"example 17\",\"example 17\",\"example 17\",\"example 17\",\"example 17\",\"example 17\",\"example 17\",\"example 17\",\"example 17\",\"example 17\",\"example 17\",\"example 17\",\"example 17\",\"example 17\",\"example 17\",\"example 17\",\"example 17\",\"example 20\",\"example 20\",\"example 20\",\"example 20\",\"example 20\",\"example 20\",\"example 20\",\"example 20\",\"example 20\",\"example 20\",\"example 20\",\"example 20\",\"example 27\",\"example 27\",\"example 27\",\"example 27\",\"example 27\",\"example 27\",\"example 27\",\"example 27\",\"example 27\",\"example 27\",\"example 27\",\"example 27\",\"example 27\",\"example 27\",\"example 27\",\"example 27\",\"example 27\",\"example 27\",\"example 27\",\"example 27\",\"example 27\",\"example 27\",\"example 27\",\"example 27\",\"example 29\",\"example 29\",\"example 29\",\"example 29\",\"example 29\",\"example 29\",\"example 29\",\"example 29\",\"example 29\",\"example 29\",\"example 29\",\"example 29\",\"example 29\",\"example 29\",\"example 29\",\"example 29\",\"example 29\",\"example 29\",\"example 6\",\"example 6\",\"example 6\",\"example 6\",\"example 6\",\"example 6\",\"example 6\",\"example 6\",\"example 6\",\"example 6\",\"example 6\",\"example 6\",\"example 6\",\"example 6\",\"example 6\",\"example 6\",\"example 6\",\"example 6\",\"example 25\",\"example 25\",\"example 25\",\"example 25\",\"example 25\",\"example 25\",\"example 25\",\"example 25\",\"example 25\",\"example 25\",\"example 25\",\"example 25\",\"example 28\",\"example 28\",\"example 28\",\"example 28\",\"example 28\",\"example 28\",\"example 28\",\"example 28\",\"example 28\",\"example 28\",\"example 28\",\"example 28\",\"example 28\",\"example 28\",\"example 28\",\"example 28\",\"example 28\",\"example 28\",\"example 8\",\"example 8\",\"example 8\",\"example 8\",\"example 8\",\"example 8\",\"example 8\",\"example 8\",\"example 8\",\"example 8\",\"example 8\",\"example 8\",\"example 9\",\"example 9\",\"example 9\",\"example 9\",\"example 9\",\"example 9\",\"example 10\",\"example 10\",\"example 10\",\"example 10\",\"example 10\",\"example 10\",\"example 10\",\"example 10\",\"example 10\",\"example 10\",\"example 10\",\"example 10\",\"example 10\",\"example 10\",\"example 10\",\"example 10\",\"example 10\",\"example 10\",\"example 10\",\"example 10\",\"example 10\",\"example 10\",\"example 10\",\"example 10\",\"example 23\",\"example 23\",\"example 23\",\"example 23\",\"example 23\",\"example 23\",\"example 23\",\"example 23\",\"example 23\",\"example 23\",\"example 23\",\"example 23\",\"example 23\",\"example 23\",\"example 23\",\"example 23\",\"example 23\",\"example 23\"],\"xaxis\":\"x\",\"y\":[6.0,6.0,6.0,6.0,6.0,6.0,6.0,6.0,6.0,6.0,6.0,6.0,6.0,6.0,6.0,6.0,6.0,6.0,6.0,6.0,6.0,6.0,6.0,6.0,6.0,6.0,6.0,6.0,6.0,6.0,6.0,6.0,6.0,6.0,6.0,6.0,6.0,6.0,6.0,6.0,6.0,6.0,6.0,6.0,6.0,6.0,6.0,6.0,6.0,6.0,6.0,6.0,6.0,6.0,6.0,6.0,6.0,6.0,6.0,6.0,6.0,6.0,6.0,6.0,6.0,6.0,6.0,6.0,6.0,6.0,6.0,6.0,6.0,6.0,6.0,6.0,6.0,6.0,6.0,6.0,6.0,6.0,6.0,6.0,6.0,6.0,6.0,6.0,6.0,6.0,6.0,6.0,6.0,6.0,6.0,6.0,6.0,6.0,6.0,6.0,6.0,6.0,6.0,6.0,6.0,6.0,6.0,6.0,6.0,6.0,6.0,6.0,6.0,6.0,6.0,6.0,6.0,6.0,6.0,6.0,6.0,6.0,6.0,6.0,6.0,6.0,6.0,6.0,6.0,6.0,6.0,6.0,6.0,6.0,6.0,6.0,6.0,6.0,6.0,6.0,6.0,6.0,6.0,6.0,6.0,6.0,6.0,6.0,6.0,6.0,6.0,6.0,6.0,6.0,6.0,6.0,6.0,6.0,6.0,6.0,6.0,6.0,6.0,6.0,6.0,6.0,6.0,6.0,6.0,6.0,6.0,6.0,6.0,6.0,6.0,6.0,6.0,6.0,6.0,6.0,6.0,6.0,6.0,6.0,6.0,6.0,6.0,6.0,6.0,6.0,6.0,6.0,6.0,6.0,6.0,6.0,6.0,6.0,6.0,6.0,6.0,6.0,6.0,6.0,6.0,6.0,6.0,6.0,6.0,6.0,6.0,6.0,6.0,6.0,6.0,6.0,6.0,6.0,6.0,6.0,6.0,6.0,6.0,6.0,6.0,6.0,6.0,6.0,6.0,6.0,6.0,6.0,6.0,6.0,6.0,6.0,6.0,6.0,6.0,6.0,6.0,6.0,6.0,6.0,6.0,6.0,6.0,6.0,6.0,6.0,6.0,6.0,6.0,6.0,6.0,6.0,6.0,6.0,6.0,6.0,6.0,6.0,6.0,6.0,6.0,6.0,6.0,6.0,6.0,6.0,6.0,6.0,6.0,6.0,6.0,6.0,6.0,6.0,6.0,6.0,6.0,6.0,6.0,6.0,6.0,6.0,6.0,6.0,6.0,6.0,6.0,6.0,6.0,6.0,6.0,6.0,6.0,6.0,6.0,6.0,6.0,6.0],\"yaxis\":\"y\",\"type\":\"bar\"},{\"alignmentgroup\":\"True\",\"customdata\":[[\"community\",14,\"B \"],[\"community\",14,\"B \"],[\"community\",14,\"B \"],[\"community\",14,\"B \"],[\"community\",14,\"B \"],[\"community\",14,\"B \"],[\"community\",14,\"B \"],[\"community\",14,\"B \"],[\"community\",14,\"B \"],[\"community\",14,\"B \"],[\"community\",14,\"B \"],[\"community\",14,\"B \"],[\"community\",14,\"B \"],[\"community\",14,\"B \"],[\"community\",7,\"B \"],[\"community\",7,\"B \"],[\"community\",7,\"B \"],[\"community\",7,\"B \"],[\"community\",7,\"B \"],[\"community\",7,\"B \"],[\"community\",7,\"B \"]],\"hovertemplate\":\"badge_det=community_practice_makeup<br>example=%{x}<br>influence=%{y}<br>badge=%{customdata[0]}<br>count=%{customdata[1]}<br>letter=%{customdata[2]}<extra></extra>\",\"legendgroup\":\"community_practice_makeup\",\"marker\":{\"color\":\"#FF6692\",\"pattern\":{\"shape\":\"\"}},\"name\":\"community_practice_makeup\",\"offsetgroup\":\"community_practice_makeup\",\"orientation\":\"v\",\"showlegend\":true,\"textposition\":\"auto\",\"x\":[\"example 3\",\"example 3\",\"example 3\",\"example 3\",\"example 3\",\"example 3\",\"example 3\",\"example 3\",\"example 3\",\"example 3\",\"example 3\",\"example 3\",\"example 3\",\"example 3\",\"example 13\",\"example 13\",\"example 13\",\"example 13\",\"example 13\",\"example 13\",\"example 13\"],\"xaxis\":\"x\",\"y\":[0.8571428571428571,0.8571428571428571,0.8571428571428571,0.8571428571428571,0.8571428571428571,0.8571428571428571,0.8571428571428571,0.8571428571428571,0.8571428571428571,0.8571428571428571,0.8571428571428571,0.8571428571428571,0.8571428571428571,0.8571428571428571,0.8571428571428571,0.8571428571428571,0.8571428571428571,0.8571428571428571,0.8571428571428571,0.8571428571428571,0.8571428571428571],\"yaxis\":\"y\",\"type\":\"bar\"},{\"alignmentgroup\":\"True\",\"customdata\":[[\"explore\",4,\"A-\"],[\"explore\",4,\"A-\"],[\"explore\",4,\"A-\"],[\"explore\",4,\"A-\"],[\"explore\",2,\"A-\"],[\"explore\",2,\"A-\"],[\"explore\",6,\"A \"],[\"explore\",6,\"A \"],[\"explore\",6,\"A \"],[\"explore\",6,\"A \"],[\"explore\",6,\"A \"],[\"explore\",6,\"A \"],[\"explore\",4,\"A \"],[\"explore\",4,\"A \"],[\"explore\",4,\"A \"],[\"explore\",4,\"A \"],[\"explore\",2,\"A \"],[\"explore\",2,\"A \"],[\"explore\",2,\"A \"],[\"explore\",2,\"A \"]],\"hovertemplate\":\"badge_det=explore<br>example=%{x}<br>influence=%{y}<br>badge=%{customdata[0]}<br>count=%{customdata[1]}<br>letter=%{customdata[2]}<extra></extra>\",\"legendgroup\":\"explore\",\"marker\":{\"color\":\"#B6E880\",\"pattern\":{\"shape\":\"\"}},\"name\":\"explore\",\"offsetgroup\":\"explore\",\"orientation\":\"v\",\"showlegend\":true,\"textposition\":\"auto\",\"x\":[\"example 29\",\"example 29\",\"example 29\",\"example 29\",\"example 25\",\"example 25\",\"example 28\",\"example 28\",\"example 28\",\"example 28\",\"example 28\",\"example 28\",\"example 8\",\"example 8\",\"example 8\",\"example 8\",\"example 9\",\"example 9\",\"example 10\",\"example 10\"],\"xaxis\":\"x\",\"y\":[9.0,9.0,9.0,9.0,9.0,9.0,9.0,9.0,9.0,9.0,9.0,9.0,9.0,9.0,9.0,9.0,9.0,9.0,9.0,9.0],\"yaxis\":\"y\",\"type\":\"bar\"},{\"alignmentgroup\":\"True\",\"customdata\":[[\"build\",1,\"C+\"],[\"build\",1,\"A-\"],[\"build\",3,\"A-\"],[\"build\",3,\"A-\"],[\"build\",3,\"A-\"],[\"build\",1,\"A \"],[\"build\",2,\"A \"],[\"build\",2,\"A \"],[\"build\",1,\"A \"]],\"hovertemplate\":\"badge_det=build<br>example=%{x}<br>influence=%{y}<br>badge=%{customdata[0]}<br>count=%{customdata[1]}<br>letter=%{customdata[2]}<extra></extra>\",\"legendgroup\":\"build\",\"marker\":{\"color\":\"#FF97FF\",\"pattern\":{\"shape\":\"\"}},\"name\":\"build\",\"offsetgroup\":\"build\",\"orientation\":\"v\",\"showlegend\":true,\"textposition\":\"auto\",\"x\":[\"example 21\",\"example 6\",\"example 7\",\"example 7\",\"example 7\",\"example 8\",\"example 9\",\"example 9\",\"example 23\"],\"xaxis\":\"x\",\"y\":[36.0,36.0,36.0,36.0,36.0,36.0,36.0,36.0,36.0],\"yaxis\":\"y\",\"type\":\"bar\"},{\"alignmentgroup\":\"True\",\"customdata\":[[\"community\",10,\"D+\"],[\"community\",10,\"D+\"],[\"community\",10,\"D+\"],[\"community\",10,\"D+\"],[\"community\",10,\"D+\"],[\"community\",10,\"D+\"],[\"community\",10,\"D+\"],[\"community\",10,\"D+\"],[\"community\",10,\"D+\"],[\"community\",10,\"D+\"],[\"community\",10,\"C+\"],[\"community\",10,\"C+\"],[\"community\",10,\"C+\"],[\"community\",10,\"C+\"],[\"community\",10,\"C+\"],[\"community\",10,\"C+\"],[\"community\",10,\"C+\"],[\"community\",10,\"C+\"],[\"community\",10,\"C+\"],[\"community\",10,\"C+\"],[\"community\",10,\"B+\"],[\"community\",10,\"B+\"],[\"community\",10,\"B+\"],[\"community\",10,\"B+\"],[\"community\",10,\"B+\"],[\"community\",10,\"B+\"],[\"community\",10,\"B+\"],[\"community\",10,\"B+\"],[\"community\",10,\"B+\"],[\"community\",10,\"B+\"],[\"community\",10,\"B+\"],[\"community\",10,\"B+\"],[\"community\",10,\"B+\"],[\"community\",10,\"B+\"],[\"community\",10,\"B+\"],[\"community\",10,\"B+\"],[\"community\",10,\"B+\"],[\"community\",10,\"B+\"],[\"community\",10,\"B+\"],[\"community\",10,\"B+\"],[\"community\",10,\"A-\"],[\"community\",10,\"A-\"],[\"community\",10,\"A-\"],[\"community\",10,\"A-\"],[\"community\",10,\"A-\"],[\"community\",10,\"A-\"],[\"community\",10,\"A-\"],[\"community\",10,\"A-\"],[\"community\",10,\"A-\"],[\"community\",10,\"A-\"],[\"community\",10,\"A \"],[\"community\",10,\"A \"],[\"community\",10,\"A \"],[\"community\",10,\"A \"],[\"community\",10,\"A \"],[\"community\",10,\"A \"],[\"community\",10,\"A \"],[\"community\",10,\"A \"],[\"community\",10,\"A \"],[\"community\",10,\"A \"]],\"hovertemplate\":\"badge_det=community_plus<br>example=%{x}<br>influence=%{y}<br>badge=%{customdata[0]}<br>count=%{customdata[1]}<br>letter=%{customdata[2]}<extra></extra>\",\"legendgroup\":\"community_plus\",\"marker\":{\"color\":\"#FECB52\",\"pattern\":{\"shape\":\"\"}},\"name\":\"community_plus\",\"offsetgroup\":\"community_plus\",\"orientation\":\"v\",\"showlegend\":true,\"textposition\":\"auto\",\"x\":[\"example 4\",\"example 4\",\"example 4\",\"example 4\",\"example 4\",\"example 4\",\"example 4\",\"example 4\",\"example 4\",\"example 4\",\"example 14\",\"example 14\",\"example 14\",\"example 14\",\"example 14\",\"example 14\",\"example 14\",\"example 14\",\"example 14\",\"example 14\",\"example 17\",\"example 17\",\"example 17\",\"example 17\",\"example 17\",\"example 17\",\"example 17\",\"example 17\",\"example 17\",\"example 17\",\"example 20\",\"example 20\",\"example 20\",\"example 20\",\"example 20\",\"example 20\",\"example 20\",\"example 20\",\"example 20\",\"example 20\",\"example 25\",\"example 25\",\"example 25\",\"example 25\",\"example 25\",\"example 25\",\"example 25\",\"example 25\",\"example 25\",\"example 25\",\"example 23\",\"example 23\",\"example 23\",\"example 23\",\"example 23\",\"example 23\",\"example 23\",\"example 23\",\"example 23\",\"example 23\"],\"xaxis\":\"x\",\"y\":[1.8,1.8,1.8,1.8,1.8,1.8,1.8,1.8,1.8,1.8,1.8,1.8,1.8,1.8,1.8,1.8,1.8,1.8,1.8,1.8,1.8,1.8,1.8,1.8,1.8,1.8,1.8,1.8,1.8,1.8,1.8,1.8,1.8,1.8,1.8,1.8,1.8,1.8,1.8,1.8,1.8,1.8,1.8,1.8,1.8,1.8,1.8,1.8,1.8,1.8,1.8,1.8,1.8,1.8,1.8,1.8,1.8,1.8,1.8,1.8],\"yaxis\":\"y\",\"type\":\"bar\"}],                        {\"template\":{\"data\":{\"histogram2dcontour\":[{\"type\":\"histogram2dcontour\",\"colorbar\":{\"outlinewidth\":0,\"ticks\":\"\"},\"colorscale\":[[0.0,\"#0d0887\"],[0.1111111111111111,\"#46039f\"],[0.2222222222222222,\"#7201a8\"],[0.3333333333333333,\"#9c179e\"],[0.4444444444444444,\"#bd3786\"],[0.5555555555555556,\"#d8576b\"],[0.6666666666666666,\"#ed7953\"],[0.7777777777777778,\"#fb9f3a\"],[0.8888888888888888,\"#fdca26\"],[1.0,\"#f0f921\"]]}],\"choropleth\":[{\"type\":\"choropleth\",\"colorbar\":{\"outlinewidth\":0,\"ticks\":\"\"}}],\"histogram2d\":[{\"type\":\"histogram2d\",\"colorbar\":{\"outlinewidth\":0,\"ticks\":\"\"},\"colorscale\":[[0.0,\"#0d0887\"],[0.1111111111111111,\"#46039f\"],[0.2222222222222222,\"#7201a8\"],[0.3333333333333333,\"#9c179e\"],[0.4444444444444444,\"#bd3786\"],[0.5555555555555556,\"#d8576b\"],[0.6666666666666666,\"#ed7953\"],[0.7777777777777778,\"#fb9f3a\"],[0.8888888888888888,\"#fdca26\"],[1.0,\"#f0f921\"]]}],\"heatmap\":[{\"type\":\"heatmap\",\"colorbar\":{\"outlinewidth\":0,\"ticks\":\"\"},\"colorscale\":[[0.0,\"#0d0887\"],[0.1111111111111111,\"#46039f\"],[0.2222222222222222,\"#7201a8\"],[0.3333333333333333,\"#9c179e\"],[0.4444444444444444,\"#bd3786\"],[0.5555555555555556,\"#d8576b\"],[0.6666666666666666,\"#ed7953\"],[0.7777777777777778,\"#fb9f3a\"],[0.8888888888888888,\"#fdca26\"],[1.0,\"#f0f921\"]]}],\"heatmapgl\":[{\"type\":\"heatmapgl\",\"colorbar\":{\"outlinewidth\":0,\"ticks\":\"\"},\"colorscale\":[[0.0,\"#0d0887\"],[0.1111111111111111,\"#46039f\"],[0.2222222222222222,\"#7201a8\"],[0.3333333333333333,\"#9c179e\"],[0.4444444444444444,\"#bd3786\"],[0.5555555555555556,\"#d8576b\"],[0.6666666666666666,\"#ed7953\"],[0.7777777777777778,\"#fb9f3a\"],[0.8888888888888888,\"#fdca26\"],[1.0,\"#f0f921\"]]}],\"contourcarpet\":[{\"type\":\"contourcarpet\",\"colorbar\":{\"outlinewidth\":0,\"ticks\":\"\"}}],\"contour\":[{\"type\":\"contour\",\"colorbar\":{\"outlinewidth\":0,\"ticks\":\"\"},\"colorscale\":[[0.0,\"#0d0887\"],[0.1111111111111111,\"#46039f\"],[0.2222222222222222,\"#7201a8\"],[0.3333333333333333,\"#9c179e\"],[0.4444444444444444,\"#bd3786\"],[0.5555555555555556,\"#d8576b\"],[0.6666666666666666,\"#ed7953\"],[0.7777777777777778,\"#fb9f3a\"],[0.8888888888888888,\"#fdca26\"],[1.0,\"#f0f921\"]]}],\"surface\":[{\"type\":\"surface\",\"colorbar\":{\"outlinewidth\":0,\"ticks\":\"\"},\"colorscale\":[[0.0,\"#0d0887\"],[0.1111111111111111,\"#46039f\"],[0.2222222222222222,\"#7201a8\"],[0.3333333333333333,\"#9c179e\"],[0.4444444444444444,\"#bd3786\"],[0.5555555555555556,\"#d8576b\"],[0.6666666666666666,\"#ed7953\"],[0.7777777777777778,\"#fb9f3a\"],[0.8888888888888888,\"#fdca26\"],[1.0,\"#f0f921\"]]}],\"mesh3d\":[{\"type\":\"mesh3d\",\"colorbar\":{\"outlinewidth\":0,\"ticks\":\"\"}}],\"scatter\":[{\"fillpattern\":{\"fillmode\":\"overlay\",\"size\":10,\"solidity\":0.2},\"type\":\"scatter\"}],\"parcoords\":[{\"type\":\"parcoords\",\"line\":{\"colorbar\":{\"outlinewidth\":0,\"ticks\":\"\"}}}],\"scatterpolargl\":[{\"type\":\"scatterpolargl\",\"marker\":{\"colorbar\":{\"outlinewidth\":0,\"ticks\":\"\"}}}],\"bar\":[{\"error_x\":{\"color\":\"#2a3f5f\"},\"error_y\":{\"color\":\"#2a3f5f\"},\"marker\":{\"line\":{\"color\":\"#E5ECF6\",\"width\":0.5},\"pattern\":{\"fillmode\":\"overlay\",\"size\":10,\"solidity\":0.2}},\"type\":\"bar\"}],\"scattergeo\":[{\"type\":\"scattergeo\",\"marker\":{\"colorbar\":{\"outlinewidth\":0,\"ticks\":\"\"}}}],\"scatterpolar\":[{\"type\":\"scatterpolar\",\"marker\":{\"colorbar\":{\"outlinewidth\":0,\"ticks\":\"\"}}}],\"histogram\":[{\"marker\":{\"pattern\":{\"fillmode\":\"overlay\",\"size\":10,\"solidity\":0.2}},\"type\":\"histogram\"}],\"scattergl\":[{\"type\":\"scattergl\",\"marker\":{\"colorbar\":{\"outlinewidth\":0,\"ticks\":\"\"}}}],\"scatter3d\":[{\"type\":\"scatter3d\",\"line\":{\"colorbar\":{\"outlinewidth\":0,\"ticks\":\"\"}},\"marker\":{\"colorbar\":{\"outlinewidth\":0,\"ticks\":\"\"}}}],\"scattermapbox\":[{\"type\":\"scattermapbox\",\"marker\":{\"colorbar\":{\"outlinewidth\":0,\"ticks\":\"\"}}}],\"scatterternary\":[{\"type\":\"scatterternary\",\"marker\":{\"colorbar\":{\"outlinewidth\":0,\"ticks\":\"\"}}}],\"scattercarpet\":[{\"type\":\"scattercarpet\",\"marker\":{\"colorbar\":{\"outlinewidth\":0,\"ticks\":\"\"}}}],\"carpet\":[{\"aaxis\":{\"endlinecolor\":\"#2a3f5f\",\"gridcolor\":\"white\",\"linecolor\":\"white\",\"minorgridcolor\":\"white\",\"startlinecolor\":\"#2a3f5f\"},\"baxis\":{\"endlinecolor\":\"#2a3f5f\",\"gridcolor\":\"white\",\"linecolor\":\"white\",\"minorgridcolor\":\"white\",\"startlinecolor\":\"#2a3f5f\"},\"type\":\"carpet\"}],\"table\":[{\"cells\":{\"fill\":{\"color\":\"#EBF0F8\"},\"line\":{\"color\":\"white\"}},\"header\":{\"fill\":{\"color\":\"#C8D4E3\"},\"line\":{\"color\":\"white\"}},\"type\":\"table\"}],\"barpolar\":[{\"marker\":{\"line\":{\"color\":\"#E5ECF6\",\"width\":0.5},\"pattern\":{\"fillmode\":\"overlay\",\"size\":10,\"solidity\":0.2}},\"type\":\"barpolar\"}],\"pie\":[{\"automargin\":true,\"type\":\"pie\"}]},\"layout\":{\"autotypenumbers\":\"strict\",\"colorway\":[\"#636efa\",\"#EF553B\",\"#00cc96\",\"#ab63fa\",\"#FFA15A\",\"#19d3f3\",\"#FF6692\",\"#B6E880\",\"#FF97FF\",\"#FECB52\"],\"font\":{\"color\":\"#2a3f5f\"},\"hovermode\":\"closest\",\"hoverlabel\":{\"align\":\"left\"},\"paper_bgcolor\":\"white\",\"plot_bgcolor\":\"#E5ECF6\",\"polar\":{\"bgcolor\":\"#E5ECF6\",\"angularaxis\":{\"gridcolor\":\"white\",\"linecolor\":\"white\",\"ticks\":\"\"},\"radialaxis\":{\"gridcolor\":\"white\",\"linecolor\":\"white\",\"ticks\":\"\"}},\"ternary\":{\"bgcolor\":\"#E5ECF6\",\"aaxis\":{\"gridcolor\":\"white\",\"linecolor\":\"white\",\"ticks\":\"\"},\"baxis\":{\"gridcolor\":\"white\",\"linecolor\":\"white\",\"ticks\":\"\"},\"caxis\":{\"gridcolor\":\"white\",\"linecolor\":\"white\",\"ticks\":\"\"}},\"coloraxis\":{\"colorbar\":{\"outlinewidth\":0,\"ticks\":\"\"}},\"colorscale\":{\"sequential\":[[0.0,\"#0d0887\"],[0.1111111111111111,\"#46039f\"],[0.2222222222222222,\"#7201a8\"],[0.3333333333333333,\"#9c179e\"],[0.4444444444444444,\"#bd3786\"],[0.5555555555555556,\"#d8576b\"],[0.6666666666666666,\"#ed7953\"],[0.7777777777777778,\"#fb9f3a\"],[0.8888888888888888,\"#fdca26\"],[1.0,\"#f0f921\"]],\"sequentialminus\":[[0.0,\"#0d0887\"],[0.1111111111111111,\"#46039f\"],[0.2222222222222222,\"#7201a8\"],[0.3333333333333333,\"#9c179e\"],[0.4444444444444444,\"#bd3786\"],[0.5555555555555556,\"#d8576b\"],[0.6666666666666666,\"#ed7953\"],[0.7777777777777778,\"#fb9f3a\"],[0.8888888888888888,\"#fdca26\"],[1.0,\"#f0f921\"]],\"diverging\":[[0,\"#8e0152\"],[0.1,\"#c51b7d\"],[0.2,\"#de77ae\"],[0.3,\"#f1b6da\"],[0.4,\"#fde0ef\"],[0.5,\"#f7f7f7\"],[0.6,\"#e6f5d0\"],[0.7,\"#b8e186\"],[0.8,\"#7fbc41\"],[0.9,\"#4d9221\"],[1,\"#276419\"]]},\"xaxis\":{\"gridcolor\":\"white\",\"linecolor\":\"white\",\"ticks\":\"\",\"title\":{\"standoff\":15},\"zerolinecolor\":\"white\",\"automargin\":true,\"zerolinewidth\":2},\"yaxis\":{\"gridcolor\":\"white\",\"linecolor\":\"white\",\"ticks\":\"\",\"title\":{\"standoff\":15},\"zerolinecolor\":\"white\",\"automargin\":true,\"zerolinewidth\":2},\"scene\":{\"xaxis\":{\"backgroundcolor\":\"#E5ECF6\",\"gridcolor\":\"white\",\"linecolor\":\"white\",\"showbackground\":true,\"ticks\":\"\",\"zerolinecolor\":\"white\",\"gridwidth\":2},\"yaxis\":{\"backgroundcolor\":\"#E5ECF6\",\"gridcolor\":\"white\",\"linecolor\":\"white\",\"showbackground\":true,\"ticks\":\"\",\"zerolinecolor\":\"white\",\"gridwidth\":2},\"zaxis\":{\"backgroundcolor\":\"#E5ECF6\",\"gridcolor\":\"white\",\"linecolor\":\"white\",\"showbackground\":true,\"ticks\":\"\",\"zerolinecolor\":\"white\",\"gridwidth\":2}},\"shapedefaults\":{\"line\":{\"color\":\"#2a3f5f\"}},\"annotationdefaults\":{\"arrowcolor\":\"#2a3f5f\",\"arrowhead\":0,\"arrowwidth\":1},\"geo\":{\"bgcolor\":\"white\",\"landcolor\":\"#E5ECF6\",\"subunitcolor\":\"white\",\"showland\":true,\"showlakes\":true,\"lakecolor\":\"white\"},\"title\":{\"x\":0.05},\"mapbox\":{\"style\":\"light\"}}},\"xaxis\":{\"anchor\":\"y\",\"domain\":[0.0,1.0],\"title\":{\"text\":\"example\"}},\"yaxis\":{\"anchor\":\"x\",\"domain\":[0.0,1.0],\"title\":{\"text\":\"grade\"},\"tickmode\":\"array\",\"tickvals\":[44,98,152,206,80,134,188,62,116,170],\"ticktext\":[\"D \",\"C \",\"B \",\"A \",\"C-\",\"B-\",\"A-\",\"D+\",\"C+\",\"B+\"]},\"legend\":{\"title\":{\"text\":\"badge_det\"},\"tracegroupgap\":0},\"margin\":{\"t\":60},\"barmode\":\"relative\",\"height\":700},                        {\"responsive\": true}                    ).then(function(){\n",
       "                            \n",
       "var gd = document.getElementById('0f78803e-0985-4d65-abb5-2e8581961225');\n",
       "var x = new MutationObserver(function (mutations, observer) {{\n",
       "        var display = window.getComputedStyle(gd).display;\n",
       "        if (!display || display === 'none') {{\n",
       "            console.log([gd, 'removed!']);\n",
       "            Plotly.purge(gd);\n",
       "            observer.disconnect();\n",
       "        }}\n",
       "}});\n",
       "\n",
       "// Listen for the removal of the full notebook cells\n",
       "var notebookContainer = gd.closest('#notebook-container');\n",
       "if (notebookContainer) {{\n",
       "    x.observe(notebookContainer, {childList: true});\n",
       "}}\n",
       "\n",
       "// Listen for the clearing of the current output cell\n",
       "var outputEl = gd.closest('.output');\n",
       "if (outputEl) {{\n",
       "    x.observe(outputEl, {childList: true});\n",
       "}}\n",
       "\n",
       "                        })                };                });            </script>        </div>"
      ]
     },
     "metadata": {},
     "output_type": "display_data"
    }
   ],
   "source": [
    "# make plot\n",
    "fig_cur = px.bar(per_badge_df_mrw_cletter,x='example',y='influence',color='badge_det',\n",
    "                 hover_data=['badge','count','letter'],height=700)\n",
    "fig_cur.update_layout(yaxis = dict(tickmode='array',\n",
    "                              tickvals = list(thresh_mrw.values()),\n",
    "                              ticktext =list(thresh_mrw.keys()),\n",
    "                                  title='grade'))\n",
    "# fig.update_layout( xaxis={'categoryorder':'array','categoryarray':per_badge_df_mrw_cletter['influence_total'].unique()})\n",
    "fig_cur"
   ]
  },
  {
   "cell_type": "markdown",
   "id": "f0302d90",
   "metadata": {},
   "source": [
    "```{important}\n",
    "the labels on the horizontal axis are just example names, they do not have any meaning, I just have not figured out what I want to replace them with that might have meaning and need some sort of unique identifier there for the plot to work. \n",
    "```"
   ]
  },
  {
   "cell_type": "markdown",
   "id": "f9d2dfff",
   "metadata": {},
   "source": [
    "```{warning}\n",
    "Officially what is on the [](grading) page is what applies if this page is in conflict with that.  \n",
    "```\n",
    "\n",
    "The total influence of a badge on your grade is the product of the badge's weight and its complexity.  All learning badges have a weight of 1, but have varying complexity.  All community badges have a complexity of 1, but the weight of a community badge can vary depending on what learning badges you earn. \n",
    "\n",
    "There are also some hard thresholds on learning badges. \n",
    "You must have:\n",
    "- 22 experience badges to earn a D or above\n",
    "- at least 18 additional badges total across review and practice to earn above C or above\n",
    "\n",
    "Only community badges can make exceptions to these thresholds. So if you are missing learning badges required to get to a threshold, your community badges will fill in for those.  If you meet all of the thresholds, the community badges will be applied with more weight to give you a step up (eg C to C+ or B+ to A-). \n",
    "\n",
    "Community badges have the most weight if you are on track for a grade between D and B+  \n",
    "\n",
    "If you are on track for an A, community badges can be used to fill in for learning badges, so for example, at the end of the semester, you might be able to skip some the low complexity learning badges (experience, review, practice) and focus on your high complexity ones to ensure you get an A. \n",
    "\n",
    "More precisely the order of application for community badges: \n",
    "- to make up missing experience badges \n",
    "- to make up for missing review or practice badge to reach a total of 18 between these two types\n",
    "- to upgrade review to practice to meet a threshold\n",
    "- to give a step up (highest weight)"
   ]
  }
 ],
 "metadata": {
  "jupytext": {
   "formats": "ipynb,md:myst"
  },
  "kernelspec": {
   "display_name": "Python 3 (ipykernel)",
   "language": "python",
   "name": "python3"
  },
  "language_info": {
   "codemirror_mode": {
    "name": "ipython",
    "version": 3
   },
   "file_extension": ".py",
   "mimetype": "text/x-python",
   "name": "python",
   "nbconvert_exporter": "python",
   "pygments_lexer": "ipython3",
   "version": "3.11.4"
  }
 },
 "nbformat": 4,
 "nbformat_minor": 5
}
