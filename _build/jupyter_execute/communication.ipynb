{
 "cells": [
  {
   "cell_type": "markdown",
   "id": "41dfb953",
   "metadata": {},
   "source": [
    "# Office Hours & Communication"
   ]
  },
  {
   "cell_type": "code",
   "execution_count": 1,
   "id": "9ef6ad48",
   "metadata": {
    "tags": [
     "remove-input"
    ]
   },
   "outputs": [],
   "source": [
    "import pandas as pd\n",
    "from IPython.display import display, Markdown, HTML\n",
    "pd.set_option('display.max_colwidth', 0)\n",
    "# df = pd.read_csv('../_data/communication.csv')\n",
    "\n",
    "help_df = pd.read_csv('help_hours.csv')"
   ]
  },
  {
   "cell_type": "markdown",
   "id": "012ebe20",
   "metadata": {},
   "source": [
    "## Announcements\n",
    "\n",
    "Announcements will be made via GitHub Release. You can view them [online in the releases page](https://github.com/compsys-progtools/syllabus/releases) or you can get notifications by watching the repository, choosing \"Releases\" under custom [see GitHub docs for instructions with screenshots](https://docs.github.com/en/account-and-profile/managing-subscriptions-and-notifications-on-github/setting-up-notifications/configuring-notifications#configuring-your-watch-settings-for-an-individual-repository). You can choose GitHub only or e-mail notificaiton [from the notification settings page](https://github.com/settings/notifications)\n",
    "<!-- \n",
    "\n",
    "```{warning}\n",
    "For the first few classes they will be made by BrightSpace too, but that will stop after the second lab. \n",
    "```\n",
    "\n",
    "\n",
    "````{admonition} Sign up to watch\n",
    ":class: community, dropdown\n",
    "\n",
    "Watch the repo and then create a file called `community.md` in your kwl repo and add a link to this section, like: \n",
    "```\n",
    "- [watched the repo as per announcements](https://introcompsys.github.io/spring2023/syllabus/communication.html#announcements) \n",
    "```\n",
    "put this on a branch called `watch_community_badge` and title your PR \"Community-Watch\"\n",
    "````\n",
    " -->\n",
    "\n",
    "## Help Hours"
   ]
  },
  {
   "cell_type": "code",
   "execution_count": 2,
   "id": "6afcb867",
   "metadata": {
    "tags": [
     "remove-input"
    ]
   },
   "outputs": [
    {
     "data": {
      "text/html": [
       "<style type=\"text/css\">\n",
       "</style>\n",
       "<table id=\"T_03054\">\n",
       "  <thead>\n",
       "    <tr>\n",
       "      <th id=\"T_03054_level0_col0\" class=\"col_heading level0 col0\" >Day</th>\n",
       "      <th id=\"T_03054_level0_col1\" class=\"col_heading level0 col1\" >Time</th>\n",
       "      <th id=\"T_03054_level0_col2\" class=\"col_heading level0 col2\" >Location</th>\n",
       "      <th id=\"T_03054_level0_col3\" class=\"col_heading level0 col3\" >Host</th>\n",
       "    </tr>\n",
       "  </thead>\n",
       "  <tbody>\n",
       "    <tr>\n",
       "      <td id=\"T_03054_row0_col0\" class=\"data row0 col0\" >Monday</td>\n",
       "      <td id=\"T_03054_row0_col1\" class=\"data row0 col1\" >11-1</td>\n",
       "      <td id=\"T_03054_row0_col2\" class=\"data row0 col2\" > Zoom</td>\n",
       "      <td id=\"T_03054_row0_col3\" class=\"data row0 col3\" > TA</td>\n",
       "    </tr>\n",
       "    <tr>\n",
       "      <td id=\"T_03054_row1_col0\" class=\"data row1 col0\" >Monday</td>\n",
       "      <td id=\"T_03054_row1_col1\" class=\"data row1 col1\" >4-5</td>\n",
       "      <td id=\"T_03054_row1_col2\" class=\"data row1 col2\" > Zoom</td>\n",
       "      <td id=\"T_03054_row1_col3\" class=\"data row1 col3\" > Dr. Brown</td>\n",
       "    </tr>\n",
       "    <tr>\n",
       "      <td id=\"T_03054_row2_col0\" class=\"data row2 col0\" >Tuesday</td>\n",
       "      <td id=\"T_03054_row2_col1\" class=\"data row2 col1\" >11:15-12:30</td>\n",
       "      <td id=\"T_03054_row2_col2\" class=\"data row2 col2\" >Tyler 140</td>\n",
       "      <td id=\"T_03054_row2_col3\" class=\"data row2 col3\" > TA</td>\n",
       "    </tr>\n",
       "    <tr>\n",
       "      <td id=\"T_03054_row3_col0\" class=\"data row3 col0\" >Wednesday</td>\n",
       "      <td id=\"T_03054_row3_col1\" class=\"data row3 col1\" >1-2</td>\n",
       "      <td id=\"T_03054_row3_col2\" class=\"data row3 col2\" >Zoom</td>\n",
       "      <td id=\"T_03054_row3_col3\" class=\"data row3 col3\" >TA</td>\n",
       "    </tr>\n",
       "    <tr>\n",
       "      <td id=\"T_03054_row4_col0\" class=\"data row4 col0\" >Thursday</td>\n",
       "      <td id=\"T_03054_row4_col1\" class=\"data row4 col1\" >11:15-12:30</td>\n",
       "      <td id=\"T_03054_row4_col2\" class=\"data row4 col2\" >Tyler 140</td>\n",
       "      <td id=\"T_03054_row4_col3\" class=\"data row4 col3\" >TA</td>\n",
       "    </tr>\n",
       "    <tr>\n",
       "      <td id=\"T_03054_row5_col0\" class=\"data row5 col0\" >Friday</td>\n",
       "      <td id=\"T_03054_row5_col1\" class=\"data row5 col1\" >10-11</td>\n",
       "      <td id=\"T_03054_row5_col2\" class=\"data row5 col2\" >Zoom</td>\n",
       "      <td id=\"T_03054_row5_col3\" class=\"data row5 col3\" >TA</td>\n",
       "    </tr>\n",
       "    <tr>\n",
       "      <td id=\"T_03054_row6_col0\" class=\"data row6 col0\" >Friday</td>\n",
       "      <td id=\"T_03054_row6_col1\" class=\"data row6 col1\" >4-5</td>\n",
       "      <td id=\"T_03054_row6_col2\" class=\"data row6 col2\" > Tyler 134</td>\n",
       "      <td id=\"T_03054_row6_col3\" class=\"data row6 col3\" > Dr. Brown </td>\n",
       "    </tr>\n",
       "  </tbody>\n",
       "</table>\n"
      ],
      "text/plain": [
       "<pandas.io.formats.style.Styler at 0x124e2bed0>"
      ]
     },
     "execution_count": 2,
     "metadata": {},
     "output_type": "execute_result"
    }
   ],
   "source": [
    "help_df.style.hide(axis=\"index\")"
   ]
  },
  {
   "cell_type": "markdown",
   "id": "6b6b659f",
   "metadata": {},
   "source": [
    "Online office hours locations are linked on the [GitHub Organization Page](https://github.com/compsys-progtools)\n",
    "\n",
    "```{important}\n",
    "You can only see them if you are a \"member\" to join, use the \"Whole Class Discussion\" link in prismia from the first class. \n",
    "```\n",
    "\n",
    "<!-- \n",
    "## Getting Help \n",
    "\n",
    "- E-mail the instructor and TAs: `cscsystools-help-group@uri.edu`\n",
    "- Post an issue to the course website\n",
    "-  -->\n",
    "\n",
    "<!--\n",
    "Online office hours locations are linked in the #help channel on slack\n",
    "We have several different ways to communicate in this course. This section summarizes them -->\n",
    "\n",
    "<!--\n",
    "## To reach out, By usage\n",
    "\n",
    "```{code-cell}\n",
    ":tags: [\"remove-input\"]\n",
    "\n",
    "df = df[['usage','platform','area','note']]\n",
    "display(HTML(df.style.hide_index()._repr_html_()))\n",
    "```\n",
    "\n",
    "```{note}\n",
    "e-mail is last because it's not collaborative; other platforms allow us (Proessor + TAs) to collaborate on who responds to things more easily.\n",
    "```\n",
    "\n",
    "## By Platform\n",
    "\n",
    "```{code-cell}\n",
    ":tags: [\"remove-input\"]\n",
    "\n",
    "for platform, data in df.groupby('platform'):\n",
    "    display(HTML('<h3> Use '+ platform + ' for </h3>'))\n",
    "    display(HTML(data.drop(columns='platform').style.hide_index()._repr_html_()))\n",
    "\n",
    "``` -->\n",
    "\n",
    "## Tips\n",
    "\n",
    "### For assignment help\n",
    "\n",
    "- **send in advance, leave time for a response** I check e-mail/github a small number of times per day, during work hours, almost exclusively. You might see me post to this site, post to BrightSpace, or comment on your assignments outside of my normal working hours, but I will not reliably see emails that arrive during those hours. This means that it is important to start assignments early.\n",
    "\n",
    "### Using issues\n",
    "\n",
    "- use issues for content directly related to assignments.  If you push your code to the repository and then open an issue, I can see your code and your question at the same time and download it to run it if I need to debug it\n",
    "- use issues for questions about this syllabus or class notes. At the top right there's a GitHub logo {fa}`github` that allows you to open a issue (for a question) or suggest an edit (eg if you think there's a tpo or you find an additional helpful resource related to something)\n",
    "\n",
    "\n",
    "```{admonition} ... \n",
    ":class: anchor,dropdown\n",
    "\n",
    "You can submit a pull request for the typo above, but be sure to check the pull request tab of the repo before submitting to see if it has already been submitted.\n",
    "```\n",
    "\n",
    "### For E-mail\n",
    "\n",
    "- use e-mail for general inquiries or notifications\n",
    "- Please include `[CSC392]`  in the subject line of your email along with the topic of your message. This is important, because your messages are important, but I also get a lot of e-mail. Consider these a cheat code to my inbox: I have setup a filter that will flag your e-mail if you include that in subject to ensure that I see it.\n",
    "\n",
    "```{admonition} Should you e-mail your work? \n",
    ":class: anchor,dropdown\n",
    "\n",
    "No, request a pull request review or make an issue if you are stuck\n",
    "```"
   ]
  }
 ],
 "metadata": {
  "jupytext": {
   "text_representation": {
    "extension": ".md",
    "format_name": "myst",
    "format_version": 0.13,
    "jupytext_version": "1.10.3"
   }
  },
  "kernelspec": {
   "display_name": "Python 3",
   "language": "python",
   "name": "python3"
  },
  "language_info": {
   "codemirror_mode": {
    "name": "ipython",
    "version": 3
   },
   "file_extension": ".py",
   "mimetype": "text/x-python",
   "name": "python",
   "nbconvert_exporter": "python",
   "pygments_lexer": "ipython3",
   "version": "3.11.4"
  },
  "source_map": [
   12,
   19,
   28,
   54,
   58
  ]
 },
 "nbformat": 4,
 "nbformat_minor": 5
}